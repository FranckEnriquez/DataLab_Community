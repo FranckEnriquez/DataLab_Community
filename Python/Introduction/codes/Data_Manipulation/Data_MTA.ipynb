{
 "cells": [
  {
   "cell_type": "code",
   "execution_count": 1,
   "metadata": {
    "ExecuteTime": {
     "end_time": "2018-09-06T00:06:13.873397Z",
     "start_time": "2018-09-06T00:06:09.020548Z"
    },
    "colab": {},
    "colab_type": "code",
    "id": "RYLtB2aOp_W_"
   },
   "outputs": [],
   "source": [
    "import numpy as np\n",
    "import pandas as pd\n",
    "import matplotlib.pyplot as plt"
   ]
  },
  {
   "cell_type": "markdown",
   "metadata": {
    "colab_type": "text",
    "id": "ZMnvCyP8p_XD"
   },
   "source": [
    "# Data Wrangling"
   ]
  },
  {
   "cell_type": "code",
   "execution_count": 2,
   "metadata": {},
   "outputs": [],
   "source": [
    "tray = '../../data/'\n",
    "f1 = 'pasajeros.csv'\n",
    "f2 = 'operaciones.csv'"
   ]
  },
  {
   "cell_type": "code",
   "execution_count": 3,
   "metadata": {
    "ExecuteTime": {
     "end_time": "2018-09-06T00:06:15.317003Z",
     "start_time": "2018-09-06T00:06:14.568703Z"
    },
    "colab": {
     "base_uri": "https://localhost:8080/",
     "height": 448
    },
    "colab_type": "code",
    "executionInfo": {
     "elapsed": 1485,
     "status": "error",
     "timestamp": 1561133124916,
     "user": {
      "displayName": "Irving Simonin",
      "photoUrl": "",
      "userId": "11641242455350035777"
     },
     "user_tz": 300
    },
    "id": "TTmIK3W-p_XD",
    "outputId": "504e80ad-71e0-4a80-8a73-103f2f872f06"
   },
   "outputs": [],
   "source": [
    "pas = pd.read_csv(tray + f1)"
   ]
  },
  {
   "cell_type": "code",
   "execution_count": 4,
   "metadata": {
    "ExecuteTime": {
     "end_time": "2018-09-04T00:15:29.727175Z",
     "start_time": "2018-09-04T00:15:29.607813Z"
    },
    "colab": {},
    "colab_type": "code",
    "id": "hfrSNWS5p_XJ"
   },
   "outputs": [],
   "source": [
    "ops = pd.read_csv(tray + f2)"
   ]
  },
  {
   "cell_type": "code",
   "execution_count": 5,
   "metadata": {
    "ExecuteTime": {
     "end_time": "2018-03-16T00:42:50.113308Z",
     "start_time": "2018-03-16T00:42:50.030513Z"
    },
    "colab": {},
    "colab_type": "code",
    "id": "lD7lMijhp_XG"
   },
   "outputs": [
    {
     "data": {
      "text/html": [
       "<div>\n",
       "<style scoped>\n",
       "    .dataframe tbody tr th:only-of-type {\n",
       "        vertical-align: middle;\n",
       "    }\n",
       "\n",
       "    .dataframe tbody tr th {\n",
       "        vertical-align: top;\n",
       "    }\n",
       "\n",
       "    .dataframe thead th {\n",
       "        text-align: right;\n",
       "    }\n",
       "</style>\n",
       "<table border=\"1\" class=\"dataframe\">\n",
       "  <thead>\n",
       "    <tr style=\"text-align: right;\">\n",
       "      <th></th>\n",
       "      <th>Anio mes</th>\n",
       "      <th>Codigo IATA</th>\n",
       "      <th>Descripcion</th>\n",
       "      <th>Estado</th>\n",
       "      <th>Pasajeros nacionales</th>\n",
       "      <th>Pasajeros internacionales</th>\n",
       "    </tr>\n",
       "  </thead>\n",
       "  <tbody>\n",
       "    <tr>\n",
       "      <th>0</th>\n",
       "      <td>201501</td>\n",
       "      <td>CEN</td>\n",
       "      <td>Ciudad Obregon</td>\n",
       "      <td>Sonora</td>\n",
       "      <td>17149</td>\n",
       "      <td>721</td>\n",
       "    </tr>\n",
       "    <tr>\n",
       "      <th>1</th>\n",
       "      <td>201501</td>\n",
       "      <td>CLQ</td>\n",
       "      <td>Colima</td>\n",
       "      <td>Colima</td>\n",
       "      <td>8486</td>\n",
       "      <td>124</td>\n",
       "    </tr>\n",
       "    <tr>\n",
       "      <th>2</th>\n",
       "      <td>201501</td>\n",
       "      <td>CME</td>\n",
       "      <td>Ciudad del Carmen</td>\n",
       "      <td>Campeche</td>\n",
       "      <td>56079</td>\n",
       "      <td>3126</td>\n",
       "    </tr>\n",
       "    <tr>\n",
       "      <th>3</th>\n",
       "      <td>201501</td>\n",
       "      <td>CPE</td>\n",
       "      <td>Campeche</td>\n",
       "      <td>Campeche</td>\n",
       "      <td>13264</td>\n",
       "      <td>215</td>\n",
       "    </tr>\n",
       "    <tr>\n",
       "      <th>4</th>\n",
       "      <td>201501</td>\n",
       "      <td>CTM</td>\n",
       "      <td>Chetumal</td>\n",
       "      <td>Quintana Roo</td>\n",
       "      <td>13153</td>\n",
       "      <td>0</td>\n",
       "    </tr>\n",
       "  </tbody>\n",
       "</table>\n",
       "</div>"
      ],
      "text/plain": [
       "   Anio mes Codigo IATA        Descripcion        Estado  \\\n",
       "0    201501         CEN     Ciudad Obregon        Sonora   \n",
       "1    201501         CLQ             Colima        Colima   \n",
       "2    201501         CME  Ciudad del Carmen      Campeche   \n",
       "3    201501         CPE           Campeche      Campeche   \n",
       "4    201501         CTM           Chetumal  Quintana Roo   \n",
       "\n",
       "   Pasajeros nacionales  Pasajeros internacionales  \n",
       "0                 17149                        721  \n",
       "1                  8486                        124  \n",
       "2                 56079                       3126  \n",
       "3                 13264                        215  \n",
       "4                 13153                          0  "
      ]
     },
     "execution_count": 5,
     "metadata": {},
     "output_type": "execute_result"
    }
   ],
   "source": [
    "pas.head(5)"
   ]
  },
  {
   "cell_type": "code",
   "execution_count": 6,
   "metadata": {
    "ExecuteTime": {
     "end_time": "2018-03-16T00:42:56.318648Z",
     "start_time": "2018-03-16T00:42:56.304245Z"
    },
    "colab": {},
    "colab_type": "code",
    "id": "qFDs2efkp_XL"
   },
   "outputs": [
    {
     "data": {
      "text/html": [
       "<div>\n",
       "<style scoped>\n",
       "    .dataframe tbody tr th:only-of-type {\n",
       "        vertical-align: middle;\n",
       "    }\n",
       "\n",
       "    .dataframe tbody tr th {\n",
       "        vertical-align: top;\n",
       "    }\n",
       "\n",
       "    .dataframe thead th {\n",
       "        text-align: right;\n",
       "    }\n",
       "</style>\n",
       "<table border=\"1\" class=\"dataframe\">\n",
       "  <thead>\n",
       "    <tr style=\"text-align: right;\">\n",
       "      <th></th>\n",
       "      <th>Anio mes</th>\n",
       "      <th>Codigo IATA</th>\n",
       "      <th>Descripcion</th>\n",
       "      <th>Estado</th>\n",
       "      <th>Operaciones nacionales</th>\n",
       "      <th>Operaciones internacionales</th>\n",
       "    </tr>\n",
       "  </thead>\n",
       "  <tbody>\n",
       "    <tr>\n",
       "      <th>0</th>\n",
       "      <td>201501</td>\n",
       "      <td>CEN</td>\n",
       "      <td>Ciudad Obregon</td>\n",
       "      <td>Sonora</td>\n",
       "      <td>730</td>\n",
       "      <td>137</td>\n",
       "    </tr>\n",
       "    <tr>\n",
       "      <th>1</th>\n",
       "      <td>201501</td>\n",
       "      <td>CLQ</td>\n",
       "      <td>Colima</td>\n",
       "      <td>Colima</td>\n",
       "      <td>468</td>\n",
       "      <td>0</td>\n",
       "    </tr>\n",
       "    <tr>\n",
       "      <th>2</th>\n",
       "      <td>201501</td>\n",
       "      <td>CME</td>\n",
       "      <td>Ciudad del Carmen</td>\n",
       "      <td>Campeche</td>\n",
       "      <td>4750</td>\n",
       "      <td>83</td>\n",
       "    </tr>\n",
       "    <tr>\n",
       "      <th>3</th>\n",
       "      <td>201501</td>\n",
       "      <td>CPE</td>\n",
       "      <td>Campeche</td>\n",
       "      <td>Campeche</td>\n",
       "      <td>398</td>\n",
       "      <td>10</td>\n",
       "    </tr>\n",
       "    <tr>\n",
       "      <th>4</th>\n",
       "      <td>201501</td>\n",
       "      <td>CTM</td>\n",
       "      <td>Chetumal</td>\n",
       "      <td>Quintana Roo</td>\n",
       "      <td>338</td>\n",
       "      <td>0</td>\n",
       "    </tr>\n",
       "  </tbody>\n",
       "</table>\n",
       "</div>"
      ],
      "text/plain": [
       "   Anio mes Codigo IATA        Descripcion        Estado  \\\n",
       "0    201501         CEN     Ciudad Obregon        Sonora   \n",
       "1    201501         CLQ             Colima        Colima   \n",
       "2    201501         CME  Ciudad del Carmen      Campeche   \n",
       "3    201501         CPE           Campeche      Campeche   \n",
       "4    201501         CTM           Chetumal  Quintana Roo   \n",
       "\n",
       "   Operaciones nacionales  Operaciones internacionales  \n",
       "0                     730                          137  \n",
       "1                     468                            0  \n",
       "2                    4750                           83  \n",
       "3                     398                           10  \n",
       "4                     338                            0  "
      ]
     },
     "execution_count": 6,
     "metadata": {},
     "output_type": "execute_result"
    }
   ],
   "source": [
    "ops.head(5)"
   ]
  },
  {
   "cell_type": "markdown",
   "metadata": {
    "colab_type": "text",
    "id": "2p8IwM-Ap_XN"
   },
   "source": [
    "## Dataframes\n",
    "\n",
    "Los dataframes están constituidos de columnas, que son objetos [Series](https://pandas.pydata.org/pandas-docs/stable/generated/pandas.Series.html). Contienen al menos un índice (por default numérico).\n",
    "\n",
    "En este caso, el índice se leyó como la primera columna (Anio mes)."
   ]
  },
  {
   "cell_type": "code",
   "execution_count": 29,
   "metadata": {
    "ExecuteTime": {
     "end_time": "2018-03-14T01:26:30.773089Z",
     "start_time": "2018-03-14T01:26:30.764722Z"
    },
    "colab": {},
    "colab_type": "code",
    "id": "dSTNE5jMp_XO"
   },
   "outputs": [
    {
     "data": {
      "text/plain": [
       "RangeIndex(start=0, stop=980, step=1)"
      ]
     },
     "execution_count": 29,
     "metadata": {},
     "output_type": "execute_result"
    }
   ],
   "source": [
    "pas.index"
   ]
  },
  {
   "cell_type": "code",
   "execution_count": 30,
   "metadata": {
    "ExecuteTime": {
     "end_time": "2018-03-14T01:27:52.679952Z",
     "start_time": "2018-03-14T01:27:52.659056Z"
    },
    "colab": {},
    "colab_type": "code",
    "id": "P6MR8x6xp_XQ"
   },
   "outputs": [
    {
     "data": {
      "text/html": [
       "<div>\n",
       "<style scoped>\n",
       "    .dataframe tbody tr th:only-of-type {\n",
       "        vertical-align: middle;\n",
       "    }\n",
       "\n",
       "    .dataframe tbody tr th {\n",
       "        vertical-align: top;\n",
       "    }\n",
       "\n",
       "    .dataframe thead th {\n",
       "        text-align: right;\n",
       "    }\n",
       "</style>\n",
       "<table border=\"1\" class=\"dataframe\">\n",
       "  <thead>\n",
       "    <tr style=\"text-align: right;\">\n",
       "      <th></th>\n",
       "      <th>index</th>\n",
       "      <th>Anio mes</th>\n",
       "      <th>Codigo IATA</th>\n",
       "      <th>Descripcion</th>\n",
       "      <th>Estado</th>\n",
       "      <th>Pasajeros nacionales</th>\n",
       "      <th>Pasajeros internacionales</th>\n",
       "    </tr>\n",
       "  </thead>\n",
       "  <tbody>\n",
       "    <tr>\n",
       "      <th>0</th>\n",
       "      <td>0</td>\n",
       "      <td>201501</td>\n",
       "      <td>CEN</td>\n",
       "      <td>Ciudad Obregon</td>\n",
       "      <td>Sonora</td>\n",
       "      <td>17149</td>\n",
       "      <td>721</td>\n",
       "    </tr>\n",
       "    <tr>\n",
       "      <th>1</th>\n",
       "      <td>1</td>\n",
       "      <td>201501</td>\n",
       "      <td>CLQ</td>\n",
       "      <td>Colima</td>\n",
       "      <td>Colima</td>\n",
       "      <td>8486</td>\n",
       "      <td>124</td>\n",
       "    </tr>\n",
       "    <tr>\n",
       "      <th>2</th>\n",
       "      <td>2</td>\n",
       "      <td>201501</td>\n",
       "      <td>CME</td>\n",
       "      <td>Ciudad del Carmen</td>\n",
       "      <td>Campeche</td>\n",
       "      <td>56079</td>\n",
       "      <td>3126</td>\n",
       "    </tr>\n",
       "    <tr>\n",
       "      <th>3</th>\n",
       "      <td>3</td>\n",
       "      <td>201501</td>\n",
       "      <td>CPE</td>\n",
       "      <td>Campeche</td>\n",
       "      <td>Campeche</td>\n",
       "      <td>13264</td>\n",
       "      <td>215</td>\n",
       "    </tr>\n",
       "    <tr>\n",
       "      <th>4</th>\n",
       "      <td>4</td>\n",
       "      <td>201501</td>\n",
       "      <td>CTM</td>\n",
       "      <td>Chetumal</td>\n",
       "      <td>Quintana Roo</td>\n",
       "      <td>13153</td>\n",
       "      <td>0</td>\n",
       "    </tr>\n",
       "  </tbody>\n",
       "</table>\n",
       "</div>"
      ],
      "text/plain": [
       "   index  Anio mes Codigo IATA        Descripcion        Estado  \\\n",
       "0      0    201501         CEN     Ciudad Obregon        Sonora   \n",
       "1      1    201501         CLQ             Colima        Colima   \n",
       "2      2    201501         CME  Ciudad del Carmen      Campeche   \n",
       "3      3    201501         CPE           Campeche      Campeche   \n",
       "4      4    201501         CTM           Chetumal  Quintana Roo   \n",
       "\n",
       "   Pasajeros nacionales  Pasajeros internacionales  \n",
       "0                 17149                        721  \n",
       "1                  8486                        124  \n",
       "2                 56079                       3126  \n",
       "3                 13264                        215  \n",
       "4                 13153                          0  "
      ]
     },
     "execution_count": 30,
     "metadata": {},
     "output_type": "execute_result"
    }
   ],
   "source": [
    "pas.reset_index().head(5)"
   ]
  },
  {
   "cell_type": "markdown",
   "metadata": {
    "colab_type": "text",
    "id": "0TXAev5Op_XT"
   },
   "source": [
    "Acceder a nombres de columnas."
   ]
  },
  {
   "cell_type": "code",
   "execution_count": 31,
   "metadata": {
    "ExecuteTime": {
     "end_time": "2018-03-14T01:26:37.027987Z",
     "start_time": "2018-03-14T01:26:37.013705Z"
    },
    "colab": {},
    "colab_type": "code",
    "id": "xWL_W_ULp_XU"
   },
   "outputs": [
    {
     "data": {
      "text/plain": [
       "Index(['Anio mes', 'Codigo IATA', 'Descripcion', 'Estado',\n",
       "       'Pasajeros nacionales', 'Pasajeros internacionales'],\n",
       "      dtype='object')"
      ]
     },
     "execution_count": 31,
     "metadata": {},
     "output_type": "execute_result"
    }
   ],
   "source": [
    "pas.columns"
   ]
  },
  {
   "cell_type": "markdown",
   "metadata": {
    "colab_type": "text",
    "id": "kw6uDcQwp_XZ"
   },
   "source": [
    "Tanto los índices como las columnas son iterables."
   ]
  },
  {
   "cell_type": "code",
   "execution_count": 32,
   "metadata": {
    "ExecuteTime": {
     "end_time": "2018-03-14T01:28:06.166184Z",
     "start_time": "2018-03-14T01:28:06.161001Z"
    },
    "colab": {},
    "colab_type": "code",
    "id": "P-LFF_qip_Xa"
   },
   "outputs": [
    {
     "name": "stdout",
     "output_type": "stream",
     "text": [
      "Anio mes\n",
      "Codigo IATA\n",
      "Descripcion\n",
      "Estado\n",
      "Pasajeros nacionales\n",
      "Pasajeros internacionales\n"
     ]
    }
   ],
   "source": [
    "for col in pas.columns:\n",
    "    print(col)"
   ]
  },
  {
   "cell_type": "markdown",
   "metadata": {
    "colab_type": "text",
    "id": "P1nVYOzsp_Xe"
   },
   "source": [
    "### Indices\n",
    "\n",
    "Usemos dataframes cuyos índices sean numéricos sobre la posición."
   ]
  },
  {
   "cell_type": "code",
   "execution_count": 33,
   "metadata": {
    "ExecuteTime": {
     "end_time": "2018-03-14T00:00:53.781054Z",
     "start_time": "2018-03-14T00:00:53.671491Z"
    },
    "colab": {},
    "colab_type": "code",
    "id": "B8dRUOpjp_Xf"
   },
   "outputs": [],
   "source": [
    "# pas = pas.reset_index()\n",
    "# ops = ops.reset_index()"
   ]
  },
  {
   "cell_type": "code",
   "execution_count": 34,
   "metadata": {
    "ExecuteTime": {
     "end_time": "2018-03-14T01:28:35.342371Z",
     "start_time": "2018-03-14T01:28:35.298872Z"
    },
    "colab": {},
    "colab_type": "code",
    "id": "Nqjk7Cj5p_Xh"
   },
   "outputs": [
    {
     "data": {
      "text/html": [
       "<div>\n",
       "<style scoped>\n",
       "    .dataframe tbody tr th:only-of-type {\n",
       "        vertical-align: middle;\n",
       "    }\n",
       "\n",
       "    .dataframe tbody tr th {\n",
       "        vertical-align: top;\n",
       "    }\n",
       "\n",
       "    .dataframe thead th {\n",
       "        text-align: right;\n",
       "    }\n",
       "</style>\n",
       "<table border=\"1\" class=\"dataframe\">\n",
       "  <thead>\n",
       "    <tr style=\"text-align: right;\">\n",
       "      <th></th>\n",
       "      <th>Codigo IATA</th>\n",
       "      <th>Estado</th>\n",
       "    </tr>\n",
       "  </thead>\n",
       "  <tbody>\n",
       "    <tr>\n",
       "      <th>0</th>\n",
       "      <td>CEN</td>\n",
       "      <td>Sonora</td>\n",
       "    </tr>\n",
       "    <tr>\n",
       "      <th>1</th>\n",
       "      <td>CLQ</td>\n",
       "      <td>Colima</td>\n",
       "    </tr>\n",
       "    <tr>\n",
       "      <th>2</th>\n",
       "      <td>CME</td>\n",
       "      <td>Campeche</td>\n",
       "    </tr>\n",
       "    <tr>\n",
       "      <th>3</th>\n",
       "      <td>CPE</td>\n",
       "      <td>Campeche</td>\n",
       "    </tr>\n",
       "    <tr>\n",
       "      <th>4</th>\n",
       "      <td>CTM</td>\n",
       "      <td>Quintana Roo</td>\n",
       "    </tr>\n",
       "  </tbody>\n",
       "</table>\n",
       "</div>"
      ],
      "text/plain": [
       "  Codigo IATA        Estado\n",
       "0         CEN        Sonora\n",
       "1         CLQ        Colima\n",
       "2         CME      Campeche\n",
       "3         CPE      Campeche\n",
       "4         CTM  Quintana Roo"
      ]
     },
     "execution_count": 34,
     "metadata": {},
     "output_type": "execute_result"
    }
   ],
   "source": [
    "pas[['Codigo IATA', 'Estado']].head(5)"
   ]
  },
  {
   "cell_type": "code",
   "execution_count": 9,
   "metadata": {
    "ExecuteTime": {
     "end_time": "2018-03-14T00:00:53.979323Z",
     "start_time": "2018-03-14T00:00:53.931257Z"
    },
    "colab": {},
    "colab_type": "code",
    "id": "WMbt7_iep_Xk"
   },
   "outputs": [
    {
     "data": {
      "text/html": [
       "<div>\n",
       "<style scoped>\n",
       "    .dataframe tbody tr th:only-of-type {\n",
       "        vertical-align: middle;\n",
       "    }\n",
       "\n",
       "    .dataframe tbody tr th {\n",
       "        vertical-align: top;\n",
       "    }\n",
       "\n",
       "    .dataframe thead th {\n",
       "        text-align: right;\n",
       "    }\n",
       "</style>\n",
       "<table border=\"1\" class=\"dataframe\">\n",
       "  <thead>\n",
       "    <tr style=\"text-align: right;\">\n",
       "      <th></th>\n",
       "      <th>Anio mes</th>\n",
       "      <th>Codigo IATA</th>\n",
       "      <th>Descripcion</th>\n",
       "      <th>Estado</th>\n",
       "      <th>Pasajeros nacionales</th>\n",
       "      <th>Pasajeros internacionales</th>\n",
       "    </tr>\n",
       "  </thead>\n",
       "  <tbody>\n",
       "    <tr>\n",
       "      <th>0</th>\n",
       "      <td>201501</td>\n",
       "      <td>CEN</td>\n",
       "      <td>Ciudad Obregon</td>\n",
       "      <td>Sonora</td>\n",
       "      <td>17149</td>\n",
       "      <td>721</td>\n",
       "    </tr>\n",
       "    <tr>\n",
       "      <th>1</th>\n",
       "      <td>201501</td>\n",
       "      <td>CLQ</td>\n",
       "      <td>Colima</td>\n",
       "      <td>Colima</td>\n",
       "      <td>8486</td>\n",
       "      <td>124</td>\n",
       "    </tr>\n",
       "    <tr>\n",
       "      <th>2</th>\n",
       "      <td>201501</td>\n",
       "      <td>CME</td>\n",
       "      <td>Ciudad del Carmen</td>\n",
       "      <td>Campeche</td>\n",
       "      <td>56079</td>\n",
       "      <td>3126</td>\n",
       "    </tr>\n",
       "    <tr>\n",
       "      <th>3</th>\n",
       "      <td>201501</td>\n",
       "      <td>CPE</td>\n",
       "      <td>Campeche</td>\n",
       "      <td>Campeche</td>\n",
       "      <td>13264</td>\n",
       "      <td>215</td>\n",
       "    </tr>\n",
       "    <tr>\n",
       "      <th>4</th>\n",
       "      <td>201501</td>\n",
       "      <td>CTM</td>\n",
       "      <td>Chetumal</td>\n",
       "      <td>Quintana Roo</td>\n",
       "      <td>13153</td>\n",
       "      <td>0</td>\n",
       "    </tr>\n",
       "  </tbody>\n",
       "</table>\n",
       "</div>"
      ],
      "text/plain": [
       "   Anio mes Codigo IATA        Descripcion        Estado  \\\n",
       "0    201501         CEN     Ciudad Obregon        Sonora   \n",
       "1    201501         CLQ             Colima        Colima   \n",
       "2    201501         CME  Ciudad del Carmen      Campeche   \n",
       "3    201501         CPE           Campeche      Campeche   \n",
       "4    201501         CTM           Chetumal  Quintana Roo   \n",
       "\n",
       "   Pasajeros nacionales  Pasajeros internacionales  \n",
       "0                 17149                        721  \n",
       "1                  8486                        124  \n",
       "2                 56079                       3126  \n",
       "3                 13264                        215  \n",
       "4                 13153                          0  "
      ]
     },
     "execution_count": 9,
     "metadata": {},
     "output_type": "execute_result"
    }
   ],
   "source": [
    "pas.head(5)"
   ]
  },
  {
   "cell_type": "markdown",
   "metadata": {
    "colab_type": "text",
    "id": "Cwo2Nb_3p_Xl"
   },
   "source": [
    "El método `loc` nos ayuda a acceder a renglones y columnas a través de las etiquetas correspondientes."
   ]
  },
  {
   "cell_type": "code",
   "execution_count": 36,
   "metadata": {
    "ExecuteTime": {
     "end_time": "2018-03-14T01:29:14.353722Z",
     "start_time": "2018-03-14T01:29:14.319058Z"
    },
    "colab": {},
    "colab_type": "code",
    "id": "3pEY42Tep_Xm"
   },
   "outputs": [
    {
     "data": {
      "text/plain": [
       "0     CEN\n",
       "1     CLQ\n",
       "2     CME\n",
       "3     CPE\n",
       "4     CTM\n",
       "5     CVM\n",
       "6     GYM\n",
       "7     LTO\n",
       "8     MAM\n",
       "9     NLD\n",
       "10    NOG\n",
       "Name: Codigo IATA, dtype: object"
      ]
     },
     "execution_count": 36,
     "metadata": {},
     "output_type": "execute_result"
    }
   ],
   "source": [
    "pas.loc[0:10, 'Codigo IATA']"
   ]
  },
  {
   "cell_type": "code",
   "execution_count": 10,
   "metadata": {},
   "outputs": [
    {
     "data": {
      "text/html": [
       "<div>\n",
       "<style scoped>\n",
       "    .dataframe tbody tr th:only-of-type {\n",
       "        vertical-align: middle;\n",
       "    }\n",
       "\n",
       "    .dataframe tbody tr th {\n",
       "        vertical-align: top;\n",
       "    }\n",
       "\n",
       "    .dataframe thead th {\n",
       "        text-align: right;\n",
       "    }\n",
       "</style>\n",
       "<table border=\"1\" class=\"dataframe\">\n",
       "  <thead>\n",
       "    <tr style=\"text-align: right;\">\n",
       "      <th></th>\n",
       "      <th>Codigo IATA</th>\n",
       "      <th>Descripcion</th>\n",
       "    </tr>\n",
       "  </thead>\n",
       "  <tbody>\n",
       "    <tr>\n",
       "      <th>0</th>\n",
       "      <td>CEN</td>\n",
       "      <td>Ciudad Obregon</td>\n",
       "    </tr>\n",
       "    <tr>\n",
       "      <th>1</th>\n",
       "      <td>CLQ</td>\n",
       "      <td>Colima</td>\n",
       "    </tr>\n",
       "    <tr>\n",
       "      <th>2</th>\n",
       "      <td>CME</td>\n",
       "      <td>Ciudad del Carmen</td>\n",
       "    </tr>\n",
       "    <tr>\n",
       "      <th>3</th>\n",
       "      <td>CPE</td>\n",
       "      <td>Campeche</td>\n",
       "    </tr>\n",
       "    <tr>\n",
       "      <th>4</th>\n",
       "      <td>CTM</td>\n",
       "      <td>Chetumal</td>\n",
       "    </tr>\n",
       "    <tr>\n",
       "      <th>5</th>\n",
       "      <td>CVM</td>\n",
       "      <td>Ciudad Victoria</td>\n",
       "    </tr>\n",
       "    <tr>\n",
       "      <th>6</th>\n",
       "      <td>GYM</td>\n",
       "      <td>Guaymas</td>\n",
       "    </tr>\n",
       "    <tr>\n",
       "      <th>7</th>\n",
       "      <td>LTO</td>\n",
       "      <td>Loreto</td>\n",
       "    </tr>\n",
       "    <tr>\n",
       "      <th>8</th>\n",
       "      <td>MAM</td>\n",
       "      <td>Matamoros</td>\n",
       "    </tr>\n",
       "    <tr>\n",
       "      <th>9</th>\n",
       "      <td>NLD</td>\n",
       "      <td>Nuevo Laredo</td>\n",
       "    </tr>\n",
       "    <tr>\n",
       "      <th>10</th>\n",
       "      <td>NOG</td>\n",
       "      <td>Nogales</td>\n",
       "    </tr>\n",
       "  </tbody>\n",
       "</table>\n",
       "</div>"
      ],
      "text/plain": [
       "   Codigo IATA        Descripcion\n",
       "0          CEN     Ciudad Obregon\n",
       "1          CLQ             Colima\n",
       "2          CME  Ciudad del Carmen\n",
       "3          CPE           Campeche\n",
       "4          CTM           Chetumal\n",
       "5          CVM    Ciudad Victoria\n",
       "6          GYM            Guaymas\n",
       "7          LTO             Loreto\n",
       "8          MAM          Matamoros\n",
       "9          NLD       Nuevo Laredo\n",
       "10         NOG            Nogales"
      ]
     },
     "execution_count": 10,
     "metadata": {},
     "output_type": "execute_result"
    }
   ],
   "source": [
    "pas.loc[0:10, ['Codigo IATA','Descripcion']]"
   ]
  },
  {
   "cell_type": "code",
   "execution_count": 13,
   "metadata": {
    "ExecuteTime": {
     "end_time": "2018-03-14T01:29:32.385131Z",
     "start_time": "2018-03-14T01:29:32.335322Z"
    },
    "colab": {},
    "colab_type": "code",
    "id": "IwxmPmfyp_Xq"
   },
   "outputs": [
    {
     "data": {
      "text/html": [
       "<div>\n",
       "<style scoped>\n",
       "    .dataframe tbody tr th:only-of-type {\n",
       "        vertical-align: middle;\n",
       "    }\n",
       "\n",
       "    .dataframe tbody tr th {\n",
       "        vertical-align: top;\n",
       "    }\n",
       "\n",
       "    .dataframe thead th {\n",
       "        text-align: right;\n",
       "    }\n",
       "</style>\n",
       "<table border=\"1\" class=\"dataframe\">\n",
       "  <thead>\n",
       "    <tr style=\"text-align: right;\">\n",
       "      <th></th>\n",
       "      <th>Anio mes</th>\n",
       "      <th>Codigo IATA</th>\n",
       "      <th>Descripcion</th>\n",
       "      <th>Estado</th>\n",
       "      <th>Pasajeros nacionales</th>\n",
       "      <th>Pasajeros internacionales</th>\n",
       "    </tr>\n",
       "  </thead>\n",
       "  <tbody>\n",
       "    <tr>\n",
       "      <th>0</th>\n",
       "      <td>201501</td>\n",
       "      <td>CEN</td>\n",
       "      <td>Ciudad Obregon</td>\n",
       "      <td>Sonora</td>\n",
       "      <td>17149</td>\n",
       "      <td>721</td>\n",
       "    </tr>\n",
       "    <tr>\n",
       "      <th>1</th>\n",
       "      <td>201501</td>\n",
       "      <td>CLQ</td>\n",
       "      <td>Colima</td>\n",
       "      <td>Colima</td>\n",
       "      <td>8486</td>\n",
       "      <td>124</td>\n",
       "    </tr>\n",
       "    <tr>\n",
       "      <th>2</th>\n",
       "      <td>201501</td>\n",
       "      <td>CME</td>\n",
       "      <td>Ciudad del Carmen</td>\n",
       "      <td>Campeche</td>\n",
       "      <td>56079</td>\n",
       "      <td>3126</td>\n",
       "    </tr>\n",
       "    <tr>\n",
       "      <th>3</th>\n",
       "      <td>201501</td>\n",
       "      <td>CPE</td>\n",
       "      <td>Campeche</td>\n",
       "      <td>Campeche</td>\n",
       "      <td>13264</td>\n",
       "      <td>215</td>\n",
       "    </tr>\n",
       "    <tr>\n",
       "      <th>4</th>\n",
       "      <td>201501</td>\n",
       "      <td>CTM</td>\n",
       "      <td>Chetumal</td>\n",
       "      <td>Quintana Roo</td>\n",
       "      <td>13153</td>\n",
       "      <td>0</td>\n",
       "    </tr>\n",
       "    <tr>\n",
       "      <th>5</th>\n",
       "      <td>201501</td>\n",
       "      <td>CVM</td>\n",
       "      <td>Ciudad Victoria</td>\n",
       "      <td>Tamaulipas</td>\n",
       "      <td>4695</td>\n",
       "      <td>139</td>\n",
       "    </tr>\n",
       "    <tr>\n",
       "      <th>6</th>\n",
       "      <td>201501</td>\n",
       "      <td>GYM</td>\n",
       "      <td>Guaymas</td>\n",
       "      <td>Sonora</td>\n",
       "      <td>1315</td>\n",
       "      <td>386</td>\n",
       "    </tr>\n",
       "    <tr>\n",
       "      <th>7</th>\n",
       "      <td>201501</td>\n",
       "      <td>LTO</td>\n",
       "      <td>Loreto</td>\n",
       "      <td>Baja California  Sur</td>\n",
       "      <td>1050</td>\n",
       "      <td>2684</td>\n",
       "    </tr>\n",
       "    <tr>\n",
       "      <th>8</th>\n",
       "      <td>201501</td>\n",
       "      <td>MAM</td>\n",
       "      <td>Matamoros</td>\n",
       "      <td>Tamaulipas</td>\n",
       "      <td>6684</td>\n",
       "      <td>61</td>\n",
       "    </tr>\n",
       "    <tr>\n",
       "      <th>9</th>\n",
       "      <td>201501</td>\n",
       "      <td>NLD</td>\n",
       "      <td>Nuevo Laredo</td>\n",
       "      <td>Tamaulipas</td>\n",
       "      <td>5609</td>\n",
       "      <td>10</td>\n",
       "    </tr>\n",
       "    <tr>\n",
       "      <th>10</th>\n",
       "      <td>201501</td>\n",
       "      <td>NOG</td>\n",
       "      <td>Nogales</td>\n",
       "      <td>Sonora</td>\n",
       "      <td>257</td>\n",
       "      <td>37</td>\n",
       "    </tr>\n",
       "  </tbody>\n",
       "</table>\n",
       "</div>"
      ],
      "text/plain": [
       "    Anio mes Codigo IATA        Descripcion                Estado  \\\n",
       "0     201501         CEN     Ciudad Obregon                Sonora   \n",
       "1     201501         CLQ             Colima                Colima   \n",
       "2     201501         CME  Ciudad del Carmen              Campeche   \n",
       "3     201501         CPE           Campeche              Campeche   \n",
       "4     201501         CTM           Chetumal          Quintana Roo   \n",
       "5     201501         CVM    Ciudad Victoria            Tamaulipas   \n",
       "6     201501         GYM            Guaymas                Sonora   \n",
       "7     201501         LTO             Loreto  Baja California  Sur   \n",
       "8     201501         MAM          Matamoros            Tamaulipas   \n",
       "9     201501         NLD       Nuevo Laredo            Tamaulipas   \n",
       "10    201501         NOG            Nogales                Sonora   \n",
       "\n",
       "    Pasajeros nacionales  Pasajeros internacionales  \n",
       "0                  17149                        721  \n",
       "1                   8486                        124  \n",
       "2                  56079                       3126  \n",
       "3                  13264                        215  \n",
       "4                  13153                          0  \n",
       "5                   4695                        139  \n",
       "6                   1315                        386  \n",
       "7                   1050                       2684  \n",
       "8                   6684                         61  \n",
       "9                   5609                         10  \n",
       "10                   257                         37  "
      ]
     },
     "execution_count": 13,
     "metadata": {},
     "output_type": "execute_result"
    }
   ],
   "source": [
    "pas.loc[0:10, :]"
   ]
  },
  {
   "cell_type": "markdown",
   "metadata": {
    "colab_type": "text",
    "id": "7YF5q5fmp_Xu"
   },
   "source": [
    "No podemos acceder por posición."
   ]
  },
  {
   "cell_type": "code",
   "execution_count": 38,
   "metadata": {
    "ExecuteTime": {
     "end_time": "2018-03-14T01:29:56.771328Z",
     "start_time": "2018-03-14T01:29:56.636033Z"
    },
    "colab": {},
    "colab_type": "code",
    "id": "2NUzavHPp_Xv"
   },
   "outputs": [
    {
     "data": {
      "text/html": [
       "<div>\n",
       "<style scoped>\n",
       "    .dataframe tbody tr th:only-of-type {\n",
       "        vertical-align: middle;\n",
       "    }\n",
       "\n",
       "    .dataframe tbody tr th {\n",
       "        vertical-align: top;\n",
       "    }\n",
       "\n",
       "    .dataframe thead th {\n",
       "        text-align: right;\n",
       "    }\n",
       "</style>\n",
       "<table border=\"1\" class=\"dataframe\">\n",
       "  <thead>\n",
       "    <tr style=\"text-align: right;\">\n",
       "      <th></th>\n",
       "      <th>Anio mes</th>\n",
       "      <th>Codigo IATA</th>\n",
       "      <th>Descripcion</th>\n",
       "    </tr>\n",
       "  </thead>\n",
       "  <tbody>\n",
       "    <tr>\n",
       "      <th>0</th>\n",
       "      <td>201501</td>\n",
       "      <td>CEN</td>\n",
       "      <td>Ciudad Obregon</td>\n",
       "    </tr>\n",
       "    <tr>\n",
       "      <th>1</th>\n",
       "      <td>201501</td>\n",
       "      <td>CLQ</td>\n",
       "      <td>Colima</td>\n",
       "    </tr>\n",
       "    <tr>\n",
       "      <th>2</th>\n",
       "      <td>201501</td>\n",
       "      <td>CME</td>\n",
       "      <td>Ciudad del Carmen</td>\n",
       "    </tr>\n",
       "    <tr>\n",
       "      <th>3</th>\n",
       "      <td>201501</td>\n",
       "      <td>CPE</td>\n",
       "      <td>Campeche</td>\n",
       "    </tr>\n",
       "    <tr>\n",
       "      <th>4</th>\n",
       "      <td>201501</td>\n",
       "      <td>CTM</td>\n",
       "      <td>Chetumal</td>\n",
       "    </tr>\n",
       "    <tr>\n",
       "      <th>5</th>\n",
       "      <td>201501</td>\n",
       "      <td>CVM</td>\n",
       "      <td>Ciudad Victoria</td>\n",
       "    </tr>\n",
       "    <tr>\n",
       "      <th>6</th>\n",
       "      <td>201501</td>\n",
       "      <td>GYM</td>\n",
       "      <td>Guaymas</td>\n",
       "    </tr>\n",
       "    <tr>\n",
       "      <th>7</th>\n",
       "      <td>201501</td>\n",
       "      <td>LTO</td>\n",
       "      <td>Loreto</td>\n",
       "    </tr>\n",
       "    <tr>\n",
       "      <th>8</th>\n",
       "      <td>201501</td>\n",
       "      <td>MAM</td>\n",
       "      <td>Matamoros</td>\n",
       "    </tr>\n",
       "    <tr>\n",
       "      <th>9</th>\n",
       "      <td>201501</td>\n",
       "      <td>NLD</td>\n",
       "      <td>Nuevo Laredo</td>\n",
       "    </tr>\n",
       "  </tbody>\n",
       "</table>\n",
       "</div>"
      ],
      "text/plain": [
       "   Anio mes Codigo IATA        Descripcion\n",
       "0    201501         CEN     Ciudad Obregon\n",
       "1    201501         CLQ             Colima\n",
       "2    201501         CME  Ciudad del Carmen\n",
       "3    201501         CPE           Campeche\n",
       "4    201501         CTM           Chetumal\n",
       "5    201501         CVM    Ciudad Victoria\n",
       "6    201501         GYM            Guaymas\n",
       "7    201501         LTO             Loreto\n",
       "8    201501         MAM          Matamoros\n",
       "9    201501         NLD       Nuevo Laredo"
      ]
     },
     "execution_count": 38,
     "metadata": {},
     "output_type": "execute_result"
    }
   ],
   "source": [
    "pas.iloc[0:10, 0:3]"
   ]
  },
  {
   "cell_type": "code",
   "execution_count": 39,
   "metadata": {},
   "outputs": [
    {
     "data": {
      "text/html": [
       "<div>\n",
       "<style scoped>\n",
       "    .dataframe tbody tr th:only-of-type {\n",
       "        vertical-align: middle;\n",
       "    }\n",
       "\n",
       "    .dataframe tbody tr th {\n",
       "        vertical-align: top;\n",
       "    }\n",
       "\n",
       "    .dataframe thead th {\n",
       "        text-align: right;\n",
       "    }\n",
       "</style>\n",
       "<table border=\"1\" class=\"dataframe\">\n",
       "  <thead>\n",
       "    <tr style=\"text-align: right;\">\n",
       "      <th></th>\n",
       "      <th>Anio mes</th>\n",
       "      <th>Codigo IATA</th>\n",
       "      <th>Descripcion</th>\n",
       "    </tr>\n",
       "  </thead>\n",
       "  <tbody>\n",
       "    <tr>\n",
       "      <th>0</th>\n",
       "      <td>201501</td>\n",
       "      <td>CEN</td>\n",
       "      <td>Ciudad Obregon</td>\n",
       "    </tr>\n",
       "    <tr>\n",
       "      <th>1</th>\n",
       "      <td>201501</td>\n",
       "      <td>CLQ</td>\n",
       "      <td>Colima</td>\n",
       "    </tr>\n",
       "    <tr>\n",
       "      <th>2</th>\n",
       "      <td>201501</td>\n",
       "      <td>CME</td>\n",
       "      <td>Ciudad del Carmen</td>\n",
       "    </tr>\n",
       "    <tr>\n",
       "      <th>3</th>\n",
       "      <td>201501</td>\n",
       "      <td>CPE</td>\n",
       "      <td>Campeche</td>\n",
       "    </tr>\n",
       "    <tr>\n",
       "      <th>4</th>\n",
       "      <td>201501</td>\n",
       "      <td>CTM</td>\n",
       "      <td>Chetumal</td>\n",
       "    </tr>\n",
       "    <tr>\n",
       "      <th>5</th>\n",
       "      <td>201501</td>\n",
       "      <td>CVM</td>\n",
       "      <td>Ciudad Victoria</td>\n",
       "    </tr>\n",
       "    <tr>\n",
       "      <th>6</th>\n",
       "      <td>201501</td>\n",
       "      <td>GYM</td>\n",
       "      <td>Guaymas</td>\n",
       "    </tr>\n",
       "    <tr>\n",
       "      <th>7</th>\n",
       "      <td>201501</td>\n",
       "      <td>LTO</td>\n",
       "      <td>Loreto</td>\n",
       "    </tr>\n",
       "    <tr>\n",
       "      <th>8</th>\n",
       "      <td>201501</td>\n",
       "      <td>MAM</td>\n",
       "      <td>Matamoros</td>\n",
       "    </tr>\n",
       "    <tr>\n",
       "      <th>9</th>\n",
       "      <td>201501</td>\n",
       "      <td>NLD</td>\n",
       "      <td>Nuevo Laredo</td>\n",
       "    </tr>\n",
       "    <tr>\n",
       "      <th>10</th>\n",
       "      <td>201501</td>\n",
       "      <td>NOG</td>\n",
       "      <td>Nogales</td>\n",
       "    </tr>\n",
       "  </tbody>\n",
       "</table>\n",
       "</div>"
      ],
      "text/plain": [
       "    Anio mes Codigo IATA        Descripcion\n",
       "0     201501         CEN     Ciudad Obregon\n",
       "1     201501         CLQ             Colima\n",
       "2     201501         CME  Ciudad del Carmen\n",
       "3     201501         CPE           Campeche\n",
       "4     201501         CTM           Chetumal\n",
       "5     201501         CVM    Ciudad Victoria\n",
       "6     201501         GYM            Guaymas\n",
       "7     201501         LTO             Loreto\n",
       "8     201501         MAM          Matamoros\n",
       "9     201501         NLD       Nuevo Laredo\n",
       "10    201501         NOG            Nogales"
      ]
     },
     "execution_count": 39,
     "metadata": {},
     "output_type": "execute_result"
    }
   ],
   "source": [
    "pas.loc[0:10,['Anio mes','Codigo IATA','Descripcion']]"
   ]
  },
  {
   "cell_type": "code",
   "execution_count": 40,
   "metadata": {
    "ExecuteTime": {
     "end_time": "2018-03-14T01:30:27.820753Z",
     "start_time": "2018-03-14T01:30:27.792325Z"
    },
    "colab": {},
    "colab_type": "code",
    "id": "aZUmN1HWp_Xy"
   },
   "outputs": [
    {
     "data": {
      "text/html": [
       "<div>\n",
       "<style scoped>\n",
       "    .dataframe tbody tr th:only-of-type {\n",
       "        vertical-align: middle;\n",
       "    }\n",
       "\n",
       "    .dataframe tbody tr th {\n",
       "        vertical-align: top;\n",
       "    }\n",
       "\n",
       "    .dataframe thead th {\n",
       "        text-align: right;\n",
       "    }\n",
       "</style>\n",
       "<table border=\"1\" class=\"dataframe\">\n",
       "  <thead>\n",
       "    <tr style=\"text-align: right;\">\n",
       "      <th></th>\n",
       "      <th>Anio mes</th>\n",
       "      <th>Codigo IATA</th>\n",
       "      <th>Descripcion</th>\n",
       "    </tr>\n",
       "  </thead>\n",
       "  <tbody>\n",
       "    <tr>\n",
       "      <th>0</th>\n",
       "      <td>201501</td>\n",
       "      <td>CEN</td>\n",
       "      <td>Ciudad Obregon</td>\n",
       "    </tr>\n",
       "    <tr>\n",
       "      <th>1</th>\n",
       "      <td>201501</td>\n",
       "      <td>CLQ</td>\n",
       "      <td>Colima</td>\n",
       "    </tr>\n",
       "    <tr>\n",
       "      <th>2</th>\n",
       "      <td>201501</td>\n",
       "      <td>CME</td>\n",
       "      <td>Ciudad del Carmen</td>\n",
       "    </tr>\n",
       "    <tr>\n",
       "      <th>3</th>\n",
       "      <td>201501</td>\n",
       "      <td>CPE</td>\n",
       "      <td>Campeche</td>\n",
       "    </tr>\n",
       "    <tr>\n",
       "      <th>4</th>\n",
       "      <td>201501</td>\n",
       "      <td>CTM</td>\n",
       "      <td>Chetumal</td>\n",
       "    </tr>\n",
       "    <tr>\n",
       "      <th>5</th>\n",
       "      <td>201501</td>\n",
       "      <td>CVM</td>\n",
       "      <td>Ciudad Victoria</td>\n",
       "    </tr>\n",
       "    <tr>\n",
       "      <th>6</th>\n",
       "      <td>201501</td>\n",
       "      <td>GYM</td>\n",
       "      <td>Guaymas</td>\n",
       "    </tr>\n",
       "    <tr>\n",
       "      <th>7</th>\n",
       "      <td>201501</td>\n",
       "      <td>LTO</td>\n",
       "      <td>Loreto</td>\n",
       "    </tr>\n",
       "    <tr>\n",
       "      <th>8</th>\n",
       "      <td>201501</td>\n",
       "      <td>MAM</td>\n",
       "      <td>Matamoros</td>\n",
       "    </tr>\n",
       "    <tr>\n",
       "      <th>9</th>\n",
       "      <td>201501</td>\n",
       "      <td>NLD</td>\n",
       "      <td>Nuevo Laredo</td>\n",
       "    </tr>\n",
       "  </tbody>\n",
       "</table>\n",
       "</div>"
      ],
      "text/plain": [
       "   Anio mes Codigo IATA        Descripcion\n",
       "0    201501         CEN     Ciudad Obregon\n",
       "1    201501         CLQ             Colima\n",
       "2    201501         CME  Ciudad del Carmen\n",
       "3    201501         CPE           Campeche\n",
       "4    201501         CTM           Chetumal\n",
       "5    201501         CVM    Ciudad Victoria\n",
       "6    201501         GYM            Guaymas\n",
       "7    201501         LTO             Loreto\n",
       "8    201501         MAM          Matamoros\n",
       "9    201501         NLD       Nuevo Laredo"
      ]
     },
     "execution_count": 40,
     "metadata": {},
     "output_type": "execute_result"
    }
   ],
   "source": [
    "pas.iloc[0:10, 0:3]"
   ]
  },
  {
   "cell_type": "code",
   "execution_count": 41,
   "metadata": {},
   "outputs": [
    {
     "data": {
      "text/html": [
       "<div>\n",
       "<style scoped>\n",
       "    .dataframe tbody tr th:only-of-type {\n",
       "        vertical-align: middle;\n",
       "    }\n",
       "\n",
       "    .dataframe tbody tr th {\n",
       "        vertical-align: top;\n",
       "    }\n",
       "\n",
       "    .dataframe thead th {\n",
       "        text-align: right;\n",
       "    }\n",
       "</style>\n",
       "<table border=\"1\" class=\"dataframe\">\n",
       "  <thead>\n",
       "    <tr style=\"text-align: right;\">\n",
       "      <th></th>\n",
       "      <th>Anio mes</th>\n",
       "      <th>Codigo IATA</th>\n",
       "      <th>Descripcion</th>\n",
       "    </tr>\n",
       "  </thead>\n",
       "  <tbody>\n",
       "    <tr>\n",
       "      <th>0</th>\n",
       "      <td>201501</td>\n",
       "      <td>CEN</td>\n",
       "      <td>Ciudad Obregon</td>\n",
       "    </tr>\n",
       "    <tr>\n",
       "      <th>1</th>\n",
       "      <td>201501</td>\n",
       "      <td>CLQ</td>\n",
       "      <td>Colima</td>\n",
       "    </tr>\n",
       "    <tr>\n",
       "      <th>2</th>\n",
       "      <td>201501</td>\n",
       "      <td>CME</td>\n",
       "      <td>Ciudad del Carmen</td>\n",
       "    </tr>\n",
       "    <tr>\n",
       "      <th>3</th>\n",
       "      <td>201501</td>\n",
       "      <td>CPE</td>\n",
       "      <td>Campeche</td>\n",
       "    </tr>\n",
       "    <tr>\n",
       "      <th>4</th>\n",
       "      <td>201501</td>\n",
       "      <td>CTM</td>\n",
       "      <td>Chetumal</td>\n",
       "    </tr>\n",
       "    <tr>\n",
       "      <th>5</th>\n",
       "      <td>201501</td>\n",
       "      <td>CVM</td>\n",
       "      <td>Ciudad Victoria</td>\n",
       "    </tr>\n",
       "    <tr>\n",
       "      <th>6</th>\n",
       "      <td>201501</td>\n",
       "      <td>GYM</td>\n",
       "      <td>Guaymas</td>\n",
       "    </tr>\n",
       "    <tr>\n",
       "      <th>7</th>\n",
       "      <td>201501</td>\n",
       "      <td>LTO</td>\n",
       "      <td>Loreto</td>\n",
       "    </tr>\n",
       "    <tr>\n",
       "      <th>8</th>\n",
       "      <td>201501</td>\n",
       "      <td>MAM</td>\n",
       "      <td>Matamoros</td>\n",
       "    </tr>\n",
       "    <tr>\n",
       "      <th>9</th>\n",
       "      <td>201501</td>\n",
       "      <td>NLD</td>\n",
       "      <td>Nuevo Laredo</td>\n",
       "    </tr>\n",
       "    <tr>\n",
       "      <th>10</th>\n",
       "      <td>201501</td>\n",
       "      <td>NOG</td>\n",
       "      <td>Nogales</td>\n",
       "    </tr>\n",
       "  </tbody>\n",
       "</table>\n",
       "</div>"
      ],
      "text/plain": [
       "    Anio mes Codigo IATA        Descripcion\n",
       "0     201501         CEN     Ciudad Obregon\n",
       "1     201501         CLQ             Colima\n",
       "2     201501         CME  Ciudad del Carmen\n",
       "3     201501         CPE           Campeche\n",
       "4     201501         CTM           Chetumal\n",
       "5     201501         CVM    Ciudad Victoria\n",
       "6     201501         GYM            Guaymas\n",
       "7     201501         LTO             Loreto\n",
       "8     201501         MAM          Matamoros\n",
       "9     201501         NLD       Nuevo Laredo\n",
       "10    201501         NOG            Nogales"
      ]
     },
     "execution_count": 41,
     "metadata": {},
     "output_type": "execute_result"
    }
   ],
   "source": [
    "pas.loc[0:10, ['Anio mes','Codigo IATA', 'Descripcion']]"
   ]
  },
  {
   "cell_type": "markdown",
   "metadata": {
    "colab_type": "text",
    "id": "bRmhrtQfp_X1"
   },
   "source": [
    "Un ejemplo donde esto hace la diferencia es cuando hemos filtrado un dataframe. Los índices ya no empiezan en cero, porque el cero se filtró."
   ]
  },
  {
   "cell_type": "code",
   "execution_count": 17,
   "metadata": {
    "ExecuteTime": {
     "end_time": "2018-03-14T01:30:40.877244Z",
     "start_time": "2018-03-14T01:30:40.854459Z"
    },
    "colab": {},
    "colab_type": "code",
    "id": "efiT18U7p_X2"
   },
   "outputs": [
    {
     "data": {
      "text/html": [
       "<div>\n",
       "<style scoped>\n",
       "    .dataframe tbody tr th:only-of-type {\n",
       "        vertical-align: middle;\n",
       "    }\n",
       "\n",
       "    .dataframe tbody tr th {\n",
       "        vertical-align: top;\n",
       "    }\n",
       "\n",
       "    .dataframe thead th {\n",
       "        text-align: right;\n",
       "    }\n",
       "</style>\n",
       "<table border=\"1\" class=\"dataframe\">\n",
       "  <thead>\n",
       "    <tr style=\"text-align: right;\">\n",
       "      <th></th>\n",
       "      <th>Anio mes</th>\n",
       "      <th>Codigo IATA</th>\n",
       "      <th>Descripcion</th>\n",
       "      <th>Estado</th>\n",
       "      <th>Pasajeros nacionales</th>\n",
       "      <th>Pasajeros internacionales</th>\n",
       "    </tr>\n",
       "  </thead>\n",
       "  <tbody>\n",
       "    <tr>\n",
       "      <th>8</th>\n",
       "      <td>201501</td>\n",
       "      <td>MAM</td>\n",
       "      <td>Matamoros</td>\n",
       "      <td>Tamaulipas</td>\n",
       "      <td>6684</td>\n",
       "      <td>61</td>\n",
       "    </tr>\n",
       "    <tr>\n",
       "      <th>26</th>\n",
       "      <td>201502</td>\n",
       "      <td>MAM</td>\n",
       "      <td>Matamoros</td>\n",
       "      <td>Tamaulipas</td>\n",
       "      <td>6443</td>\n",
       "      <td>55</td>\n",
       "    </tr>\n",
       "  </tbody>\n",
       "</table>\n",
       "</div>"
      ],
      "text/plain": [
       "    Anio mes Codigo IATA Descripcion      Estado  Pasajeros nacionales  \\\n",
       "8     201501         MAM   Matamoros  Tamaulipas                  6684   \n",
       "26    201502         MAM   Matamoros  Tamaulipas                  6443   \n",
       "\n",
       "    Pasajeros internacionales  \n",
       "8                          61  \n",
       "26                         55  "
      ]
     },
     "execution_count": 17,
     "metadata": {},
     "output_type": "execute_result"
    }
   ],
   "source": [
    "pas[pas['Codigo IATA'] == 'MAM'].head(2)"
   ]
  },
  {
   "cell_type": "code",
   "execution_count": 43,
   "metadata": {
    "ExecuteTime": {
     "end_time": "2018-03-14T01:31:32.025568Z",
     "start_time": "2018-03-14T01:31:31.985385Z"
    },
    "colab": {},
    "colab_type": "code",
    "id": "TA1t0uEDp_X9"
   },
   "outputs": [
    {
     "data": {
      "text/html": [
       "<div>\n",
       "<style scoped>\n",
       "    .dataframe tbody tr th:only-of-type {\n",
       "        vertical-align: middle;\n",
       "    }\n",
       "\n",
       "    .dataframe tbody tr th {\n",
       "        vertical-align: top;\n",
       "    }\n",
       "\n",
       "    .dataframe thead th {\n",
       "        text-align: right;\n",
       "    }\n",
       "</style>\n",
       "<table border=\"1\" class=\"dataframe\">\n",
       "  <thead>\n",
       "    <tr style=\"text-align: right;\">\n",
       "      <th></th>\n",
       "      <th>Anio mes</th>\n",
       "      <th>Codigo IATA</th>\n",
       "      <th>Descripcion</th>\n",
       "      <th>Estado</th>\n",
       "      <th>Pasajeros nacionales</th>\n",
       "      <th>Pasajeros internacionales</th>\n",
       "    </tr>\n",
       "  </thead>\n",
       "  <tbody>\n",
       "    <tr>\n",
       "      <th>8</th>\n",
       "      <td>201501</td>\n",
       "      <td>MAM</td>\n",
       "      <td>Matamoros</td>\n",
       "      <td>Tamaulipas</td>\n",
       "      <td>6684</td>\n",
       "      <td>61</td>\n",
       "    </tr>\n",
       "    <tr>\n",
       "      <th>26</th>\n",
       "      <td>201502</td>\n",
       "      <td>MAM</td>\n",
       "      <td>Matamoros</td>\n",
       "      <td>Tamaulipas</td>\n",
       "      <td>6443</td>\n",
       "      <td>55</td>\n",
       "    </tr>\n",
       "    <tr>\n",
       "      <th>44</th>\n",
       "      <td>201503</td>\n",
       "      <td>MAM</td>\n",
       "      <td>Matamoros</td>\n",
       "      <td>Tamaulipas</td>\n",
       "      <td>7219</td>\n",
       "      <td>89</td>\n",
       "    </tr>\n",
       "    <tr>\n",
       "      <th>62</th>\n",
       "      <td>201504</td>\n",
       "      <td>MAM</td>\n",
       "      <td>Matamoros</td>\n",
       "      <td>Tamaulipas</td>\n",
       "      <td>7838</td>\n",
       "      <td>85</td>\n",
       "    </tr>\n",
       "    <tr>\n",
       "      <th>80</th>\n",
       "      <td>201505</td>\n",
       "      <td>MAM</td>\n",
       "      <td>Matamoros</td>\n",
       "      <td>Tamaulipas</td>\n",
       "      <td>8056</td>\n",
       "      <td>94</td>\n",
       "    </tr>\n",
       "  </tbody>\n",
       "</table>\n",
       "</div>"
      ],
      "text/plain": [
       "    Anio mes Codigo IATA Descripcion      Estado  Pasajeros nacionales  \\\n",
       "8     201501         MAM   Matamoros  Tamaulipas                  6684   \n",
       "26    201502         MAM   Matamoros  Tamaulipas                  6443   \n",
       "44    201503         MAM   Matamoros  Tamaulipas                  7219   \n",
       "62    201504         MAM   Matamoros  Tamaulipas                  7838   \n",
       "80    201505         MAM   Matamoros  Tamaulipas                  8056   \n",
       "\n",
       "    Pasajeros internacionales  \n",
       "8                          61  \n",
       "26                         55  \n",
       "44                         89  \n",
       "62                         85  \n",
       "80                         94  "
      ]
     },
     "execution_count": 43,
     "metadata": {},
     "output_type": "execute_result"
    }
   ],
   "source": [
    "pas_mam = pas[pas['Codigo IATA'] == 'MAM']\n",
    "pas_mam.head(5)"
   ]
  },
  {
   "cell_type": "code",
   "execution_count": 47,
   "metadata": {
    "ExecuteTime": {
     "end_time": "2018-03-14T01:38:11.596067Z",
     "start_time": "2018-03-14T01:38:11.569322Z"
    },
    "colab": {},
    "colab_type": "code",
    "id": "femoFCZcp_YD"
   },
   "outputs": [
    {
     "data": {
      "text/html": [
       "<div>\n",
       "<style scoped>\n",
       "    .dataframe tbody tr th:only-of-type {\n",
       "        vertical-align: middle;\n",
       "    }\n",
       "\n",
       "    .dataframe tbody tr th {\n",
       "        vertical-align: top;\n",
       "    }\n",
       "\n",
       "    .dataframe thead th {\n",
       "        text-align: right;\n",
       "    }\n",
       "</style>\n",
       "<table border=\"1\" class=\"dataframe\">\n",
       "  <thead>\n",
       "    <tr style=\"text-align: right;\">\n",
       "      <th></th>\n",
       "      <th>Anio mes</th>\n",
       "      <th>Codigo IATA</th>\n",
       "      <th>Descripcion</th>\n",
       "      <th>Estado</th>\n",
       "      <th>Pasajeros nacionales</th>\n",
       "      <th>Pasajeros internacionales</th>\n",
       "    </tr>\n",
       "  </thead>\n",
       "  <tbody>\n",
       "    <tr>\n",
       "      <th>8</th>\n",
       "      <td>201501</td>\n",
       "      <td>MAM</td>\n",
       "      <td>Matamoros</td>\n",
       "      <td>Tamaulipas</td>\n",
       "      <td>6684</td>\n",
       "      <td>61</td>\n",
       "    </tr>\n",
       "    <tr>\n",
       "      <th>26</th>\n",
       "      <td>201502</td>\n",
       "      <td>MAM</td>\n",
       "      <td>Matamoros</td>\n",
       "      <td>Tamaulipas</td>\n",
       "      <td>6443</td>\n",
       "      <td>55</td>\n",
       "    </tr>\n",
       "    <tr>\n",
       "      <th>44</th>\n",
       "      <td>201503</td>\n",
       "      <td>MAM</td>\n",
       "      <td>Matamoros</td>\n",
       "      <td>Tamaulipas</td>\n",
       "      <td>7219</td>\n",
       "      <td>89</td>\n",
       "    </tr>\n",
       "    <tr>\n",
       "      <th>62</th>\n",
       "      <td>201504</td>\n",
       "      <td>MAM</td>\n",
       "      <td>Matamoros</td>\n",
       "      <td>Tamaulipas</td>\n",
       "      <td>7838</td>\n",
       "      <td>85</td>\n",
       "    </tr>\n",
       "    <tr>\n",
       "      <th>80</th>\n",
       "      <td>201505</td>\n",
       "      <td>MAM</td>\n",
       "      <td>Matamoros</td>\n",
       "      <td>Tamaulipas</td>\n",
       "      <td>8056</td>\n",
       "      <td>94</td>\n",
       "    </tr>\n",
       "  </tbody>\n",
       "</table>\n",
       "</div>"
      ],
      "text/plain": [
       "    Anio mes Codigo IATA Descripcion      Estado  Pasajeros nacionales  \\\n",
       "8     201501         MAM   Matamoros  Tamaulipas                  6684   \n",
       "26    201502         MAM   Matamoros  Tamaulipas                  6443   \n",
       "44    201503         MAM   Matamoros  Tamaulipas                  7219   \n",
       "62    201504         MAM   Matamoros  Tamaulipas                  7838   \n",
       "80    201505         MAM   Matamoros  Tamaulipas                  8056   \n",
       "\n",
       "    Pasajeros internacionales  \n",
       "8                          61  \n",
       "26                         55  \n",
       "44                         89  \n",
       "62                         85  \n",
       "80                         94  "
      ]
     },
     "execution_count": 47,
     "metadata": {},
     "output_type": "execute_result"
    }
   ],
   "source": [
    "pas_mam.iloc[0:5, :]"
   ]
  },
  {
   "cell_type": "code",
   "execution_count": 48,
   "metadata": {
    "ExecuteTime": {
     "end_time": "2018-03-14T01:36:17.246143Z",
     "start_time": "2018-03-14T01:36:17.233029Z"
    },
    "colab": {},
    "colab_type": "code",
    "id": "mlzMmCtyp_YI"
   },
   "outputs": [
    {
     "data": {
      "text/html": [
       "<div>\n",
       "<style scoped>\n",
       "    .dataframe tbody tr th:only-of-type {\n",
       "        vertical-align: middle;\n",
       "    }\n",
       "\n",
       "    .dataframe tbody tr th {\n",
       "        vertical-align: top;\n",
       "    }\n",
       "\n",
       "    .dataframe thead th {\n",
       "        text-align: right;\n",
       "    }\n",
       "</style>\n",
       "<table border=\"1\" class=\"dataframe\">\n",
       "  <thead>\n",
       "    <tr style=\"text-align: right;\">\n",
       "      <th></th>\n",
       "      <th>Anio mes</th>\n",
       "      <th>Codigo IATA</th>\n",
       "      <th>Descripcion</th>\n",
       "      <th>Estado</th>\n",
       "      <th>Pasajeros nacionales</th>\n",
       "      <th>Pasajeros internacionales</th>\n",
       "    </tr>\n",
       "  </thead>\n",
       "  <tbody>\n",
       "    <tr>\n",
       "      <th>0</th>\n",
       "      <td>201501</td>\n",
       "      <td>CEN</td>\n",
       "      <td>Ciudad Obregon</td>\n",
       "      <td>Sonora</td>\n",
       "      <td>17149</td>\n",
       "      <td>721</td>\n",
       "    </tr>\n",
       "    <tr>\n",
       "      <th>1</th>\n",
       "      <td>201501</td>\n",
       "      <td>CLQ</td>\n",
       "      <td>Colima</td>\n",
       "      <td>Colima</td>\n",
       "      <td>8486</td>\n",
       "      <td>124</td>\n",
       "    </tr>\n",
       "    <tr>\n",
       "      <th>2</th>\n",
       "      <td>201501</td>\n",
       "      <td>CME</td>\n",
       "      <td>Ciudad del Carmen</td>\n",
       "      <td>Campeche</td>\n",
       "      <td>56079</td>\n",
       "      <td>3126</td>\n",
       "    </tr>\n",
       "    <tr>\n",
       "      <th>3</th>\n",
       "      <td>201501</td>\n",
       "      <td>CPE</td>\n",
       "      <td>Campeche</td>\n",
       "      <td>Campeche</td>\n",
       "      <td>13264</td>\n",
       "      <td>215</td>\n",
       "    </tr>\n",
       "    <tr>\n",
       "      <th>4</th>\n",
       "      <td>201501</td>\n",
       "      <td>CTM</td>\n",
       "      <td>Chetumal</td>\n",
       "      <td>Quintana Roo</td>\n",
       "      <td>13153</td>\n",
       "      <td>0</td>\n",
       "    </tr>\n",
       "  </tbody>\n",
       "</table>\n",
       "</div>"
      ],
      "text/plain": [
       "   Anio mes Codigo IATA        Descripcion        Estado  \\\n",
       "0    201501         CEN     Ciudad Obregon        Sonora   \n",
       "1    201501         CLQ             Colima        Colima   \n",
       "2    201501         CME  Ciudad del Carmen      Campeche   \n",
       "3    201501         CPE           Campeche      Campeche   \n",
       "4    201501         CTM           Chetumal  Quintana Roo   \n",
       "\n",
       "   Pasajeros nacionales  Pasajeros internacionales  \n",
       "0                 17149                        721  \n",
       "1                  8486                        124  \n",
       "2                 56079                       3126  \n",
       "3                 13264                        215  \n",
       "4                 13153                          0  "
      ]
     },
     "execution_count": 48,
     "metadata": {},
     "output_type": "execute_result"
    }
   ],
   "source": [
    "pas.head(5)"
   ]
  },
  {
   "cell_type": "code",
   "execution_count": 49,
   "metadata": {
    "ExecuteTime": {
     "end_time": "2018-03-14T01:44:29.551188Z",
     "start_time": "2018-03-14T01:44:29.547730Z"
    },
    "colab": {},
    "colab_type": "code",
    "id": "L3IgZhlap_YL"
   },
   "outputs": [],
   "source": [
    "pas_aux = pas.head(5)"
   ]
  },
  {
   "cell_type": "markdown",
   "metadata": {
    "colab_type": "text",
    "id": "fz79Bw1op_YO"
   },
   "source": [
    "El índice pueden ser otras cosas."
   ]
  },
  {
   "cell_type": "code",
   "execution_count": 50,
   "metadata": {
    "ExecuteTime": {
     "end_time": "2018-03-14T01:44:57.818827Z",
     "start_time": "2018-03-14T01:44:57.815078Z"
    },
    "colab": {},
    "colab_type": "code",
    "id": "UISHW1exp_YO"
   },
   "outputs": [],
   "source": [
    "pas_aux.index = pas_aux['Anio mes']"
   ]
  },
  {
   "cell_type": "code",
   "execution_count": 51,
   "metadata": {
    "ExecuteTime": {
     "end_time": "2018-03-14T01:45:34.996375Z",
     "start_time": "2018-03-14T01:45:34.974292Z"
    },
    "colab": {},
    "colab_type": "code",
    "id": "RXrtvHqtp_YR"
   },
   "outputs": [
    {
     "data": {
      "text/html": [
       "<div>\n",
       "<style scoped>\n",
       "    .dataframe tbody tr th:only-of-type {\n",
       "        vertical-align: middle;\n",
       "    }\n",
       "\n",
       "    .dataframe tbody tr th {\n",
       "        vertical-align: top;\n",
       "    }\n",
       "\n",
       "    .dataframe thead th {\n",
       "        text-align: right;\n",
       "    }\n",
       "</style>\n",
       "<table border=\"1\" class=\"dataframe\">\n",
       "  <thead>\n",
       "    <tr style=\"text-align: right;\">\n",
       "      <th></th>\n",
       "      <th>Anio mes</th>\n",
       "      <th>Codigo IATA</th>\n",
       "      <th>Descripcion</th>\n",
       "      <th>Estado</th>\n",
       "      <th>Pasajeros nacionales</th>\n",
       "      <th>Pasajeros internacionales</th>\n",
       "    </tr>\n",
       "    <tr>\n",
       "      <th>Anio mes</th>\n",
       "      <th></th>\n",
       "      <th></th>\n",
       "      <th></th>\n",
       "      <th></th>\n",
       "      <th></th>\n",
       "      <th></th>\n",
       "    </tr>\n",
       "  </thead>\n",
       "  <tbody>\n",
       "    <tr>\n",
       "      <th>201501</th>\n",
       "      <td>201501</td>\n",
       "      <td>CEN</td>\n",
       "      <td>Ciudad Obregon</td>\n",
       "      <td>Sonora</td>\n",
       "      <td>17149</td>\n",
       "      <td>721</td>\n",
       "    </tr>\n",
       "    <tr>\n",
       "      <th>201501</th>\n",
       "      <td>201501</td>\n",
       "      <td>CLQ</td>\n",
       "      <td>Colima</td>\n",
       "      <td>Colima</td>\n",
       "      <td>8486</td>\n",
       "      <td>124</td>\n",
       "    </tr>\n",
       "    <tr>\n",
       "      <th>201501</th>\n",
       "      <td>201501</td>\n",
       "      <td>CME</td>\n",
       "      <td>Ciudad del Carmen</td>\n",
       "      <td>Campeche</td>\n",
       "      <td>56079</td>\n",
       "      <td>3126</td>\n",
       "    </tr>\n",
       "    <tr>\n",
       "      <th>201501</th>\n",
       "      <td>201501</td>\n",
       "      <td>CPE</td>\n",
       "      <td>Campeche</td>\n",
       "      <td>Campeche</td>\n",
       "      <td>13264</td>\n",
       "      <td>215</td>\n",
       "    </tr>\n",
       "    <tr>\n",
       "      <th>201501</th>\n",
       "      <td>201501</td>\n",
       "      <td>CTM</td>\n",
       "      <td>Chetumal</td>\n",
       "      <td>Quintana Roo</td>\n",
       "      <td>13153</td>\n",
       "      <td>0</td>\n",
       "    </tr>\n",
       "  </tbody>\n",
       "</table>\n",
       "</div>"
      ],
      "text/plain": [
       "          Anio mes Codigo IATA        Descripcion        Estado  \\\n",
       "Anio mes                                                          \n",
       "201501      201501         CEN     Ciudad Obregon        Sonora   \n",
       "201501      201501         CLQ             Colima        Colima   \n",
       "201501      201501         CME  Ciudad del Carmen      Campeche   \n",
       "201501      201501         CPE           Campeche      Campeche   \n",
       "201501      201501         CTM           Chetumal  Quintana Roo   \n",
       "\n",
       "          Pasajeros nacionales  Pasajeros internacionales  \n",
       "Anio mes                                                   \n",
       "201501                   17149                        721  \n",
       "201501                    8486                        124  \n",
       "201501                   56079                       3126  \n",
       "201501                   13264                        215  \n",
       "201501                   13153                          0  "
      ]
     },
     "execution_count": 51,
     "metadata": {},
     "output_type": "execute_result"
    }
   ],
   "source": [
    "pas_aux.loc[201501,:]"
   ]
  },
  {
   "cell_type": "markdown",
   "metadata": {
    "colab_type": "text",
    "id": "1-ucc5a6p_YT",
    "solution2": "shown",
    "solution2_first": true
   },
   "source": [
    "**Ejercicio**: Filtra los datos del estado de Sonora e imprime 10 datos a partir del segundo renglón."
   ]
  },
  {
   "cell_type": "code",
   "execution_count": 52,
   "metadata": {
    "ExecuteTime": {
     "end_time": "2018-03-14T01:46:38.715302Z",
     "start_time": "2018-03-14T01:46:38.691093Z"
    },
    "colab": {},
    "colab_type": "code",
    "id": "eImxvE5dp_YU",
    "scrolled": true,
    "solution2": "shown"
   },
   "outputs": [
    {
     "data": {
      "text/html": [
       "<div>\n",
       "<style scoped>\n",
       "    .dataframe tbody tr th:only-of-type {\n",
       "        vertical-align: middle;\n",
       "    }\n",
       "\n",
       "    .dataframe tbody tr th {\n",
       "        vertical-align: top;\n",
       "    }\n",
       "\n",
       "    .dataframe thead th {\n",
       "        text-align: right;\n",
       "    }\n",
       "</style>\n",
       "<table border=\"1\" class=\"dataframe\">\n",
       "  <thead>\n",
       "    <tr style=\"text-align: right;\">\n",
       "      <th></th>\n",
       "      <th>Anio mes</th>\n",
       "      <th>Codigo IATA</th>\n",
       "      <th>Descripcion</th>\n",
       "      <th>Estado</th>\n",
       "      <th>Pasajeros nacionales</th>\n",
       "      <th>Pasajeros internacionales</th>\n",
       "    </tr>\n",
       "  </thead>\n",
       "  <tbody>\n",
       "    <tr>\n",
       "      <th>6</th>\n",
       "      <td>201501</td>\n",
       "      <td>GYM</td>\n",
       "      <td>Guaymas</td>\n",
       "      <td>Sonora</td>\n",
       "      <td>1315</td>\n",
       "      <td>386</td>\n",
       "    </tr>\n",
       "    <tr>\n",
       "      <th>10</th>\n",
       "      <td>201501</td>\n",
       "      <td>NOG</td>\n",
       "      <td>Nogales</td>\n",
       "      <td>Sonora</td>\n",
       "      <td>257</td>\n",
       "      <td>37</td>\n",
       "    </tr>\n",
       "    <tr>\n",
       "      <th>18</th>\n",
       "      <td>201502</td>\n",
       "      <td>CEN</td>\n",
       "      <td>Ciudad Obregon</td>\n",
       "      <td>Sonora</td>\n",
       "      <td>15430</td>\n",
       "      <td>700</td>\n",
       "    </tr>\n",
       "    <tr>\n",
       "      <th>24</th>\n",
       "      <td>201502</td>\n",
       "      <td>GYM</td>\n",
       "      <td>Guaymas</td>\n",
       "      <td>Sonora</td>\n",
       "      <td>1000</td>\n",
       "      <td>336</td>\n",
       "    </tr>\n",
       "    <tr>\n",
       "      <th>28</th>\n",
       "      <td>201502</td>\n",
       "      <td>NOG</td>\n",
       "      <td>Nogales</td>\n",
       "      <td>Sonora</td>\n",
       "      <td>204</td>\n",
       "      <td>38</td>\n",
       "    </tr>\n",
       "    <tr>\n",
       "      <th>36</th>\n",
       "      <td>201503</td>\n",
       "      <td>CEN</td>\n",
       "      <td>Ciudad Obregon</td>\n",
       "      <td>Sonora</td>\n",
       "      <td>20272</td>\n",
       "      <td>632</td>\n",
       "    </tr>\n",
       "    <tr>\n",
       "      <th>42</th>\n",
       "      <td>201503</td>\n",
       "      <td>GYM</td>\n",
       "      <td>Guaymas</td>\n",
       "      <td>Sonora</td>\n",
       "      <td>1170</td>\n",
       "      <td>556</td>\n",
       "    </tr>\n",
       "    <tr>\n",
       "      <th>46</th>\n",
       "      <td>201503</td>\n",
       "      <td>NOG</td>\n",
       "      <td>Nogales</td>\n",
       "      <td>Sonora</td>\n",
       "      <td>295</td>\n",
       "      <td>54</td>\n",
       "    </tr>\n",
       "    <tr>\n",
       "      <th>54</th>\n",
       "      <td>201504</td>\n",
       "      <td>CEN</td>\n",
       "      <td>Ciudad Obregon</td>\n",
       "      <td>Sonora</td>\n",
       "      <td>19649</td>\n",
       "      <td>539</td>\n",
       "    </tr>\n",
       "    <tr>\n",
       "      <th>60</th>\n",
       "      <td>201504</td>\n",
       "      <td>GYM</td>\n",
       "      <td>Guaymas</td>\n",
       "      <td>Sonora</td>\n",
       "      <td>1322</td>\n",
       "      <td>303</td>\n",
       "    </tr>\n",
       "  </tbody>\n",
       "</table>\n",
       "</div>"
      ],
      "text/plain": [
       "    Anio mes Codigo IATA     Descripcion  Estado  Pasajeros nacionales  \\\n",
       "6     201501         GYM         Guaymas  Sonora                  1315   \n",
       "10    201501         NOG         Nogales  Sonora                   257   \n",
       "18    201502         CEN  Ciudad Obregon  Sonora                 15430   \n",
       "24    201502         GYM         Guaymas  Sonora                  1000   \n",
       "28    201502         NOG         Nogales  Sonora                   204   \n",
       "36    201503         CEN  Ciudad Obregon  Sonora                 20272   \n",
       "42    201503         GYM         Guaymas  Sonora                  1170   \n",
       "46    201503         NOG         Nogales  Sonora                   295   \n",
       "54    201504         CEN  Ciudad Obregon  Sonora                 19649   \n",
       "60    201504         GYM         Guaymas  Sonora                  1322   \n",
       "\n",
       "    Pasajeros internacionales  \n",
       "6                         386  \n",
       "10                         37  \n",
       "18                        700  \n",
       "24                        336  \n",
       "28                         38  \n",
       "36                        632  \n",
       "42                        556  \n",
       "46                         54  \n",
       "54                        539  \n",
       "60                        303  "
      ]
     },
     "execution_count": 52,
     "metadata": {},
     "output_type": "execute_result"
    }
   ],
   "source": [
    "pas[pas.Estado == 'Sonora'].iloc[1:11,:]"
   ]
  },
  {
   "cell_type": "code",
   "execution_count": 53,
   "metadata": {},
   "outputs": [
    {
     "data": {
      "text/html": [
       "<div>\n",
       "<style scoped>\n",
       "    .dataframe tbody tr th:only-of-type {\n",
       "        vertical-align: middle;\n",
       "    }\n",
       "\n",
       "    .dataframe tbody tr th {\n",
       "        vertical-align: top;\n",
       "    }\n",
       "\n",
       "    .dataframe thead th {\n",
       "        text-align: right;\n",
       "    }\n",
       "</style>\n",
       "<table border=\"1\" class=\"dataframe\">\n",
       "  <thead>\n",
       "    <tr style=\"text-align: right;\">\n",
       "      <th></th>\n",
       "      <th>Anio mes</th>\n",
       "      <th>Codigo IATA</th>\n",
       "      <th>Descripcion</th>\n",
       "      <th>Estado</th>\n",
       "      <th>Pasajeros nacionales</th>\n",
       "      <th>Pasajeros internacionales</th>\n",
       "    </tr>\n",
       "  </thead>\n",
       "  <tbody>\n",
       "    <tr>\n",
       "      <th>0</th>\n",
       "      <td>201501</td>\n",
       "      <td>CEN</td>\n",
       "      <td>Ciudad Obregon</td>\n",
       "      <td>Sonora</td>\n",
       "      <td>17149</td>\n",
       "      <td>721</td>\n",
       "    </tr>\n",
       "    <tr>\n",
       "      <th>1</th>\n",
       "      <td>201501</td>\n",
       "      <td>CLQ</td>\n",
       "      <td>Colima</td>\n",
       "      <td>Colima</td>\n",
       "      <td>8486</td>\n",
       "      <td>124</td>\n",
       "    </tr>\n",
       "    <tr>\n",
       "      <th>2</th>\n",
       "      <td>201501</td>\n",
       "      <td>CME</td>\n",
       "      <td>Ciudad del Carmen</td>\n",
       "      <td>Campeche</td>\n",
       "      <td>56079</td>\n",
       "      <td>3126</td>\n",
       "    </tr>\n",
       "    <tr>\n",
       "      <th>3</th>\n",
       "      <td>201501</td>\n",
       "      <td>CPE</td>\n",
       "      <td>Campeche</td>\n",
       "      <td>Campeche</td>\n",
       "      <td>13264</td>\n",
       "      <td>215</td>\n",
       "    </tr>\n",
       "    <tr>\n",
       "      <th>4</th>\n",
       "      <td>201501</td>\n",
       "      <td>CTM</td>\n",
       "      <td>Chetumal</td>\n",
       "      <td>Quintana Roo</td>\n",
       "      <td>13153</td>\n",
       "      <td>0</td>\n",
       "    </tr>\n",
       "    <tr>\n",
       "      <th>...</th>\n",
       "      <td>...</td>\n",
       "      <td>...</td>\n",
       "      <td>...</td>\n",
       "      <td>...</td>\n",
       "      <td>...</td>\n",
       "      <td>...</td>\n",
       "    </tr>\n",
       "    <tr>\n",
       "      <th>973</th>\n",
       "      <td>201905</td>\n",
       "      <td>PAZ</td>\n",
       "      <td>Poza Rica</td>\n",
       "      <td>Veracruz</td>\n",
       "      <td>2519</td>\n",
       "      <td>0</td>\n",
       "    </tr>\n",
       "    <tr>\n",
       "      <th>974</th>\n",
       "      <td>201905</td>\n",
       "      <td>PBC</td>\n",
       "      <td>Puebla</td>\n",
       "      <td>Puebla</td>\n",
       "      <td>65272</td>\n",
       "      <td>3055</td>\n",
       "    </tr>\n",
       "    <tr>\n",
       "      <th>975</th>\n",
       "      <td>201905</td>\n",
       "      <td>PXM</td>\n",
       "      <td>Puerto Escondido</td>\n",
       "      <td>Oaxaca</td>\n",
       "      <td>33745</td>\n",
       "      <td>4</td>\n",
       "    </tr>\n",
       "    <tr>\n",
       "      <th>977</th>\n",
       "      <td>201905</td>\n",
       "      <td>TPQ</td>\n",
       "      <td>Tepic</td>\n",
       "      <td>Nayarit</td>\n",
       "      <td>18872</td>\n",
       "      <td>0</td>\n",
       "    </tr>\n",
       "    <tr>\n",
       "      <th>979</th>\n",
       "      <td>201905</td>\n",
       "      <td>UPN</td>\n",
       "      <td>Uruapan</td>\n",
       "      <td>Michoacan</td>\n",
       "      <td>14139</td>\n",
       "      <td>1206</td>\n",
       "    </tr>\n",
       "  </tbody>\n",
       "</table>\n",
       "<p>771 rows × 6 columns</p>\n",
       "</div>"
      ],
      "text/plain": [
       "     Anio mes Codigo IATA        Descripcion        Estado  \\\n",
       "0      201501         CEN     Ciudad Obregon        Sonora   \n",
       "1      201501         CLQ             Colima        Colima   \n",
       "2      201501         CME  Ciudad del Carmen      Campeche   \n",
       "3      201501         CPE           Campeche      Campeche   \n",
       "4      201501         CTM           Chetumal  Quintana Roo   \n",
       "..        ...         ...                ...           ...   \n",
       "973    201905         PAZ          Poza Rica      Veracruz   \n",
       "974    201905         PBC             Puebla        Puebla   \n",
       "975    201905         PXM   Puerto Escondido        Oaxaca   \n",
       "977    201905         TPQ              Tepic       Nayarit   \n",
       "979    201905         UPN            Uruapan     Michoacan   \n",
       "\n",
       "     Pasajeros nacionales  Pasajeros internacionales  \n",
       "0                   17149                        721  \n",
       "1                    8486                        124  \n",
       "2                   56079                       3126  \n",
       "3                   13264                        215  \n",
       "4                   13153                          0  \n",
       "..                    ...                        ...  \n",
       "973                  2519                          0  \n",
       "974                 65272                       3055  \n",
       "975                 33745                          4  \n",
       "977                 18872                          0  \n",
       "979                 14139                       1206  \n",
       "\n",
       "[771 rows x 6 columns]"
      ]
     },
     "execution_count": 53,
     "metadata": {},
     "output_type": "execute_result"
    }
   ],
   "source": [
    "#Ejercicio: filtrar los estados y años de los pasajeros nacionales que sean mayor a 1000\n",
    "\n",
    "pas[pas['Pasajeros nacionales']>1000]"
   ]
  },
  {
   "cell_type": "markdown",
   "metadata": {
    "colab_type": "text",
    "id": "HDaQzoG-p_YW"
   },
   "source": [
    "### Group by, aggregate"
   ]
  },
  {
   "cell_type": "code",
   "execution_count": 54,
   "metadata": {
    "ExecuteTime": {
     "end_time": "2018-03-14T01:46:51.585160Z",
     "start_time": "2018-03-14T01:46:51.575218Z"
    },
    "colab": {},
    "colab_type": "code",
    "id": "-xLrjNkLp_YX"
   },
   "outputs": [
    {
     "data": {
      "text/plain": [
       "Index(['Anio mes', 'Codigo IATA', 'Descripcion', 'Estado',\n",
       "       'Pasajeros nacionales', 'Pasajeros internacionales'],\n",
       "      dtype='object')"
      ]
     },
     "execution_count": 54,
     "metadata": {},
     "output_type": "execute_result"
    }
   ],
   "source": [
    "pas.columns"
   ]
  },
  {
   "cell_type": "code",
   "execution_count": 55,
   "metadata": {
    "ExecuteTime": {
     "end_time": "2018-03-14T01:46:58.695679Z",
     "start_time": "2018-03-14T01:46:58.684261Z"
    },
    "colab": {},
    "colab_type": "code",
    "id": "KL9Xis6Kp_Ya"
   },
   "outputs": [
    {
     "data": {
      "text/plain": [
       "<pandas.core.groupby.generic.DataFrameGroupBy object at 0x126b17d30>"
      ]
     },
     "execution_count": 55,
     "metadata": {},
     "output_type": "execute_result"
    }
   ],
   "source": [
    "pas.groupby('Estado')"
   ]
  },
  {
   "cell_type": "code",
   "execution_count": 56,
   "metadata": {
    "ExecuteTime": {
     "end_time": "2018-03-14T00:01:53.853630Z",
     "start_time": "2018-03-14T00:01:53.767201Z"
    },
    "colab": {},
    "colab_type": "code",
    "id": "ta0xiiCsp_Ye"
   },
   "outputs": [
    {
     "name": "stdout",
     "output_type": "stream",
     "text": [
      "201501 201905\n"
     ]
    }
   ],
   "source": [
    "print(min(pas['Anio mes']), max(pas['Anio mes']))"
   ]
  },
  {
   "cell_type": "code",
   "execution_count": 57,
   "metadata": {
    "ExecuteTime": {
     "end_time": "2018-03-14T00:01:53.969613Z",
     "start_time": "2018-03-14T00:01:53.857078Z"
    },
    "colab": {},
    "colab_type": "code",
    "id": "jj5Ce3R4p_Yi"
   },
   "outputs": [
    {
     "data": {
      "text/html": [
       "<div>\n",
       "<style scoped>\n",
       "    .dataframe tbody tr th:only-of-type {\n",
       "        vertical-align: middle;\n",
       "    }\n",
       "\n",
       "    .dataframe tbody tr th {\n",
       "        vertical-align: top;\n",
       "    }\n",
       "\n",
       "    .dataframe thead th {\n",
       "        text-align: right;\n",
       "    }\n",
       "</style>\n",
       "<table border=\"1\" class=\"dataframe\">\n",
       "  <thead>\n",
       "    <tr style=\"text-align: right;\">\n",
       "      <th></th>\n",
       "      <th>Anio mes</th>\n",
       "      <th>Codigo IATA</th>\n",
       "      <th>Descripcion</th>\n",
       "      <th>Estado</th>\n",
       "      <th>Pasajeros nacionales</th>\n",
       "      <th>Pasajeros internacionales</th>\n",
       "    </tr>\n",
       "  </thead>\n",
       "  <tbody>\n",
       "    <tr>\n",
       "      <th>0</th>\n",
       "      <td>201501</td>\n",
       "      <td>CEN</td>\n",
       "      <td>Ciudad Obregon</td>\n",
       "      <td>Sonora</td>\n",
       "      <td>17149</td>\n",
       "      <td>721</td>\n",
       "    </tr>\n",
       "    <tr>\n",
       "      <th>1</th>\n",
       "      <td>201501</td>\n",
       "      <td>CLQ</td>\n",
       "      <td>Colima</td>\n",
       "      <td>Colima</td>\n",
       "      <td>8486</td>\n",
       "      <td>124</td>\n",
       "    </tr>\n",
       "    <tr>\n",
       "      <th>2</th>\n",
       "      <td>201501</td>\n",
       "      <td>CME</td>\n",
       "      <td>Ciudad del Carmen</td>\n",
       "      <td>Campeche</td>\n",
       "      <td>56079</td>\n",
       "      <td>3126</td>\n",
       "    </tr>\n",
       "    <tr>\n",
       "      <th>3</th>\n",
       "      <td>201501</td>\n",
       "      <td>CPE</td>\n",
       "      <td>Campeche</td>\n",
       "      <td>Campeche</td>\n",
       "      <td>13264</td>\n",
       "      <td>215</td>\n",
       "    </tr>\n",
       "    <tr>\n",
       "      <th>4</th>\n",
       "      <td>201501</td>\n",
       "      <td>CTM</td>\n",
       "      <td>Chetumal</td>\n",
       "      <td>Quintana Roo</td>\n",
       "      <td>13153</td>\n",
       "      <td>0</td>\n",
       "    </tr>\n",
       "  </tbody>\n",
       "</table>\n",
       "</div>"
      ],
      "text/plain": [
       "   Anio mes Codigo IATA        Descripcion        Estado  \\\n",
       "0    201501         CEN     Ciudad Obregon        Sonora   \n",
       "1    201501         CLQ             Colima        Colima   \n",
       "2    201501         CME  Ciudad del Carmen      Campeche   \n",
       "3    201501         CPE           Campeche      Campeche   \n",
       "4    201501         CTM           Chetumal  Quintana Roo   \n",
       "\n",
       "   Pasajeros nacionales  Pasajeros internacionales  \n",
       "0                 17149                        721  \n",
       "1                  8486                        124  \n",
       "2                 56079                       3126  \n",
       "3                 13264                        215  \n",
       "4                 13153                          0  "
      ]
     },
     "execution_count": 57,
     "metadata": {},
     "output_type": "execute_result"
    }
   ],
   "source": [
    "pas.head(5)"
   ]
  },
  {
   "cell_type": "code",
   "execution_count": 58,
   "metadata": {
    "ExecuteTime": {
     "end_time": "2018-03-14T01:48:06.530696Z",
     "start_time": "2018-03-14T01:48:06.514402Z"
    },
    "colab": {},
    "colab_type": "code",
    "id": "F904nuPvp_Yk"
   },
   "outputs": [
    {
     "data": {
      "text/plain": [
       "<pandas.core.groupby.generic.SeriesGroupBy object at 0x126e12850>"
      ]
     },
     "execution_count": 58,
     "metadata": {},
     "output_type": "execute_result"
    }
   ],
   "source": [
    "pas.groupby('Estado')['Pasajeros nacionales']"
   ]
  },
  {
   "cell_type": "code",
   "execution_count": 59,
   "metadata": {
    "ExecuteTime": {
     "end_time": "2018-03-14T01:48:52.659711Z",
     "start_time": "2018-03-14T01:48:52.639859Z"
    },
    "colab": {},
    "colab_type": "code",
    "id": "_irXLmRUp_Yo"
   },
   "outputs": [
    {
     "data": {
      "text/plain": [
       "Estado\n",
       "Baja California  Sur      96291\n",
       "Campeche                2663585\n",
       "Colima                   624634\n",
       "Michoacan                559182\n",
       "Nayarit                  652209\n",
       "Oaxaca                  1190994\n",
       "Puebla                  1973618\n",
       "Quintana Roo            1138629\n",
       "San Luis Potosi            7487\n",
       "Sonora                  1305129\n",
       "Tamaulipas               978471\n",
       "Veracruz                 162468\n",
       "Name: Pasajeros nacionales, dtype: int64"
      ]
     },
     "execution_count": 59,
     "metadata": {},
     "output_type": "execute_result"
    }
   ],
   "source": [
    "pas.groupby('Estado')['Pasajeros nacionales'].sum()"
   ]
  },
  {
   "cell_type": "code",
   "execution_count": 31,
   "metadata": {},
   "outputs": [
    {
     "data": {
      "text/plain": [
       "Estado\n",
       "Baja California  Sur     1816.811321\n",
       "Campeche                25128.160377\n",
       "Colima                  11785.547170\n",
       "Michoacan               10550.603774\n",
       "Nayarit                 12305.830189\n",
       "Oaxaca                  15075.873418\n",
       "Puebla                  18619.037736\n",
       "Quintana Roo            21483.566038\n",
       "San Luis Potosi           141.264151\n",
       "Sonora                   8208.358491\n",
       "Tamaulipas               6153.905660\n",
       "Veracruz                 3065.433962\n",
       "Name: Pasajeros nacionales, dtype: float64"
      ]
     },
     "execution_count": 31,
     "metadata": {},
     "output_type": "execute_result"
    }
   ],
   "source": [
    "pas.groupby('Estado')['Pasajeros nacionales'].mean()"
   ]
  },
  {
   "cell_type": "code",
   "execution_count": 34,
   "metadata": {},
   "outputs": [
    {
     "data": {
      "text/html": [
       "<div>\n",
       "<style scoped>\n",
       "    .dataframe tbody tr th:only-of-type {\n",
       "        vertical-align: middle;\n",
       "    }\n",
       "\n",
       "    .dataframe tbody tr th {\n",
       "        vertical-align: top;\n",
       "    }\n",
       "\n",
       "    .dataframe thead th {\n",
       "        text-align: right;\n",
       "    }\n",
       "</style>\n",
       "<table border=\"1\" class=\"dataframe\">\n",
       "  <thead>\n",
       "    <tr style=\"text-align: right;\">\n",
       "      <th></th>\n",
       "      <th>Estado</th>\n",
       "      <th>Codigo IATA</th>\n",
       "      <th>Descripcion</th>\n",
       "      <th>Pasajeros nacionales</th>\n",
       "      <th>Pasajeros internacionales</th>\n",
       "    </tr>\n",
       "  </thead>\n",
       "  <tbody>\n",
       "    <tr>\n",
       "      <th>0</th>\n",
       "      <td>Baja California  Sur</td>\n",
       "      <td>LTO</td>\n",
       "      <td>Loreto</td>\n",
       "      <td>1816.811321</td>\n",
       "      <td>4992.716981</td>\n",
       "    </tr>\n",
       "    <tr>\n",
       "      <th>1</th>\n",
       "      <td>Campeche</td>\n",
       "      <td>CME</td>\n",
       "      <td>Ciudad del Carmen</td>\n",
       "      <td>35865.377358</td>\n",
       "      <td>1270.490566</td>\n",
       "    </tr>\n",
       "    <tr>\n",
       "      <th>2</th>\n",
       "      <td>Campeche</td>\n",
       "      <td>CPE</td>\n",
       "      <td>Campeche</td>\n",
       "      <td>14390.943396</td>\n",
       "      <td>186.056604</td>\n",
       "    </tr>\n",
       "    <tr>\n",
       "      <th>3</th>\n",
       "      <td>Colima</td>\n",
       "      <td>CLQ</td>\n",
       "      <td>Colima</td>\n",
       "      <td>11785.547170</td>\n",
       "      <td>31.943396</td>\n",
       "    </tr>\n",
       "    <tr>\n",
       "      <th>4</th>\n",
       "      <td>Michoacan</td>\n",
       "      <td>UPN</td>\n",
       "      <td>Uruapan</td>\n",
       "      <td>10550.603774</td>\n",
       "      <td>1098.113208</td>\n",
       "    </tr>\n",
       "    <tr>\n",
       "      <th>5</th>\n",
       "      <td>Nayarit</td>\n",
       "      <td>TPQ</td>\n",
       "      <td>Tepic</td>\n",
       "      <td>12305.830189</td>\n",
       "      <td>0.000000</td>\n",
       "    </tr>\n",
       "    <tr>\n",
       "      <th>6</th>\n",
       "      <td>Oaxaca</td>\n",
       "      <td>IZT</td>\n",
       "      <td>Ixtepec</td>\n",
       "      <td>2788.115385</td>\n",
       "      <td>0.000000</td>\n",
       "    </tr>\n",
       "    <tr>\n",
       "      <th>7</th>\n",
       "      <td>Oaxaca</td>\n",
       "      <td>PXM</td>\n",
       "      <td>Puerto Escondido</td>\n",
       "      <td>21103.830189</td>\n",
       "      <td>187.603774</td>\n",
       "    </tr>\n",
       "    <tr>\n",
       "      <th>8</th>\n",
       "      <td>Puebla</td>\n",
       "      <td>PBC</td>\n",
       "      <td>Puebla</td>\n",
       "      <td>36968.509434</td>\n",
       "      <td>4685.037736</td>\n",
       "    </tr>\n",
       "    <tr>\n",
       "      <th>9</th>\n",
       "      <td>Puebla</td>\n",
       "      <td>TCN</td>\n",
       "      <td>Tehuacan</td>\n",
       "      <td>269.566038</td>\n",
       "      <td>0.000000</td>\n",
       "    </tr>\n",
       "    <tr>\n",
       "      <th>10</th>\n",
       "      <td>Quintana Roo</td>\n",
       "      <td>CTM</td>\n",
       "      <td>Chetumal</td>\n",
       "      <td>21483.566038</td>\n",
       "      <td>17.207547</td>\n",
       "    </tr>\n",
       "    <tr>\n",
       "      <th>11</th>\n",
       "      <td>San Luis Potosi</td>\n",
       "      <td>TSL</td>\n",
       "      <td>Tamuin</td>\n",
       "      <td>141.264151</td>\n",
       "      <td>0.075472</td>\n",
       "    </tr>\n",
       "    <tr>\n",
       "      <th>12</th>\n",
       "      <td>Sonora</td>\n",
       "      <td>CEN</td>\n",
       "      <td>Ciudad Obregon</td>\n",
       "      <td>23569.245283</td>\n",
       "      <td>680.471698</td>\n",
       "    </tr>\n",
       "    <tr>\n",
       "      <th>13</th>\n",
       "      <td>Sonora</td>\n",
       "      <td>GYM</td>\n",
       "      <td>Guaymas</td>\n",
       "      <td>873.811321</td>\n",
       "      <td>285.754717</td>\n",
       "    </tr>\n",
       "    <tr>\n",
       "      <th>14</th>\n",
       "      <td>Sonora</td>\n",
       "      <td>NOG</td>\n",
       "      <td>Nogales</td>\n",
       "      <td>182.018868</td>\n",
       "      <td>26.169811</td>\n",
       "    </tr>\n",
       "    <tr>\n",
       "      <th>15</th>\n",
       "      <td>Tamaulipas</td>\n",
       "      <td>CVM</td>\n",
       "      <td>Ciudad Victoria</td>\n",
       "      <td>5341.679245</td>\n",
       "      <td>140.377358</td>\n",
       "    </tr>\n",
       "    <tr>\n",
       "      <th>16</th>\n",
       "      <td>Tamaulipas</td>\n",
       "      <td>MAM</td>\n",
       "      <td>Matamoros</td>\n",
       "      <td>7052.113208</td>\n",
       "      <td>33.037736</td>\n",
       "    </tr>\n",
       "    <tr>\n",
       "      <th>17</th>\n",
       "      <td>Tamaulipas</td>\n",
       "      <td>NLD</td>\n",
       "      <td>Nuevo Laredo</td>\n",
       "      <td>6067.924528</td>\n",
       "      <td>90.698113</td>\n",
       "    </tr>\n",
       "    <tr>\n",
       "      <th>18</th>\n",
       "      <td>Veracruz</td>\n",
       "      <td>PAZ</td>\n",
       "      <td>Poza Rica</td>\n",
       "      <td>3065.433962</td>\n",
       "      <td>0.000000</td>\n",
       "    </tr>\n",
       "  </tbody>\n",
       "</table>\n",
       "</div>"
      ],
      "text/plain": [
       "                  Estado Codigo IATA        Descripcion  Pasajeros nacionales  \\\n",
       "0   Baja California  Sur         LTO             Loreto           1816.811321   \n",
       "1               Campeche         CME  Ciudad del Carmen          35865.377358   \n",
       "2               Campeche         CPE           Campeche          14390.943396   \n",
       "3                 Colima         CLQ             Colima          11785.547170   \n",
       "4              Michoacan         UPN            Uruapan          10550.603774   \n",
       "5                Nayarit         TPQ              Tepic          12305.830189   \n",
       "6                 Oaxaca         IZT            Ixtepec           2788.115385   \n",
       "7                 Oaxaca         PXM   Puerto Escondido          21103.830189   \n",
       "8                 Puebla         PBC             Puebla          36968.509434   \n",
       "9                 Puebla         TCN           Tehuacan            269.566038   \n",
       "10          Quintana Roo         CTM           Chetumal          21483.566038   \n",
       "11       San Luis Potosi         TSL             Tamuin            141.264151   \n",
       "12                Sonora         CEN     Ciudad Obregon          23569.245283   \n",
       "13                Sonora         GYM            Guaymas            873.811321   \n",
       "14                Sonora         NOG            Nogales            182.018868   \n",
       "15            Tamaulipas         CVM    Ciudad Victoria           5341.679245   \n",
       "16            Tamaulipas         MAM          Matamoros           7052.113208   \n",
       "17            Tamaulipas         NLD       Nuevo Laredo           6067.924528   \n",
       "18              Veracruz         PAZ          Poza Rica           3065.433962   \n",
       "\n",
       "    Pasajeros internacionales  \n",
       "0                 4992.716981  \n",
       "1                 1270.490566  \n",
       "2                  186.056604  \n",
       "3                   31.943396  \n",
       "4                 1098.113208  \n",
       "5                    0.000000  \n",
       "6                    0.000000  \n",
       "7                  187.603774  \n",
       "8                 4685.037736  \n",
       "9                    0.000000  \n",
       "10                  17.207547  \n",
       "11                   0.075472  \n",
       "12                 680.471698  \n",
       "13                 285.754717  \n",
       "14                  26.169811  \n",
       "15                 140.377358  \n",
       "16                  33.037736  \n",
       "17                  90.698113  \n",
       "18                   0.000000  "
      ]
     },
     "execution_count": 34,
     "metadata": {},
     "output_type": "execute_result"
    }
   ],
   "source": [
    "pas.groupby(['Estado', 'Codigo IATA','Descripcion'])[['Pasajeros nacionales','Pasajeros internacionales']].mean().reset_index()"
   ]
  },
  {
   "cell_type": "code",
   "execution_count": 60,
   "metadata": {
    "ExecuteTime": {
     "end_time": "2018-03-14T01:49:20.651001Z",
     "start_time": "2018-03-14T01:49:20.626071Z"
    },
    "colab": {},
    "colab_type": "code",
    "id": "dcJDNUycp_Yq"
   },
   "outputs": [
    {
     "data": {
      "text/plain": [
       "Anio mes\n",
       "201501    18\n",
       "201502    18\n",
       "201503    18\n",
       "201504    18\n",
       "201505    18\n",
       "201506    18\n",
       "201507    18\n",
       "201508    18\n",
       "201509    18\n",
       "201510    18\n",
       "201511    18\n",
       "201512    18\n",
       "201601    18\n",
       "201602    18\n",
       "201603    18\n",
       "201604    18\n",
       "201605    18\n",
       "201606    18\n",
       "201607    18\n",
       "201608    18\n",
       "201609    18\n",
       "201610    18\n",
       "201611    18\n",
       "201612    18\n",
       "201701    18\n",
       "201702    18\n",
       "201703    18\n",
       "201704    19\n",
       "201705    19\n",
       "201706    19\n",
       "201707    19\n",
       "201708    19\n",
       "201709    19\n",
       "201710    19\n",
       "201711    19\n",
       "201712    19\n",
       "201801    19\n",
       "201802    19\n",
       "201803    19\n",
       "201804    19\n",
       "201805    19\n",
       "201806    19\n",
       "201807    19\n",
       "201808    19\n",
       "201809    19\n",
       "201810    19\n",
       "201811    19\n",
       "201812    19\n",
       "201901    19\n",
       "201902    19\n",
       "201903    19\n",
       "201904    19\n",
       "201905    19\n",
       "Name: Pasajeros nacionales, dtype: int64"
      ]
     },
     "execution_count": 60,
     "metadata": {},
     "output_type": "execute_result"
    }
   ],
   "source": [
    "pas.groupby('Anio mes')['Pasajeros nacionales'].count()"
   ]
  },
  {
   "cell_type": "code",
   "execution_count": 61,
   "metadata": {
    "ExecuteTime": {
     "end_time": "2018-03-14T01:49:26.591423Z",
     "start_time": "2018-03-14T01:49:26.565066Z"
    },
    "colab": {},
    "colab_type": "code",
    "id": "mHHhp6V6p_Yu"
   },
   "outputs": [
    {
     "data": {
      "text/html": [
       "<div>\n",
       "<style scoped>\n",
       "    .dataframe tbody tr th:only-of-type {\n",
       "        vertical-align: middle;\n",
       "    }\n",
       "\n",
       "    .dataframe tbody tr th {\n",
       "        vertical-align: top;\n",
       "    }\n",
       "\n",
       "    .dataframe thead th {\n",
       "        text-align: right;\n",
       "    }\n",
       "</style>\n",
       "<table border=\"1\" class=\"dataframe\">\n",
       "  <thead>\n",
       "    <tr style=\"text-align: right;\">\n",
       "      <th></th>\n",
       "      <th>Anio mes</th>\n",
       "      <th>Codigo IATA</th>\n",
       "      <th>Descripcion</th>\n",
       "      <th>Estado</th>\n",
       "      <th>Pasajeros nacionales</th>\n",
       "      <th>Pasajeros internacionales</th>\n",
       "    </tr>\n",
       "  </thead>\n",
       "  <tbody>\n",
       "    <tr>\n",
       "      <th>0</th>\n",
       "      <td>201501</td>\n",
       "      <td>CEN</td>\n",
       "      <td>Ciudad Obregon</td>\n",
       "      <td>Sonora</td>\n",
       "      <td>17149</td>\n",
       "      <td>721</td>\n",
       "    </tr>\n",
       "    <tr>\n",
       "      <th>1</th>\n",
       "      <td>201501</td>\n",
       "      <td>CLQ</td>\n",
       "      <td>Colima</td>\n",
       "      <td>Colima</td>\n",
       "      <td>8486</td>\n",
       "      <td>124</td>\n",
       "    </tr>\n",
       "    <tr>\n",
       "      <th>2</th>\n",
       "      <td>201501</td>\n",
       "      <td>CME</td>\n",
       "      <td>Ciudad del Carmen</td>\n",
       "      <td>Campeche</td>\n",
       "      <td>56079</td>\n",
       "      <td>3126</td>\n",
       "    </tr>\n",
       "    <tr>\n",
       "      <th>4</th>\n",
       "      <td>201501</td>\n",
       "      <td>CTM</td>\n",
       "      <td>Chetumal</td>\n",
       "      <td>Quintana Roo</td>\n",
       "      <td>13153</td>\n",
       "      <td>0</td>\n",
       "    </tr>\n",
       "    <tr>\n",
       "      <th>5</th>\n",
       "      <td>201501</td>\n",
       "      <td>CVM</td>\n",
       "      <td>Ciudad Victoria</td>\n",
       "      <td>Tamaulipas</td>\n",
       "      <td>4695</td>\n",
       "      <td>139</td>\n",
       "    </tr>\n",
       "    <tr>\n",
       "      <th>7</th>\n",
       "      <td>201501</td>\n",
       "      <td>LTO</td>\n",
       "      <td>Loreto</td>\n",
       "      <td>Baja California  Sur</td>\n",
       "      <td>1050</td>\n",
       "      <td>2684</td>\n",
       "    </tr>\n",
       "    <tr>\n",
       "      <th>11</th>\n",
       "      <td>201501</td>\n",
       "      <td>PAZ</td>\n",
       "      <td>Poza Rica</td>\n",
       "      <td>Veracruz</td>\n",
       "      <td>4490</td>\n",
       "      <td>0</td>\n",
       "    </tr>\n",
       "    <tr>\n",
       "      <th>12</th>\n",
       "      <td>201501</td>\n",
       "      <td>PBC</td>\n",
       "      <td>Puebla</td>\n",
       "      <td>Puebla</td>\n",
       "      <td>20794</td>\n",
       "      <td>4723</td>\n",
       "    </tr>\n",
       "    <tr>\n",
       "      <th>13</th>\n",
       "      <td>201501</td>\n",
       "      <td>PXM</td>\n",
       "      <td>Puerto Escondido</td>\n",
       "      <td>Oaxaca</td>\n",
       "      <td>16754</td>\n",
       "      <td>580</td>\n",
       "    </tr>\n",
       "    <tr>\n",
       "      <th>15</th>\n",
       "      <td>201501</td>\n",
       "      <td>TPQ</td>\n",
       "      <td>Tepic</td>\n",
       "      <td>Nayarit</td>\n",
       "      <td>8116</td>\n",
       "      <td>0</td>\n",
       "    </tr>\n",
       "    <tr>\n",
       "      <th>16</th>\n",
       "      <td>201501</td>\n",
       "      <td>TSL</td>\n",
       "      <td>Tamuin</td>\n",
       "      <td>San Luis Potosi</td>\n",
       "      <td>108</td>\n",
       "      <td>0</td>\n",
       "    </tr>\n",
       "    <tr>\n",
       "      <th>17</th>\n",
       "      <td>201501</td>\n",
       "      <td>UPN</td>\n",
       "      <td>Uruapan</td>\n",
       "      <td>Michoacan</td>\n",
       "      <td>8227</td>\n",
       "      <td>1208</td>\n",
       "    </tr>\n",
       "  </tbody>\n",
       "</table>\n",
       "</div>"
      ],
      "text/plain": [
       "    Anio mes Codigo IATA        Descripcion                Estado  \\\n",
       "0     201501         CEN     Ciudad Obregon                Sonora   \n",
       "1     201501         CLQ             Colima                Colima   \n",
       "2     201501         CME  Ciudad del Carmen              Campeche   \n",
       "4     201501         CTM           Chetumal          Quintana Roo   \n",
       "5     201501         CVM    Ciudad Victoria            Tamaulipas   \n",
       "7     201501         LTO             Loreto  Baja California  Sur   \n",
       "11    201501         PAZ          Poza Rica              Veracruz   \n",
       "12    201501         PBC             Puebla                Puebla   \n",
       "13    201501         PXM   Puerto Escondido                Oaxaca   \n",
       "15    201501         TPQ              Tepic               Nayarit   \n",
       "16    201501         TSL             Tamuin       San Luis Potosi   \n",
       "17    201501         UPN            Uruapan             Michoacan   \n",
       "\n",
       "    Pasajeros nacionales  Pasajeros internacionales  \n",
       "0                  17149                        721  \n",
       "1                   8486                        124  \n",
       "2                  56079                       3126  \n",
       "4                  13153                          0  \n",
       "5                   4695                        139  \n",
       "7                   1050                       2684  \n",
       "11                  4490                          0  \n",
       "12                 20794                       4723  \n",
       "13                 16754                        580  \n",
       "15                  8116                          0  \n",
       "16                   108                          0  \n",
       "17                  8227                       1208  "
      ]
     },
     "execution_count": 61,
     "metadata": {},
     "output_type": "execute_result"
    }
   ],
   "source": [
    "pas.groupby('Estado').head(1)"
   ]
  },
  {
   "cell_type": "code",
   "execution_count": 62,
   "metadata": {
    "ExecuteTime": {
     "end_time": "2018-03-14T01:50:03.341407Z",
     "start_time": "2018-03-14T01:50:03.312858Z"
    },
    "colab": {},
    "colab_type": "code",
    "id": "0aa8hPuWp_Yy"
   },
   "outputs": [
    {
     "data": {
      "text/html": [
       "<div>\n",
       "<style scoped>\n",
       "    .dataframe tbody tr th:only-of-type {\n",
       "        vertical-align: middle;\n",
       "    }\n",
       "\n",
       "    .dataframe tbody tr th {\n",
       "        vertical-align: top;\n",
       "    }\n",
       "\n",
       "    .dataframe thead th {\n",
       "        text-align: right;\n",
       "    }\n",
       "</style>\n",
       "<table border=\"1\" class=\"dataframe\">\n",
       "  <thead>\n",
       "    <tr style=\"text-align: right;\">\n",
       "      <th></th>\n",
       "      <th>Anio mes</th>\n",
       "      <th>Pasajeros nacionales</th>\n",
       "      <th>Pasajeros internacionales</th>\n",
       "    </tr>\n",
       "    <tr>\n",
       "      <th>Estado</th>\n",
       "      <th></th>\n",
       "      <th></th>\n",
       "      <th></th>\n",
       "    </tr>\n",
       "  </thead>\n",
       "  <tbody>\n",
       "    <tr>\n",
       "      <th>Baja California  Sur</th>\n",
       "      <td>10689027</td>\n",
       "      <td>96291</td>\n",
       "      <td>264614</td>\n",
       "    </tr>\n",
       "    <tr>\n",
       "      <th>Campeche</th>\n",
       "      <td>21378054</td>\n",
       "      <td>2663585</td>\n",
       "      <td>77197</td>\n",
       "    </tr>\n",
       "    <tr>\n",
       "      <th>Colima</th>\n",
       "      <td>10689027</td>\n",
       "      <td>624634</td>\n",
       "      <td>1693</td>\n",
       "    </tr>\n",
       "    <tr>\n",
       "      <th>Michoacan</th>\n",
       "      <td>10689027</td>\n",
       "      <td>559182</td>\n",
       "      <td>58200</td>\n",
       "    </tr>\n",
       "    <tr>\n",
       "      <th>Nayarit</th>\n",
       "      <td>10689027</td>\n",
       "      <td>652209</td>\n",
       "      <td>0</td>\n",
       "    </tr>\n",
       "    <tr>\n",
       "      <th>Oaxaca</th>\n",
       "      <td>15935592</td>\n",
       "      <td>1190994</td>\n",
       "      <td>9943</td>\n",
       "    </tr>\n",
       "    <tr>\n",
       "      <th>Puebla</th>\n",
       "      <td>21378054</td>\n",
       "      <td>1973618</td>\n",
       "      <td>248307</td>\n",
       "    </tr>\n",
       "    <tr>\n",
       "      <th>Quintana Roo</th>\n",
       "      <td>10689027</td>\n",
       "      <td>1138629</td>\n",
       "      <td>912</td>\n",
       "    </tr>\n",
       "    <tr>\n",
       "      <th>San Luis Potosi</th>\n",
       "      <td>10689027</td>\n",
       "      <td>7487</td>\n",
       "      <td>4</td>\n",
       "    </tr>\n",
       "    <tr>\n",
       "      <th>Sonora</th>\n",
       "      <td>32067081</td>\n",
       "      <td>1305129</td>\n",
       "      <td>52597</td>\n",
       "    </tr>\n",
       "    <tr>\n",
       "      <th>Tamaulipas</th>\n",
       "      <td>32067081</td>\n",
       "      <td>978471</td>\n",
       "      <td>13998</td>\n",
       "    </tr>\n",
       "    <tr>\n",
       "      <th>Veracruz</th>\n",
       "      <td>10689027</td>\n",
       "      <td>162468</td>\n",
       "      <td>0</td>\n",
       "    </tr>\n",
       "  </tbody>\n",
       "</table>\n",
       "</div>"
      ],
      "text/plain": [
       "                      Anio mes  Pasajeros nacionales  \\\n",
       "Estado                                                 \n",
       "Baja California  Sur  10689027                 96291   \n",
       "Campeche              21378054               2663585   \n",
       "Colima                10689027                624634   \n",
       "Michoacan             10689027                559182   \n",
       "Nayarit               10689027                652209   \n",
       "Oaxaca                15935592               1190994   \n",
       "Puebla                21378054               1973618   \n",
       "Quintana Roo          10689027               1138629   \n",
       "San Luis Potosi       10689027                  7487   \n",
       "Sonora                32067081               1305129   \n",
       "Tamaulipas            32067081                978471   \n",
       "Veracruz              10689027                162468   \n",
       "\n",
       "                      Pasajeros internacionales  \n",
       "Estado                                           \n",
       "Baja California  Sur                     264614  \n",
       "Campeche                                  77197  \n",
       "Colima                                     1693  \n",
       "Michoacan                                 58200  \n",
       "Nayarit                                       0  \n",
       "Oaxaca                                     9943  \n",
       "Puebla                                   248307  \n",
       "Quintana Roo                                912  \n",
       "San Luis Potosi                               4  \n",
       "Sonora                                    52597  \n",
       "Tamaulipas                                13998  \n",
       "Veracruz                                      0  "
      ]
     },
     "execution_count": 62,
     "metadata": {},
     "output_type": "execute_result"
    }
   ],
   "source": [
    "pas.groupby('Estado').aggregate(np.sum)"
   ]
  },
  {
   "cell_type": "code",
   "execution_count": 70,
   "metadata": {},
   "outputs": [
    {
     "data": {
      "text/html": [
       "<div>\n",
       "<style scoped>\n",
       "    .dataframe tbody tr th:only-of-type {\n",
       "        vertical-align: middle;\n",
       "    }\n",
       "\n",
       "    .dataframe tbody tr th {\n",
       "        vertical-align: top;\n",
       "    }\n",
       "\n",
       "    .dataframe thead tr th {\n",
       "        text-align: left;\n",
       "    }\n",
       "\n",
       "    .dataframe thead tr:last-of-type th {\n",
       "        text-align: right;\n",
       "    }\n",
       "</style>\n",
       "<table border=\"1\" class=\"dataframe\">\n",
       "  <thead>\n",
       "    <tr>\n",
       "      <th></th>\n",
       "      <th>Anio mes</th>\n",
       "      <th colspan=\"2\" halign=\"left\">Pasajeros nacionales</th>\n",
       "    </tr>\n",
       "    <tr>\n",
       "      <th></th>\n",
       "      <th>sum</th>\n",
       "      <th>sum</th>\n",
       "      <th>std</th>\n",
       "    </tr>\n",
       "    <tr>\n",
       "      <th>Estado</th>\n",
       "      <th></th>\n",
       "      <th></th>\n",
       "      <th></th>\n",
       "    </tr>\n",
       "  </thead>\n",
       "  <tbody>\n",
       "    <tr>\n",
       "      <th>Baja California  Sur</th>\n",
       "      <td>10689027</td>\n",
       "      <td>96291</td>\n",
       "      <td>903.015846</td>\n",
       "    </tr>\n",
       "    <tr>\n",
       "      <th>Campeche</th>\n",
       "      <td>21378054</td>\n",
       "      <td>2663585</td>\n",
       "      <td>12425.670060</td>\n",
       "    </tr>\n",
       "    <tr>\n",
       "      <th>Colima</th>\n",
       "      <td>10689027</td>\n",
       "      <td>624634</td>\n",
       "      <td>2312.655721</td>\n",
       "    </tr>\n",
       "  </tbody>\n",
       "</table>\n",
       "</div>"
      ],
      "text/plain": [
       "                      Anio mes Pasajeros nacionales              \n",
       "                           sum                  sum           std\n",
       "Estado                                                           \n",
       "Baja California  Sur  10689027                96291    903.015846\n",
       "Campeche              21378054              2663585  12425.670060\n",
       "Colima                10689027               624634   2312.655721"
      ]
     },
     "execution_count": 70,
     "metadata": {},
     "output_type": "execute_result"
    }
   ],
   "source": [
    "pas.groupby('Estado').aggregate({'Anio mes': np.sum, 'Pasajeros nacionales': [np.sum,np.std]}).head(3)"
   ]
  },
  {
   "cell_type": "markdown",
   "metadata": {
    "colab_type": "text",
    "id": "AayhnH4lp_Y6",
    "solution2": "shown",
    "solution2_first": true
   },
   "source": [
    "**Ejercicio**: Imprime las primeras 3 IATAs por año."
   ]
  },
  {
   "cell_type": "code",
   "execution_count": 72,
   "metadata": {},
   "outputs": [
    {
     "data": {
      "text/plain": [
       "Index(['Anio mes', 'Codigo IATA', 'Descripcion', 'Estado',\n",
       "       'Pasajeros nacionales', 'Pasajeros internacionales'],\n",
       "      dtype='object')"
      ]
     },
     "execution_count": 72,
     "metadata": {},
     "output_type": "execute_result"
    }
   ],
   "source": [
    "pas.columns"
   ]
  },
  {
   "cell_type": "code",
   "execution_count": null,
   "metadata": {},
   "outputs": [],
   "source": []
  },
  {
   "cell_type": "code",
   "execution_count": null,
   "metadata": {},
   "outputs": [],
   "source": []
  },
  {
   "cell_type": "code",
   "execution_count": null,
   "metadata": {
    "ExecuteTime": {
     "end_time": "2018-03-14T02:12:57.501628Z",
     "start_time": "2018-03-14T02:12:57.474877Z"
    },
    "colab": {},
    "colab_type": "code",
    "id": "MhHGnQVxp_Y7",
    "solution2": "shown"
   },
   "outputs": [],
   "source": []
  },
  {
   "cell_type": "code",
   "execution_count": null,
   "metadata": {},
   "outputs": [],
   "source": []
  },
  {
   "cell_type": "markdown",
   "metadata": {
    "colab_type": "text",
    "id": "N1kr-XwMp_ZG"
   },
   "source": [
    "### Ordenar\n",
    "Para ordenar el data frame según una columna, usamos `sort_values`."
   ]
  },
  {
   "cell_type": "code",
   "execution_count": 73,
   "metadata": {
    "ExecuteTime": {
     "end_time": "2018-03-14T02:13:48.277679Z",
     "start_time": "2018-03-14T02:13:48.259947Z"
    },
    "colab": {},
    "colab_type": "code",
    "id": "J7nX8ph9p_ZG"
   },
   "outputs": [
    {
     "data": {
      "text/html": [
       "<div>\n",
       "<style scoped>\n",
       "    .dataframe tbody tr th:only-of-type {\n",
       "        vertical-align: middle;\n",
       "    }\n",
       "\n",
       "    .dataframe tbody tr th {\n",
       "        vertical-align: top;\n",
       "    }\n",
       "\n",
       "    .dataframe thead th {\n",
       "        text-align: right;\n",
       "    }\n",
       "</style>\n",
       "<table border=\"1\" class=\"dataframe\">\n",
       "  <thead>\n",
       "    <tr style=\"text-align: right;\">\n",
       "      <th></th>\n",
       "      <th>Anio mes</th>\n",
       "      <th>Codigo IATA</th>\n",
       "      <th>Descripcion</th>\n",
       "      <th>Estado</th>\n",
       "      <th>Pasajeros nacionales</th>\n",
       "      <th>Pasajeros internacionales</th>\n",
       "    </tr>\n",
       "  </thead>\n",
       "  <tbody>\n",
       "    <tr>\n",
       "      <th>205</th>\n",
       "      <td>201512</td>\n",
       "      <td>LTO</td>\n",
       "      <td>Loreto</td>\n",
       "      <td>Baja California  Sur</td>\n",
       "      <td>1398</td>\n",
       "      <td>4051</td>\n",
       "    </tr>\n",
       "    <tr>\n",
       "      <th>874</th>\n",
       "      <td>201812</td>\n",
       "      <td>LTO</td>\n",
       "      <td>Loreto</td>\n",
       "      <td>Baja California  Sur</td>\n",
       "      <td>2004</td>\n",
       "      <td>5983</td>\n",
       "    </tr>\n",
       "    <tr>\n",
       "      <th>367</th>\n",
       "      <td>201609</td>\n",
       "      <td>LTO</td>\n",
       "      <td>Loreto</td>\n",
       "      <td>Baja California  Sur</td>\n",
       "      <td>1351</td>\n",
       "      <td>1316</td>\n",
       "    </tr>\n",
       "    <tr>\n",
       "      <th>494</th>\n",
       "      <td>201704</td>\n",
       "      <td>LTO</td>\n",
       "      <td>Loreto</td>\n",
       "      <td>Baja California  Sur</td>\n",
       "      <td>2704</td>\n",
       "      <td>8126</td>\n",
       "    </tr>\n",
       "    <tr>\n",
       "      <th>570</th>\n",
       "      <td>201708</td>\n",
       "      <td>LTO</td>\n",
       "      <td>Loreto</td>\n",
       "      <td>Baja California  Sur</td>\n",
       "      <td>1999</td>\n",
       "      <td>1877</td>\n",
       "    </tr>\n",
       "  </tbody>\n",
       "</table>\n",
       "</div>"
      ],
      "text/plain": [
       "     Anio mes Codigo IATA Descripcion                Estado  \\\n",
       "205    201512         LTO      Loreto  Baja California  Sur   \n",
       "874    201812         LTO      Loreto  Baja California  Sur   \n",
       "367    201609         LTO      Loreto  Baja California  Sur   \n",
       "494    201704         LTO      Loreto  Baja California  Sur   \n",
       "570    201708         LTO      Loreto  Baja California  Sur   \n",
       "\n",
       "     Pasajeros nacionales  Pasajeros internacionales  \n",
       "205                  1398                       4051  \n",
       "874                  2004                       5983  \n",
       "367                  1351                       1316  \n",
       "494                  2704                       8126  \n",
       "570                  1999                       1877  "
      ]
     },
     "execution_count": 73,
     "metadata": {},
     "output_type": "execute_result"
    }
   ],
   "source": [
    "pas.sort_values(by = 'Estado').head(5)"
   ]
  },
  {
   "cell_type": "code",
   "execution_count": 74,
   "metadata": {
    "ExecuteTime": {
     "end_time": "2018-03-14T02:13:52.329013Z",
     "start_time": "2018-03-14T02:13:52.271024Z"
    },
    "colab": {},
    "colab_type": "code",
    "id": "Y5aUSN_Ip_ZJ"
   },
   "outputs": [
    {
     "data": {
      "text/html": [
       "<div>\n",
       "<style scoped>\n",
       "    .dataframe tbody tr th:only-of-type {\n",
       "        vertical-align: middle;\n",
       "    }\n",
       "\n",
       "    .dataframe tbody tr th {\n",
       "        vertical-align: top;\n",
       "    }\n",
       "\n",
       "    .dataframe thead th {\n",
       "        text-align: right;\n",
       "    }\n",
       "</style>\n",
       "<table border=\"1\" class=\"dataframe\">\n",
       "  <thead>\n",
       "    <tr style=\"text-align: right;\">\n",
       "      <th></th>\n",
       "      <th>Anio mes</th>\n",
       "      <th>Codigo IATA</th>\n",
       "      <th>Descripcion</th>\n",
       "      <th>Estado</th>\n",
       "      <th>Pasajeros nacionales</th>\n",
       "      <th>Pasajeros internacionales</th>\n",
       "    </tr>\n",
       "  </thead>\n",
       "  <tbody>\n",
       "    <tr>\n",
       "      <th>25</th>\n",
       "      <td>201502</td>\n",
       "      <td>LTO</td>\n",
       "      <td>Loreto</td>\n",
       "      <td>Baja California  Sur</td>\n",
       "      <td>651</td>\n",
       "      <td>4511</td>\n",
       "    </tr>\n",
       "    <tr>\n",
       "      <th>43</th>\n",
       "      <td>201503</td>\n",
       "      <td>LTO</td>\n",
       "      <td>Loreto</td>\n",
       "      <td>Baja California  Sur</td>\n",
       "      <td>793</td>\n",
       "      <td>5418</td>\n",
       "    </tr>\n",
       "    <tr>\n",
       "      <th>79</th>\n",
       "      <td>201505</td>\n",
       "      <td>LTO</td>\n",
       "      <td>Loreto</td>\n",
       "      <td>Baja California  Sur</td>\n",
       "      <td>884</td>\n",
       "      <td>4744</td>\n",
       "    </tr>\n",
       "    <tr>\n",
       "      <th>151</th>\n",
       "      <td>201509</td>\n",
       "      <td>LTO</td>\n",
       "      <td>Loreto</td>\n",
       "      <td>Baja California  Sur</td>\n",
       "      <td>887</td>\n",
       "      <td>1485</td>\n",
       "    </tr>\n",
       "    <tr>\n",
       "      <th>97</th>\n",
       "      <td>201506</td>\n",
       "      <td>LTO</td>\n",
       "      <td>Loreto</td>\n",
       "      <td>Baja California  Sur</td>\n",
       "      <td>890</td>\n",
       "      <td>3787</td>\n",
       "    </tr>\n",
       "    <tr>\n",
       "      <th>133</th>\n",
       "      <td>201508</td>\n",
       "      <td>LTO</td>\n",
       "      <td>Loreto</td>\n",
       "      <td>Baja California  Sur</td>\n",
       "      <td>952</td>\n",
       "      <td>2908</td>\n",
       "    </tr>\n",
       "    <tr>\n",
       "      <th>187</th>\n",
       "      <td>201511</td>\n",
       "      <td>LTO</td>\n",
       "      <td>Loreto</td>\n",
       "      <td>Baja California  Sur</td>\n",
       "      <td>1009</td>\n",
       "      <td>4098</td>\n",
       "    </tr>\n",
       "    <tr>\n",
       "      <th>7</th>\n",
       "      <td>201501</td>\n",
       "      <td>LTO</td>\n",
       "      <td>Loreto</td>\n",
       "      <td>Baja California  Sur</td>\n",
       "      <td>1050</td>\n",
       "      <td>2684</td>\n",
       "    </tr>\n",
       "    <tr>\n",
       "      <th>223</th>\n",
       "      <td>201601</td>\n",
       "      <td>LTO</td>\n",
       "      <td>Loreto</td>\n",
       "      <td>Baja California  Sur</td>\n",
       "      <td>1076</td>\n",
       "      <td>5093</td>\n",
       "    </tr>\n",
       "    <tr>\n",
       "      <th>241</th>\n",
       "      <td>201602</td>\n",
       "      <td>LTO</td>\n",
       "      <td>Loreto</td>\n",
       "      <td>Baja California  Sur</td>\n",
       "      <td>1088</td>\n",
       "      <td>6335</td>\n",
       "    </tr>\n",
       "  </tbody>\n",
       "</table>\n",
       "</div>"
      ],
      "text/plain": [
       "     Anio mes Codigo IATA Descripcion                Estado  \\\n",
       "25     201502         LTO      Loreto  Baja California  Sur   \n",
       "43     201503         LTO      Loreto  Baja California  Sur   \n",
       "79     201505         LTO      Loreto  Baja California  Sur   \n",
       "151    201509         LTO      Loreto  Baja California  Sur   \n",
       "97     201506         LTO      Loreto  Baja California  Sur   \n",
       "133    201508         LTO      Loreto  Baja California  Sur   \n",
       "187    201511         LTO      Loreto  Baja California  Sur   \n",
       "7      201501         LTO      Loreto  Baja California  Sur   \n",
       "223    201601         LTO      Loreto  Baja California  Sur   \n",
       "241    201602         LTO      Loreto  Baja California  Sur   \n",
       "\n",
       "     Pasajeros nacionales  Pasajeros internacionales  \n",
       "25                    651                       4511  \n",
       "43                    793                       5418  \n",
       "79                    884                       4744  \n",
       "151                   887                       1485  \n",
       "97                    890                       3787  \n",
       "133                   952                       2908  \n",
       "187                  1009                       4098  \n",
       "7                    1050                       2684  \n",
       "223                  1076                       5093  \n",
       "241                  1088                       6335  "
      ]
     },
     "execution_count": 74,
     "metadata": {},
     "output_type": "execute_result"
    }
   ],
   "source": [
    "pas.sort_values(by = ['Estado', 'Pasajeros nacionales']).head(10)"
   ]
  },
  {
   "cell_type": "code",
   "execution_count": 75,
   "metadata": {
    "ExecuteTime": {
     "end_time": "2018-03-14T02:14:11.552435Z",
     "start_time": "2018-03-14T02:14:11.544373Z"
    },
    "colab": {},
    "colab_type": "code",
    "id": "HAZEFefrp_ZK"
   },
   "outputs": [
    {
     "data": {
      "text/plain": [
       "array(['Sonora', 'Colima', 'Campeche', 'Quintana Roo', 'Tamaulipas',\n",
       "       'Baja California  Sur', 'Veracruz', 'Puebla', 'Oaxaca', 'Nayarit',\n",
       "       'San Luis Potosi', 'Michoacan'], dtype=object)"
      ]
     },
     "execution_count": 75,
     "metadata": {},
     "output_type": "execute_result"
    }
   ],
   "source": [
    "pas.Estado.unique()"
   ]
  },
  {
   "cell_type": "code",
   "execution_count": 76,
   "metadata": {
    "ExecuteTime": {
     "end_time": "2018-03-14T02:15:24.580236Z",
     "start_time": "2018-03-14T02:15:24.561319Z"
    },
    "colab": {},
    "colab_type": "code",
    "id": "2tEQNzSUp_ZQ",
    "scrolled": true
   },
   "outputs": [
    {
     "data": {
      "text/html": [
       "<div>\n",
       "<style scoped>\n",
       "    .dataframe tbody tr th:only-of-type {\n",
       "        vertical-align: middle;\n",
       "    }\n",
       "\n",
       "    .dataframe tbody tr th {\n",
       "        vertical-align: top;\n",
       "    }\n",
       "\n",
       "    .dataframe thead th {\n",
       "        text-align: right;\n",
       "    }\n",
       "</style>\n",
       "<table border=\"1\" class=\"dataframe\">\n",
       "  <thead>\n",
       "    <tr style=\"text-align: right;\">\n",
       "      <th></th>\n",
       "      <th>Anio mes</th>\n",
       "      <th>Codigo IATA</th>\n",
       "      <th>Descripcion</th>\n",
       "      <th>Estado</th>\n",
       "      <th>Pasajeros nacionales</th>\n",
       "      <th>Pasajeros internacionales</th>\n",
       "    </tr>\n",
       "  </thead>\n",
       "  <tbody>\n",
       "    <tr>\n",
       "      <th>950</th>\n",
       "      <td>201904</td>\n",
       "      <td>LTO</td>\n",
       "      <td>Loreto</td>\n",
       "      <td>Baja California  Sur</td>\n",
       "      <td>5465</td>\n",
       "      <td>8208</td>\n",
       "    </tr>\n",
       "    <tr>\n",
       "      <th>931</th>\n",
       "      <td>201903</td>\n",
       "      <td>LTO</td>\n",
       "      <td>Loreto</td>\n",
       "      <td>Baja California  Sur</td>\n",
       "      <td>4786</td>\n",
       "      <td>10476</td>\n",
       "    </tr>\n",
       "    <tr>\n",
       "      <th>969</th>\n",
       "      <td>201905</td>\n",
       "      <td>LTO</td>\n",
       "      <td>Loreto</td>\n",
       "      <td>Baja California  Sur</td>\n",
       "      <td>4356</td>\n",
       "      <td>5592</td>\n",
       "    </tr>\n",
       "    <tr>\n",
       "      <th>779</th>\n",
       "      <td>201807</td>\n",
       "      <td>LTO</td>\n",
       "      <td>Loreto</td>\n",
       "      <td>Baja California  Sur</td>\n",
       "      <td>2767</td>\n",
       "      <td>4520</td>\n",
       "    </tr>\n",
       "    <tr>\n",
       "      <th>494</th>\n",
       "      <td>201704</td>\n",
       "      <td>LTO</td>\n",
       "      <td>Loreto</td>\n",
       "      <td>Baja California  Sur</td>\n",
       "      <td>2704</td>\n",
       "      <td>8126</td>\n",
       "    </tr>\n",
       "  </tbody>\n",
       "</table>\n",
       "</div>"
      ],
      "text/plain": [
       "     Anio mes Codigo IATA Descripcion                Estado  \\\n",
       "950    201904         LTO      Loreto  Baja California  Sur   \n",
       "931    201903         LTO      Loreto  Baja California  Sur   \n",
       "969    201905         LTO      Loreto  Baja California  Sur   \n",
       "779    201807         LTO      Loreto  Baja California  Sur   \n",
       "494    201704         LTO      Loreto  Baja California  Sur   \n",
       "\n",
       "     Pasajeros nacionales  Pasajeros internacionales  \n",
       "950                  5465                       8208  \n",
       "931                  4786                      10476  \n",
       "969                  4356                       5592  \n",
       "779                  2767                       4520  \n",
       "494                  2704                       8126  "
      ]
     },
     "execution_count": 76,
     "metadata": {},
     "output_type": "execute_result"
    }
   ],
   "source": [
    "pas.sort_values(by = ['Estado', 'Pasajeros nacionales'],\n",
    "               ascending = [True, False]).head(5)"
   ]
  },
  {
   "cell_type": "markdown",
   "metadata": {
    "colab_type": "text",
    "id": "p6Kk28k3p_ZX",
    "solution2": "shown",
    "solution2_first": true
   },
   "source": [
    "**Ejercicio**: Encuentra las 5 IATAs con mayor número de pasajeros internacionales."
   ]
  },
  {
   "cell_type": "code",
   "execution_count": null,
   "metadata": {
    "ExecuteTime": {
     "end_time": "2018-03-14T00:01:55.185783Z",
     "start_time": "2018-03-14T00:01:55.124945Z"
    },
    "colab": {},
    "colab_type": "code",
    "id": "gqbcYhirp_ZY",
    "solution2": "shown"
   },
   "outputs": [],
   "source": []
  },
  {
   "cell_type": "code",
   "execution_count": null,
   "metadata": {
    "ExecuteTime": {
     "end_time": "2018-03-14T00:01:55.269563Z",
     "start_time": "2018-03-14T00:01:55.187229Z"
    },
    "colab": {},
    "colab_type": "code",
    "id": "g4Ls7uQPp_Zb"
   },
   "outputs": [],
   "source": []
  },
  {
   "cell_type": "code",
   "execution_count": null,
   "metadata": {
    "ExecuteTime": {
     "end_time": "2018-03-14T02:34:57.213594Z",
     "start_time": "2018-03-14T02:34:57.198072Z"
    },
    "colab": {},
    "colab_type": "code",
    "id": "4JeWJiiCp_Zd"
   },
   "outputs": [],
   "source": []
  },
  {
   "cell_type": "code",
   "execution_count": null,
   "metadata": {
    "ExecuteTime": {
     "end_time": "2018-03-14T03:09:09.990000Z",
     "start_time": "2018-03-14T03:09:09.948102Z"
    },
    "colab": {},
    "colab_type": "code",
    "id": "bxzxFmxZp_Zl",
    "scrolled": true
   },
   "outputs": [],
   "source": []
  },
  {
   "cell_type": "markdown",
   "metadata": {
    "colab_type": "text",
    "id": "Jy8fL9COp_Zm"
   },
   "source": [
    "### Merge"
   ]
  },
  {
   "cell_type": "markdown",
   "metadata": {
    "colab_type": "text",
    "id": "_mJBIPL2p_Zn"
   },
   "source": [
    "Usando el método `merge` podemos juntar dos dataframes."
   ]
  },
  {
   "cell_type": "code",
   "execution_count": 78,
   "metadata": {
    "ExecuteTime": {
     "end_time": "2018-03-16T01:06:59.584883Z",
     "start_time": "2018-03-16T01:06:59.571939Z"
    },
    "colab": {},
    "colab_type": "code",
    "id": "3NU8iD5hp_Zo"
   },
   "outputs": [
    {
     "data": {
      "text/html": [
       "<div>\n",
       "<style scoped>\n",
       "    .dataframe tbody tr th:only-of-type {\n",
       "        vertical-align: middle;\n",
       "    }\n",
       "\n",
       "    .dataframe tbody tr th {\n",
       "        vertical-align: top;\n",
       "    }\n",
       "\n",
       "    .dataframe thead th {\n",
       "        text-align: right;\n",
       "    }\n",
       "</style>\n",
       "<table border=\"1\" class=\"dataframe\">\n",
       "  <thead>\n",
       "    <tr style=\"text-align: right;\">\n",
       "      <th></th>\n",
       "      <th>Anio mes</th>\n",
       "      <th>Codigo IATA</th>\n",
       "      <th>Descripcion</th>\n",
       "      <th>Estado</th>\n",
       "      <th>Pasajeros nacionales</th>\n",
       "      <th>Pasajeros internacionales</th>\n",
       "    </tr>\n",
       "  </thead>\n",
       "  <tbody>\n",
       "    <tr>\n",
       "      <th>0</th>\n",
       "      <td>201501</td>\n",
       "      <td>CEN</td>\n",
       "      <td>Ciudad Obregon</td>\n",
       "      <td>Sonora</td>\n",
       "      <td>17149</td>\n",
       "      <td>721</td>\n",
       "    </tr>\n",
       "    <tr>\n",
       "      <th>1</th>\n",
       "      <td>201501</td>\n",
       "      <td>CLQ</td>\n",
       "      <td>Colima</td>\n",
       "      <td>Colima</td>\n",
       "      <td>8486</td>\n",
       "      <td>124</td>\n",
       "    </tr>\n",
       "    <tr>\n",
       "      <th>2</th>\n",
       "      <td>201501</td>\n",
       "      <td>CME</td>\n",
       "      <td>Ciudad del Carmen</td>\n",
       "      <td>Campeche</td>\n",
       "      <td>56079</td>\n",
       "      <td>3126</td>\n",
       "    </tr>\n",
       "  </tbody>\n",
       "</table>\n",
       "</div>"
      ],
      "text/plain": [
       "   Anio mes Codigo IATA        Descripcion    Estado  Pasajeros nacionales  \\\n",
       "0    201501         CEN     Ciudad Obregon    Sonora                 17149   \n",
       "1    201501         CLQ             Colima    Colima                  8486   \n",
       "2    201501         CME  Ciudad del Carmen  Campeche                 56079   \n",
       "\n",
       "   Pasajeros internacionales  \n",
       "0                        721  \n",
       "1                        124  \n",
       "2                       3126  "
      ]
     },
     "execution_count": 78,
     "metadata": {},
     "output_type": "execute_result"
    }
   ],
   "source": [
    "pas.head(3)"
   ]
  },
  {
   "cell_type": "code",
   "execution_count": 79,
   "metadata": {
    "ExecuteTime": {
     "end_time": "2018-03-16T01:07:01.341131Z",
     "start_time": "2018-03-16T01:07:01.329993Z"
    },
    "colab": {},
    "colab_type": "code",
    "id": "vWe6xV-pp_Zo"
   },
   "outputs": [
    {
     "data": {
      "text/html": [
       "<div>\n",
       "<style scoped>\n",
       "    .dataframe tbody tr th:only-of-type {\n",
       "        vertical-align: middle;\n",
       "    }\n",
       "\n",
       "    .dataframe tbody tr th {\n",
       "        vertical-align: top;\n",
       "    }\n",
       "\n",
       "    .dataframe thead th {\n",
       "        text-align: right;\n",
       "    }\n",
       "</style>\n",
       "<table border=\"1\" class=\"dataframe\">\n",
       "  <thead>\n",
       "    <tr style=\"text-align: right;\">\n",
       "      <th></th>\n",
       "      <th>Anio mes</th>\n",
       "      <th>Codigo IATA</th>\n",
       "      <th>Descripcion</th>\n",
       "      <th>Estado</th>\n",
       "      <th>Operaciones nacionales</th>\n",
       "      <th>Operaciones internacionales</th>\n",
       "    </tr>\n",
       "  </thead>\n",
       "  <tbody>\n",
       "    <tr>\n",
       "      <th>0</th>\n",
       "      <td>201501</td>\n",
       "      <td>CEN</td>\n",
       "      <td>Ciudad Obregon</td>\n",
       "      <td>Sonora</td>\n",
       "      <td>730</td>\n",
       "      <td>137</td>\n",
       "    </tr>\n",
       "    <tr>\n",
       "      <th>1</th>\n",
       "      <td>201501</td>\n",
       "      <td>CLQ</td>\n",
       "      <td>Colima</td>\n",
       "      <td>Colima</td>\n",
       "      <td>468</td>\n",
       "      <td>0</td>\n",
       "    </tr>\n",
       "    <tr>\n",
       "      <th>2</th>\n",
       "      <td>201501</td>\n",
       "      <td>CME</td>\n",
       "      <td>Ciudad del Carmen</td>\n",
       "      <td>Campeche</td>\n",
       "      <td>4750</td>\n",
       "      <td>83</td>\n",
       "    </tr>\n",
       "  </tbody>\n",
       "</table>\n",
       "</div>"
      ],
      "text/plain": [
       "   Anio mes Codigo IATA        Descripcion    Estado  Operaciones nacionales  \\\n",
       "0    201501         CEN     Ciudad Obregon    Sonora                     730   \n",
       "1    201501         CLQ             Colima    Colima                     468   \n",
       "2    201501         CME  Ciudad del Carmen  Campeche                    4750   \n",
       "\n",
       "   Operaciones internacionales  \n",
       "0                          137  \n",
       "1                            0  \n",
       "2                           83  "
      ]
     },
     "execution_count": 79,
     "metadata": {},
     "output_type": "execute_result"
    }
   ],
   "source": [
    "ops.head(3)"
   ]
  },
  {
   "cell_type": "code",
   "execution_count": 80,
   "metadata": {
    "ExecuteTime": {
     "end_time": "2018-03-16T01:07:41.334794Z",
     "start_time": "2018-03-16T01:07:41.210840Z"
    },
    "colab": {},
    "colab_type": "code",
    "id": "fqaScINGp_Zr"
   },
   "outputs": [
    {
     "data": {
      "text/html": [
       "<div>\n",
       "<style scoped>\n",
       "    .dataframe tbody tr th:only-of-type {\n",
       "        vertical-align: middle;\n",
       "    }\n",
       "\n",
       "    .dataframe tbody tr th {\n",
       "        vertical-align: top;\n",
       "    }\n",
       "\n",
       "    .dataframe thead th {\n",
       "        text-align: right;\n",
       "    }\n",
       "</style>\n",
       "<table border=\"1\" class=\"dataframe\">\n",
       "  <thead>\n",
       "    <tr style=\"text-align: right;\">\n",
       "      <th></th>\n",
       "      <th>Anio mes</th>\n",
       "      <th>Codigo IATA</th>\n",
       "      <th>Descripcion</th>\n",
       "      <th>Estado</th>\n",
       "      <th>Pasajeros nacionales</th>\n",
       "      <th>Pasajeros internacionales</th>\n",
       "      <th>Operaciones nacionales</th>\n",
       "      <th>Operaciones internacionales</th>\n",
       "    </tr>\n",
       "  </thead>\n",
       "  <tbody>\n",
       "    <tr>\n",
       "      <th>0</th>\n",
       "      <td>201501</td>\n",
       "      <td>CEN</td>\n",
       "      <td>Ciudad Obregon</td>\n",
       "      <td>Sonora</td>\n",
       "      <td>17149</td>\n",
       "      <td>721</td>\n",
       "      <td>730</td>\n",
       "      <td>137</td>\n",
       "    </tr>\n",
       "    <tr>\n",
       "      <th>1</th>\n",
       "      <td>201501</td>\n",
       "      <td>CLQ</td>\n",
       "      <td>Colima</td>\n",
       "      <td>Colima</td>\n",
       "      <td>8486</td>\n",
       "      <td>124</td>\n",
       "      <td>468</td>\n",
       "      <td>0</td>\n",
       "    </tr>\n",
       "    <tr>\n",
       "      <th>2</th>\n",
       "      <td>201501</td>\n",
       "      <td>CME</td>\n",
       "      <td>Ciudad del Carmen</td>\n",
       "      <td>Campeche</td>\n",
       "      <td>56079</td>\n",
       "      <td>3126</td>\n",
       "      <td>4750</td>\n",
       "      <td>83</td>\n",
       "    </tr>\n",
       "    <tr>\n",
       "      <th>3</th>\n",
       "      <td>201501</td>\n",
       "      <td>CPE</td>\n",
       "      <td>Campeche</td>\n",
       "      <td>Campeche</td>\n",
       "      <td>13264</td>\n",
       "      <td>215</td>\n",
       "      <td>398</td>\n",
       "      <td>10</td>\n",
       "    </tr>\n",
       "    <tr>\n",
       "      <th>4</th>\n",
       "      <td>201501</td>\n",
       "      <td>CTM</td>\n",
       "      <td>Chetumal</td>\n",
       "      <td>Quintana Roo</td>\n",
       "      <td>13153</td>\n",
       "      <td>0</td>\n",
       "      <td>338</td>\n",
       "      <td>0</td>\n",
       "    </tr>\n",
       "  </tbody>\n",
       "</table>\n",
       "</div>"
      ],
      "text/plain": [
       "   Anio mes Codigo IATA        Descripcion        Estado  \\\n",
       "0    201501         CEN     Ciudad Obregon        Sonora   \n",
       "1    201501         CLQ             Colima        Colima   \n",
       "2    201501         CME  Ciudad del Carmen      Campeche   \n",
       "3    201501         CPE           Campeche      Campeche   \n",
       "4    201501         CTM           Chetumal  Quintana Roo   \n",
       "\n",
       "   Pasajeros nacionales  Pasajeros internacionales  Operaciones nacionales  \\\n",
       "0                 17149                        721                     730   \n",
       "1                  8486                        124                     468   \n",
       "2                 56079                       3126                    4750   \n",
       "3                 13264                        215                     398   \n",
       "4                 13153                          0                     338   \n",
       "\n",
       "   Operaciones internacionales  \n",
       "0                          137  \n",
       "1                            0  \n",
       "2                           83  \n",
       "3                           10  \n",
       "4                            0  "
      ]
     },
     "execution_count": 80,
     "metadata": {},
     "output_type": "execute_result"
    }
   ],
   "source": [
    "pas.merge(ops).head(5)"
   ]
  },
  {
   "cell_type": "markdown",
   "metadata": {
    "colab_type": "text",
    "id": "2s6KJw5sp_Zx"
   },
   "source": [
    "Por default, se une por las columnas que tienen nombres comunes, pero podríamos especificar."
   ]
  },
  {
   "cell_type": "code",
   "execution_count": 81,
   "metadata": {
    "ExecuteTime": {
     "end_time": "2018-03-16T01:08:44.683340Z",
     "start_time": "2018-03-16T01:08:44.642448Z"
    },
    "colab": {},
    "colab_type": "code",
    "id": "E09gRzlAp_Zy"
   },
   "outputs": [
    {
     "data": {
      "text/html": [
       "<div>\n",
       "<style scoped>\n",
       "    .dataframe tbody tr th:only-of-type {\n",
       "        vertical-align: middle;\n",
       "    }\n",
       "\n",
       "    .dataframe tbody tr th {\n",
       "        vertical-align: top;\n",
       "    }\n",
       "\n",
       "    .dataframe thead th {\n",
       "        text-align: right;\n",
       "    }\n",
       "</style>\n",
       "<table border=\"1\" class=\"dataframe\">\n",
       "  <thead>\n",
       "    <tr style=\"text-align: right;\">\n",
       "      <th></th>\n",
       "      <th>Anio mes</th>\n",
       "      <th>Codigo IATA_x</th>\n",
       "      <th>Descripcion_x</th>\n",
       "      <th>Estado_x</th>\n",
       "      <th>Pasajeros nacionales</th>\n",
       "      <th>Pasajeros internacionales</th>\n",
       "      <th>Codigo IATA_y</th>\n",
       "      <th>Descripcion_y</th>\n",
       "      <th>Estado_y</th>\n",
       "      <th>Operaciones nacionales</th>\n",
       "      <th>Operaciones internacionales</th>\n",
       "    </tr>\n",
       "  </thead>\n",
       "  <tbody>\n",
       "    <tr>\n",
       "      <th>0</th>\n",
       "      <td>201501</td>\n",
       "      <td>CEN</td>\n",
       "      <td>Ciudad Obregon</td>\n",
       "      <td>Sonora</td>\n",
       "      <td>17149</td>\n",
       "      <td>721</td>\n",
       "      <td>CEN</td>\n",
       "      <td>Ciudad Obregon</td>\n",
       "      <td>Sonora</td>\n",
       "      <td>730</td>\n",
       "      <td>137</td>\n",
       "    </tr>\n",
       "    <tr>\n",
       "      <th>1</th>\n",
       "      <td>201501</td>\n",
       "      <td>CEN</td>\n",
       "      <td>Ciudad Obregon</td>\n",
       "      <td>Sonora</td>\n",
       "      <td>17149</td>\n",
       "      <td>721</td>\n",
       "      <td>CLQ</td>\n",
       "      <td>Colima</td>\n",
       "      <td>Colima</td>\n",
       "      <td>468</td>\n",
       "      <td>0</td>\n",
       "    </tr>\n",
       "    <tr>\n",
       "      <th>2</th>\n",
       "      <td>201501</td>\n",
       "      <td>CEN</td>\n",
       "      <td>Ciudad Obregon</td>\n",
       "      <td>Sonora</td>\n",
       "      <td>17149</td>\n",
       "      <td>721</td>\n",
       "      <td>CME</td>\n",
       "      <td>Ciudad del Carmen</td>\n",
       "      <td>Campeche</td>\n",
       "      <td>4750</td>\n",
       "      <td>83</td>\n",
       "    </tr>\n",
       "    <tr>\n",
       "      <th>3</th>\n",
       "      <td>201501</td>\n",
       "      <td>CEN</td>\n",
       "      <td>Ciudad Obregon</td>\n",
       "      <td>Sonora</td>\n",
       "      <td>17149</td>\n",
       "      <td>721</td>\n",
       "      <td>CPE</td>\n",
       "      <td>Campeche</td>\n",
       "      <td>Campeche</td>\n",
       "      <td>398</td>\n",
       "      <td>10</td>\n",
       "    </tr>\n",
       "    <tr>\n",
       "      <th>4</th>\n",
       "      <td>201501</td>\n",
       "      <td>CEN</td>\n",
       "      <td>Ciudad Obregon</td>\n",
       "      <td>Sonora</td>\n",
       "      <td>17149</td>\n",
       "      <td>721</td>\n",
       "      <td>CTM</td>\n",
       "      <td>Chetumal</td>\n",
       "      <td>Quintana Roo</td>\n",
       "      <td>338</td>\n",
       "      <td>0</td>\n",
       "    </tr>\n",
       "  </tbody>\n",
       "</table>\n",
       "</div>"
      ],
      "text/plain": [
       "   Anio mes Codigo IATA_x   Descripcion_x Estado_x  Pasajeros nacionales  \\\n",
       "0    201501           CEN  Ciudad Obregon   Sonora                 17149   \n",
       "1    201501           CEN  Ciudad Obregon   Sonora                 17149   \n",
       "2    201501           CEN  Ciudad Obregon   Sonora                 17149   \n",
       "3    201501           CEN  Ciudad Obregon   Sonora                 17149   \n",
       "4    201501           CEN  Ciudad Obregon   Sonora                 17149   \n",
       "\n",
       "   Pasajeros internacionales Codigo IATA_y      Descripcion_y      Estado_y  \\\n",
       "0                        721           CEN     Ciudad Obregon        Sonora   \n",
       "1                        721           CLQ             Colima        Colima   \n",
       "2                        721           CME  Ciudad del Carmen      Campeche   \n",
       "3                        721           CPE           Campeche      Campeche   \n",
       "4                        721           CTM           Chetumal  Quintana Roo   \n",
       "\n",
       "   Operaciones nacionales  Operaciones internacionales  \n",
       "0                     730                          137  \n",
       "1                     468                            0  \n",
       "2                    4750                           83  \n",
       "3                     398                           10  \n",
       "4                     338                            0  "
      ]
     },
     "execution_count": 81,
     "metadata": {},
     "output_type": "execute_result"
    }
   ],
   "source": [
    "pas.merge(ops, on='Anio mes').head(5)"
   ]
  },
  {
   "cell_type": "markdown",
   "metadata": {
    "colab_type": "text",
    "id": "0dM7A7map_Z4"
   },
   "source": [
    "#### Tablas relacionales\n",
    "Se juntan por una o más llaves\n",
    "Tipos de join:\n",
    "* left\n",
    "* right\n",
    "* outer\n",
    "* inner\n",
    "\n",
    "Por default, pandas usa inner"
   ]
  },
  {
   "cell_type": "code",
   "execution_count": 82,
   "metadata": {
    "ExecuteTime": {
     "end_time": "2018-03-16T01:27:34.411299Z",
     "start_time": "2018-03-16T01:27:34.398244Z"
    },
    "colab": {},
    "colab_type": "code",
    "id": "ZHJG5dHTp_Z4"
   },
   "outputs": [
    {
     "data": {
      "text/html": [
       "<div>\n",
       "<style scoped>\n",
       "    .dataframe tbody tr th:only-of-type {\n",
       "        vertical-align: middle;\n",
       "    }\n",
       "\n",
       "    .dataframe tbody tr th {\n",
       "        vertical-align: top;\n",
       "    }\n",
       "\n",
       "    .dataframe thead th {\n",
       "        text-align: right;\n",
       "    }\n",
       "</style>\n",
       "<table border=\"1\" class=\"dataframe\">\n",
       "  <thead>\n",
       "    <tr style=\"text-align: right;\">\n",
       "      <th></th>\n",
       "      <th>llave1</th>\n",
       "      <th>var_a</th>\n",
       "    </tr>\n",
       "  </thead>\n",
       "  <tbody>\n",
       "    <tr>\n",
       "      <th>0</th>\n",
       "      <td>1</td>\n",
       "      <td>uno</td>\n",
       "    </tr>\n",
       "    <tr>\n",
       "      <th>1</th>\n",
       "      <td>2</td>\n",
       "      <td>dos</td>\n",
       "    </tr>\n",
       "    <tr>\n",
       "      <th>2</th>\n",
       "      <td>3</td>\n",
       "      <td>tres</td>\n",
       "    </tr>\n",
       "    <tr>\n",
       "      <th>3</th>\n",
       "      <td>2</td>\n",
       "      <td>dos</td>\n",
       "    </tr>\n",
       "    <tr>\n",
       "      <th>4</th>\n",
       "      <td>7</td>\n",
       "      <td>siete</td>\n",
       "    </tr>\n",
       "  </tbody>\n",
       "</table>\n",
       "</div>"
      ],
      "text/plain": [
       "   llave1  var_a\n",
       "0       1    uno\n",
       "1       2    dos\n",
       "2       3   tres\n",
       "3       2    dos\n",
       "4       7  siete"
      ]
     },
     "execution_count": 82,
     "metadata": {},
     "output_type": "execute_result"
    }
   ],
   "source": [
    "A = pd.DataFrame({'llave1': [1, 2, 3, 2, 7],\n",
    "                  'var_a': ['uno', 'dos', 'tres', 'dos', 'siete']})\n",
    "B = pd.DataFrame({'llave1': [1, 4, 10, 2, 3],\n",
    "                  'var_b': ['uno', 'cuatro', 'diez', 'dos', 'tres']})\n",
    "A"
   ]
  },
  {
   "cell_type": "code",
   "execution_count": 83,
   "metadata": {
    "ExecuteTime": {
     "end_time": "2018-03-16T01:27:36.106467Z",
     "start_time": "2018-03-16T01:27:36.100264Z"
    },
    "colab": {},
    "colab_type": "code",
    "id": "xXUz131ip_Z6"
   },
   "outputs": [
    {
     "data": {
      "text/html": [
       "<div>\n",
       "<style scoped>\n",
       "    .dataframe tbody tr th:only-of-type {\n",
       "        vertical-align: middle;\n",
       "    }\n",
       "\n",
       "    .dataframe tbody tr th {\n",
       "        vertical-align: top;\n",
       "    }\n",
       "\n",
       "    .dataframe thead th {\n",
       "        text-align: right;\n",
       "    }\n",
       "</style>\n",
       "<table border=\"1\" class=\"dataframe\">\n",
       "  <thead>\n",
       "    <tr style=\"text-align: right;\">\n",
       "      <th></th>\n",
       "      <th>llave1</th>\n",
       "      <th>var_b</th>\n",
       "    </tr>\n",
       "  </thead>\n",
       "  <tbody>\n",
       "    <tr>\n",
       "      <th>0</th>\n",
       "      <td>1</td>\n",
       "      <td>uno</td>\n",
       "    </tr>\n",
       "    <tr>\n",
       "      <th>1</th>\n",
       "      <td>4</td>\n",
       "      <td>cuatro</td>\n",
       "    </tr>\n",
       "    <tr>\n",
       "      <th>2</th>\n",
       "      <td>10</td>\n",
       "      <td>diez</td>\n",
       "    </tr>\n",
       "    <tr>\n",
       "      <th>3</th>\n",
       "      <td>2</td>\n",
       "      <td>dos</td>\n",
       "    </tr>\n",
       "    <tr>\n",
       "      <th>4</th>\n",
       "      <td>3</td>\n",
       "      <td>tres</td>\n",
       "    </tr>\n",
       "  </tbody>\n",
       "</table>\n",
       "</div>"
      ],
      "text/plain": [
       "   llave1   var_b\n",
       "0       1     uno\n",
       "1       4  cuatro\n",
       "2      10    diez\n",
       "3       2     dos\n",
       "4       3    tres"
      ]
     },
     "execution_count": 83,
     "metadata": {},
     "output_type": "execute_result"
    }
   ],
   "source": [
    "B"
   ]
  },
  {
   "cell_type": "code",
   "execution_count": 84,
   "metadata": {
    "ExecuteTime": {
     "end_time": "2018-03-16T01:27:38.398490Z",
     "start_time": "2018-03-16T01:27:38.386548Z"
    },
    "colab": {},
    "colab_type": "code",
    "id": "j89QDHUPp_Z9"
   },
   "outputs": [
    {
     "data": {
      "text/html": [
       "<div>\n",
       "<style scoped>\n",
       "    .dataframe tbody tr th:only-of-type {\n",
       "        vertical-align: middle;\n",
       "    }\n",
       "\n",
       "    .dataframe tbody tr th {\n",
       "        vertical-align: top;\n",
       "    }\n",
       "\n",
       "    .dataframe thead th {\n",
       "        text-align: right;\n",
       "    }\n",
       "</style>\n",
       "<table border=\"1\" class=\"dataframe\">\n",
       "  <thead>\n",
       "    <tr style=\"text-align: right;\">\n",
       "      <th></th>\n",
       "      <th>llave1</th>\n",
       "      <th>var_a</th>\n",
       "      <th>var_b</th>\n",
       "    </tr>\n",
       "  </thead>\n",
       "  <tbody>\n",
       "    <tr>\n",
       "      <th>0</th>\n",
       "      <td>1</td>\n",
       "      <td>uno</td>\n",
       "      <td>uno</td>\n",
       "    </tr>\n",
       "    <tr>\n",
       "      <th>1</th>\n",
       "      <td>2</td>\n",
       "      <td>dos</td>\n",
       "      <td>dos</td>\n",
       "    </tr>\n",
       "    <tr>\n",
       "      <th>2</th>\n",
       "      <td>2</td>\n",
       "      <td>dos</td>\n",
       "      <td>dos</td>\n",
       "    </tr>\n",
       "    <tr>\n",
       "      <th>3</th>\n",
       "      <td>3</td>\n",
       "      <td>tres</td>\n",
       "      <td>tres</td>\n",
       "    </tr>\n",
       "  </tbody>\n",
       "</table>\n",
       "</div>"
      ],
      "text/plain": [
       "   llave1 var_a var_b\n",
       "0       1   uno   uno\n",
       "1       2   dos   dos\n",
       "2       2   dos   dos\n",
       "3       3  tres  tres"
      ]
     },
     "execution_count": 84,
     "metadata": {},
     "output_type": "execute_result"
    }
   ],
   "source": [
    "A.merge(B, how='inner')\n"
   ]
  },
  {
   "cell_type": "code",
   "execution_count": 85,
   "metadata": {
    "ExecuteTime": {
     "end_time": "2018-03-16T01:27:40.649904Z",
     "start_time": "2018-03-16T01:27:40.630765Z"
    },
    "colab": {},
    "colab_type": "code",
    "id": "caOU4i2Gp_aB"
   },
   "outputs": [
    {
     "data": {
      "text/html": [
       "<div>\n",
       "<style scoped>\n",
       "    .dataframe tbody tr th:only-of-type {\n",
       "        vertical-align: middle;\n",
       "    }\n",
       "\n",
       "    .dataframe tbody tr th {\n",
       "        vertical-align: top;\n",
       "    }\n",
       "\n",
       "    .dataframe thead th {\n",
       "        text-align: right;\n",
       "    }\n",
       "</style>\n",
       "<table border=\"1\" class=\"dataframe\">\n",
       "  <thead>\n",
       "    <tr style=\"text-align: right;\">\n",
       "      <th></th>\n",
       "      <th>llave1</th>\n",
       "      <th>var_a</th>\n",
       "      <th>var_b</th>\n",
       "    </tr>\n",
       "  </thead>\n",
       "  <tbody>\n",
       "    <tr>\n",
       "      <th>0</th>\n",
       "      <td>1</td>\n",
       "      <td>uno</td>\n",
       "      <td>uno</td>\n",
       "    </tr>\n",
       "    <tr>\n",
       "      <th>1</th>\n",
       "      <td>2</td>\n",
       "      <td>dos</td>\n",
       "      <td>dos</td>\n",
       "    </tr>\n",
       "    <tr>\n",
       "      <th>2</th>\n",
       "      <td>3</td>\n",
       "      <td>tres</td>\n",
       "      <td>tres</td>\n",
       "    </tr>\n",
       "    <tr>\n",
       "      <th>3</th>\n",
       "      <td>2</td>\n",
       "      <td>dos</td>\n",
       "      <td>dos</td>\n",
       "    </tr>\n",
       "    <tr>\n",
       "      <th>4</th>\n",
       "      <td>7</td>\n",
       "      <td>siete</td>\n",
       "      <td>NaN</td>\n",
       "    </tr>\n",
       "  </tbody>\n",
       "</table>\n",
       "</div>"
      ],
      "text/plain": [
       "   llave1  var_a var_b\n",
       "0       1    uno   uno\n",
       "1       2    dos   dos\n",
       "2       3   tres  tres\n",
       "3       2    dos   dos\n",
       "4       7  siete   NaN"
      ]
     },
     "execution_count": 85,
     "metadata": {},
     "output_type": "execute_result"
    }
   ],
   "source": [
    "A.merge(B, how='left')"
   ]
  },
  {
   "cell_type": "code",
   "execution_count": 86,
   "metadata": {
    "ExecuteTime": {
     "end_time": "2018-03-16T01:27:49.810267Z",
     "start_time": "2018-03-16T01:27:49.782181Z"
    },
    "colab": {},
    "colab_type": "code",
    "id": "MKW0cdOTp_aF"
   },
   "outputs": [
    {
     "data": {
      "text/html": [
       "<div>\n",
       "<style scoped>\n",
       "    .dataframe tbody tr th:only-of-type {\n",
       "        vertical-align: middle;\n",
       "    }\n",
       "\n",
       "    .dataframe tbody tr th {\n",
       "        vertical-align: top;\n",
       "    }\n",
       "\n",
       "    .dataframe thead th {\n",
       "        text-align: right;\n",
       "    }\n",
       "</style>\n",
       "<table border=\"1\" class=\"dataframe\">\n",
       "  <thead>\n",
       "    <tr style=\"text-align: right;\">\n",
       "      <th></th>\n",
       "      <th>llave1</th>\n",
       "      <th>var_a</th>\n",
       "      <th>var_b</th>\n",
       "    </tr>\n",
       "  </thead>\n",
       "  <tbody>\n",
       "    <tr>\n",
       "      <th>0</th>\n",
       "      <td>1</td>\n",
       "      <td>uno</td>\n",
       "      <td>uno</td>\n",
       "    </tr>\n",
       "    <tr>\n",
       "      <th>1</th>\n",
       "      <td>4</td>\n",
       "      <td>NaN</td>\n",
       "      <td>cuatro</td>\n",
       "    </tr>\n",
       "    <tr>\n",
       "      <th>2</th>\n",
       "      <td>10</td>\n",
       "      <td>NaN</td>\n",
       "      <td>diez</td>\n",
       "    </tr>\n",
       "    <tr>\n",
       "      <th>3</th>\n",
       "      <td>2</td>\n",
       "      <td>dos</td>\n",
       "      <td>dos</td>\n",
       "    </tr>\n",
       "    <tr>\n",
       "      <th>4</th>\n",
       "      <td>2</td>\n",
       "      <td>dos</td>\n",
       "      <td>dos</td>\n",
       "    </tr>\n",
       "    <tr>\n",
       "      <th>5</th>\n",
       "      <td>3</td>\n",
       "      <td>tres</td>\n",
       "      <td>tres</td>\n",
       "    </tr>\n",
       "  </tbody>\n",
       "</table>\n",
       "</div>"
      ],
      "text/plain": [
       "   llave1 var_a   var_b\n",
       "0       1   uno     uno\n",
       "1       4   NaN  cuatro\n",
       "2      10   NaN    diez\n",
       "3       2   dos     dos\n",
       "4       2   dos     dos\n",
       "5       3  tres    tres"
      ]
     },
     "execution_count": 86,
     "metadata": {},
     "output_type": "execute_result"
    }
   ],
   "source": [
    "A.merge(B, how='right')"
   ]
  },
  {
   "cell_type": "code",
   "execution_count": 87,
   "metadata": {
    "ExecuteTime": {
     "end_time": "2018-03-16T01:27:51.953583Z",
     "start_time": "2018-03-16T01:27:51.925265Z"
    },
    "colab": {},
    "colab_type": "code",
    "id": "lY2XxdpVp_aH"
   },
   "outputs": [
    {
     "data": {
      "text/html": [
       "<div>\n",
       "<style scoped>\n",
       "    .dataframe tbody tr th:only-of-type {\n",
       "        vertical-align: middle;\n",
       "    }\n",
       "\n",
       "    .dataframe tbody tr th {\n",
       "        vertical-align: top;\n",
       "    }\n",
       "\n",
       "    .dataframe thead th {\n",
       "        text-align: right;\n",
       "    }\n",
       "</style>\n",
       "<table border=\"1\" class=\"dataframe\">\n",
       "  <thead>\n",
       "    <tr style=\"text-align: right;\">\n",
       "      <th></th>\n",
       "      <th>llave1</th>\n",
       "      <th>var_a</th>\n",
       "      <th>var_b</th>\n",
       "    </tr>\n",
       "  </thead>\n",
       "  <tbody>\n",
       "    <tr>\n",
       "      <th>0</th>\n",
       "      <td>1</td>\n",
       "      <td>uno</td>\n",
       "      <td>uno</td>\n",
       "    </tr>\n",
       "    <tr>\n",
       "      <th>1</th>\n",
       "      <td>2</td>\n",
       "      <td>dos</td>\n",
       "      <td>dos</td>\n",
       "    </tr>\n",
       "    <tr>\n",
       "      <th>2</th>\n",
       "      <td>2</td>\n",
       "      <td>dos</td>\n",
       "      <td>dos</td>\n",
       "    </tr>\n",
       "    <tr>\n",
       "      <th>3</th>\n",
       "      <td>3</td>\n",
       "      <td>tres</td>\n",
       "      <td>tres</td>\n",
       "    </tr>\n",
       "    <tr>\n",
       "      <th>4</th>\n",
       "      <td>7</td>\n",
       "      <td>siete</td>\n",
       "      <td>NaN</td>\n",
       "    </tr>\n",
       "    <tr>\n",
       "      <th>5</th>\n",
       "      <td>4</td>\n",
       "      <td>NaN</td>\n",
       "      <td>cuatro</td>\n",
       "    </tr>\n",
       "    <tr>\n",
       "      <th>6</th>\n",
       "      <td>10</td>\n",
       "      <td>NaN</td>\n",
       "      <td>diez</td>\n",
       "    </tr>\n",
       "  </tbody>\n",
       "</table>\n",
       "</div>"
      ],
      "text/plain": [
       "   llave1  var_a   var_b\n",
       "0       1    uno     uno\n",
       "1       2    dos     dos\n",
       "2       2    dos     dos\n",
       "3       3   tres    tres\n",
       "4       7  siete     NaN\n",
       "5       4    NaN  cuatro\n",
       "6      10    NaN    diez"
      ]
     },
     "execution_count": 87,
     "metadata": {},
     "output_type": "execute_result"
    }
   ],
   "source": [
    "A.merge(B, how='outer')"
   ]
  },
  {
   "cell_type": "markdown",
   "metadata": {
    "colab_type": "text",
    "id": "AoND1PW2p_aI"
   },
   "source": [
    "### Split-apply-combine"
   ]
  },
  {
   "cell_type": "markdown",
   "metadata": {
    "colab_type": "text",
    "id": "E-b1VzUpp_aJ"
   },
   "source": [
    "**Ejercicio**: Encuentra las operaciones nacionales por mes de los 3 códigos IATA con mayor número de pasajeros internacionales.\n",
    "#El default del merge es index"
   ]
  },
  {
   "cell_type": "code",
   "execution_count": null,
   "metadata": {
    "ExecuteTime": {
     "end_time": "2018-03-16T01:34:28.089897Z",
     "start_time": "2018-03-16T01:34:28.064246Z"
    },
    "colab": {},
    "colab_type": "code",
    "id": "E97_0CeDp_aJ",
    "run_control": {
     "marked": false
    }
   },
   "outputs": [],
   "source": []
  },
  {
   "cell_type": "code",
   "execution_count": null,
   "metadata": {
    "ExecuteTime": {
     "end_time": "2018-03-16T01:40:21.327838Z",
     "start_time": "2018-03-16T01:40:21.285346Z"
    },
    "colab": {},
    "colab_type": "code",
    "id": "XpoGTowYp_aL"
   },
   "outputs": [],
   "source": []
  },
  {
   "cell_type": "markdown",
   "metadata": {
    "colab_type": "text",
    "id": "zmEFREGTp_aR"
   },
   "source": [
    "**Ejercicio**: Número de pasajeros internacionales por Año de los 3 códigos IATA que tuvieron el número máximo de operaciones nacionales en ese año."
   ]
  },
  {
   "cell_type": "code",
   "execution_count": null,
   "metadata": {
    "ExecuteTime": {
     "end_time": "2018-03-16T01:51:43.529208Z",
     "start_time": "2018-03-16T01:51:43.486052Z"
    },
    "colab": {},
    "colab_type": "code",
    "id": "HnxK1xxbp_aS"
   },
   "outputs": [],
   "source": []
  },
  {
   "cell_type": "code",
   "execution_count": null,
   "metadata": {
    "ExecuteTime": {
     "end_time": "2018-03-14T00:01:56.407999Z",
     "start_time": "2018-03-14T00:01:56.297348Z"
    },
    "colab": {},
    "colab_type": "code",
    "id": "iDx5yS9lp_aW",
    "solution2": "hidden"
   },
   "outputs": [],
   "source": []
  },
  {
   "cell_type": "markdown",
   "metadata": {
    "colab_type": "text",
    "id": "GR2I2cjqp_aY"
   },
   "source": [
    "### Pivot"
   ]
  },
  {
   "cell_type": "code",
   "execution_count": 88,
   "metadata": {
    "ExecuteTime": {
     "end_time": "2018-03-16T01:56:00.762700Z",
     "start_time": "2018-03-16T01:56:00.729640Z"
    },
    "colab": {},
    "colab_type": "code",
    "id": "rnDszmuLp_aZ"
   },
   "outputs": [
    {
     "data": {
      "text/html": [
       "<div>\n",
       "<style scoped>\n",
       "    .dataframe tbody tr th:only-of-type {\n",
       "        vertical-align: middle;\n",
       "    }\n",
       "\n",
       "    .dataframe tbody tr th {\n",
       "        vertical-align: top;\n",
       "    }\n",
       "\n",
       "    .dataframe thead th {\n",
       "        text-align: right;\n",
       "    }\n",
       "</style>\n",
       "<table border=\"1\" class=\"dataframe\">\n",
       "  <thead>\n",
       "    <tr style=\"text-align: right;\">\n",
       "      <th></th>\n",
       "      <th>Estado</th>\n",
       "      <th>Anio mes</th>\n",
       "      <th>Pasajeros nacionales</th>\n",
       "    </tr>\n",
       "  </thead>\n",
       "  <tbody>\n",
       "    <tr>\n",
       "      <th>0</th>\n",
       "      <td>Baja California  Sur</td>\n",
       "      <td>201501</td>\n",
       "      <td>1050</td>\n",
       "    </tr>\n",
       "    <tr>\n",
       "      <th>1</th>\n",
       "      <td>Baja California  Sur</td>\n",
       "      <td>201502</td>\n",
       "      <td>651</td>\n",
       "    </tr>\n",
       "    <tr>\n",
       "      <th>2</th>\n",
       "      <td>Baja California  Sur</td>\n",
       "      <td>201503</td>\n",
       "      <td>793</td>\n",
       "    </tr>\n",
       "    <tr>\n",
       "      <th>3</th>\n",
       "      <td>Baja California  Sur</td>\n",
       "      <td>201504</td>\n",
       "      <td>1708</td>\n",
       "    </tr>\n",
       "    <tr>\n",
       "      <th>4</th>\n",
       "      <td>Baja California  Sur</td>\n",
       "      <td>201505</td>\n",
       "      <td>884</td>\n",
       "    </tr>\n",
       "  </tbody>\n",
       "</table>\n",
       "</div>"
      ],
      "text/plain": [
       "                 Estado  Anio mes  Pasajeros nacionales\n",
       "0  Baja California  Sur    201501                  1050\n",
       "1  Baja California  Sur    201502                   651\n",
       "2  Baja California  Sur    201503                   793\n",
       "3  Baja California  Sur    201504                  1708\n",
       "4  Baja California  Sur    201505                   884"
      ]
     },
     "execution_count": 88,
     "metadata": {},
     "output_type": "execute_result"
    }
   ],
   "source": [
    "nac_estado = (\n",
    "    pas.\n",
    "    groupby(['Estado','Anio mes'])['Pasajeros nacionales'].\n",
    "    sum().\n",
    "    reset_index()\n",
    ")\n",
    "nac_estado.head(5)"
   ]
  },
  {
   "cell_type": "code",
   "execution_count": 89,
   "metadata": {
    "ExecuteTime": {
     "end_time": "2018-03-16T01:57:09.964572Z",
     "start_time": "2018-03-16T01:57:09.935739Z"
    },
    "colab": {},
    "colab_type": "code",
    "id": "ejDZSXHdp_ab"
   },
   "outputs": [
    {
     "data": {
      "text/html": [
       "<div>\n",
       "<style scoped>\n",
       "    .dataframe tbody tr th:only-of-type {\n",
       "        vertical-align: middle;\n",
       "    }\n",
       "\n",
       "    .dataframe tbody tr th {\n",
       "        vertical-align: top;\n",
       "    }\n",
       "\n",
       "    .dataframe thead th {\n",
       "        text-align: right;\n",
       "    }\n",
       "</style>\n",
       "<table border=\"1\" class=\"dataframe\">\n",
       "  <thead>\n",
       "    <tr style=\"text-align: right;\">\n",
       "      <th>Estado</th>\n",
       "      <th>Baja California  Sur</th>\n",
       "      <th>Campeche</th>\n",
       "      <th>Colima</th>\n",
       "      <th>Michoacan</th>\n",
       "      <th>Nayarit</th>\n",
       "      <th>Oaxaca</th>\n",
       "      <th>Puebla</th>\n",
       "      <th>Quintana Roo</th>\n",
       "      <th>San Luis Potosi</th>\n",
       "      <th>Sonora</th>\n",
       "      <th>Tamaulipas</th>\n",
       "      <th>Veracruz</th>\n",
       "    </tr>\n",
       "    <tr>\n",
       "      <th>Anio mes</th>\n",
       "      <th></th>\n",
       "      <th></th>\n",
       "      <th></th>\n",
       "      <th></th>\n",
       "      <th></th>\n",
       "      <th></th>\n",
       "      <th></th>\n",
       "      <th></th>\n",
       "      <th></th>\n",
       "      <th></th>\n",
       "      <th></th>\n",
       "      <th></th>\n",
       "    </tr>\n",
       "  </thead>\n",
       "  <tbody>\n",
       "    <tr>\n",
       "      <th>201501</th>\n",
       "      <td>1050</td>\n",
       "      <td>69343</td>\n",
       "      <td>8486</td>\n",
       "      <td>8227</td>\n",
       "      <td>8116</td>\n",
       "      <td>16754</td>\n",
       "      <td>20947</td>\n",
       "      <td>13153</td>\n",
       "      <td>108</td>\n",
       "      <td>18721</td>\n",
       "      <td>16988</td>\n",
       "      <td>4490</td>\n",
       "    </tr>\n",
       "    <tr>\n",
       "      <th>201502</th>\n",
       "      <td>651</td>\n",
       "      <td>61052</td>\n",
       "      <td>9207</td>\n",
       "      <td>5581</td>\n",
       "      <td>7062</td>\n",
       "      <td>11146</td>\n",
       "      <td>16566</td>\n",
       "      <td>11110</td>\n",
       "      <td>205</td>\n",
       "      <td>16634</td>\n",
       "      <td>16886</td>\n",
       "      <td>5368</td>\n",
       "    </tr>\n",
       "    <tr>\n",
       "      <th>201503</th>\n",
       "      <td>793</td>\n",
       "      <td>66196</td>\n",
       "      <td>8906</td>\n",
       "      <td>6588</td>\n",
       "      <td>8953</td>\n",
       "      <td>15527</td>\n",
       "      <td>21917</td>\n",
       "      <td>13651</td>\n",
       "      <td>172</td>\n",
       "      <td>21737</td>\n",
       "      <td>21451</td>\n",
       "      <td>5756</td>\n",
       "    </tr>\n",
       "    <tr>\n",
       "      <th>201504</th>\n",
       "      <td>1708</td>\n",
       "      <td>60923</td>\n",
       "      <td>8698</td>\n",
       "      <td>6993</td>\n",
       "      <td>8664</td>\n",
       "      <td>15547</td>\n",
       "      <td>22197</td>\n",
       "      <td>14271</td>\n",
       "      <td>89</td>\n",
       "      <td>21241</td>\n",
       "      <td>18773</td>\n",
       "      <td>5410</td>\n",
       "    </tr>\n",
       "    <tr>\n",
       "      <th>201505</th>\n",
       "      <td>884</td>\n",
       "      <td>64755</td>\n",
       "      <td>8827</td>\n",
       "      <td>7589</td>\n",
       "      <td>9437</td>\n",
       "      <td>11401</td>\n",
       "      <td>22381</td>\n",
       "      <td>13762</td>\n",
       "      <td>158</td>\n",
       "      <td>21419</td>\n",
       "      <td>19075</td>\n",
       "      <td>5130</td>\n",
       "    </tr>\n",
       "  </tbody>\n",
       "</table>\n",
       "</div>"
      ],
      "text/plain": [
       "Estado    Baja California  Sur  Campeche  Colima  Michoacan  Nayarit  Oaxaca  \\\n",
       "Anio mes                                                                       \n",
       "201501                    1050     69343    8486       8227     8116   16754   \n",
       "201502                     651     61052    9207       5581     7062   11146   \n",
       "201503                     793     66196    8906       6588     8953   15527   \n",
       "201504                    1708     60923    8698       6993     8664   15547   \n",
       "201505                     884     64755    8827       7589     9437   11401   \n",
       "\n",
       "Estado    Puebla  Quintana Roo  San Luis Potosi  Sonora  Tamaulipas  Veracruz  \n",
       "Anio mes                                                                       \n",
       "201501     20947         13153              108   18721       16988      4490  \n",
       "201502     16566         11110              205   16634       16886      5368  \n",
       "201503     21917         13651              172   21737       21451      5756  \n",
       "201504     22197         14271               89   21241       18773      5410  \n",
       "201505     22381         13762              158   21419       19075      5130  "
      ]
     },
     "execution_count": 89,
     "metadata": {},
     "output_type": "execute_result"
    }
   ],
   "source": [
    "tabla_estados = nac_estado.pivot(index='Anio mes', \n",
    "                                 columns='Estado', \n",
    "                                 values='Pasajeros nacionales')\n",
    "\n",
    "tabla_estados.head(5)"
   ]
  },
  {
   "cell_type": "code",
   "execution_count": 90,
   "metadata": {
    "ExecuteTime": {
     "end_time": "2018-03-16T01:59:17.554899Z",
     "start_time": "2018-03-16T01:59:17.508155Z"
    },
    "colab": {},
    "colab_type": "code",
    "id": "DyhrWFfXp_ac"
   },
   "outputs": [
    {
     "data": {
      "text/html": [
       "<div>\n",
       "<style scoped>\n",
       "    .dataframe tbody tr th:only-of-type {\n",
       "        vertical-align: middle;\n",
       "    }\n",
       "\n",
       "    .dataframe tbody tr th {\n",
       "        vertical-align: top;\n",
       "    }\n",
       "\n",
       "    .dataframe thead th {\n",
       "        text-align: right;\n",
       "    }\n",
       "</style>\n",
       "<table border=\"1\" class=\"dataframe\">\n",
       "  <thead>\n",
       "    <tr style=\"text-align: right;\">\n",
       "      <th>Codigo IATA</th>\n",
       "      <th>CEN</th>\n",
       "      <th>CLQ</th>\n",
       "      <th>CME</th>\n",
       "      <th>CPE</th>\n",
       "      <th>CTM</th>\n",
       "      <th>CVM</th>\n",
       "      <th>GYM</th>\n",
       "      <th>IZT</th>\n",
       "      <th>LTO</th>\n",
       "      <th>MAM</th>\n",
       "      <th>NLD</th>\n",
       "      <th>NOG</th>\n",
       "      <th>PAZ</th>\n",
       "      <th>PBC</th>\n",
       "      <th>PXM</th>\n",
       "      <th>TCN</th>\n",
       "      <th>TPQ</th>\n",
       "      <th>TSL</th>\n",
       "      <th>UPN</th>\n",
       "    </tr>\n",
       "    <tr>\n",
       "      <th>Anio mes</th>\n",
       "      <th></th>\n",
       "      <th></th>\n",
       "      <th></th>\n",
       "      <th></th>\n",
       "      <th></th>\n",
       "      <th></th>\n",
       "      <th></th>\n",
       "      <th></th>\n",
       "      <th></th>\n",
       "      <th></th>\n",
       "      <th></th>\n",
       "      <th></th>\n",
       "      <th></th>\n",
       "      <th></th>\n",
       "      <th></th>\n",
       "      <th></th>\n",
       "      <th></th>\n",
       "      <th></th>\n",
       "      <th></th>\n",
       "    </tr>\n",
       "  </thead>\n",
       "  <tbody>\n",
       "    <tr>\n",
       "      <th>201501</th>\n",
       "      <td>17149.0</td>\n",
       "      <td>8486.0</td>\n",
       "      <td>56079.0</td>\n",
       "      <td>13264.0</td>\n",
       "      <td>13153.0</td>\n",
       "      <td>4695.0</td>\n",
       "      <td>1315.0</td>\n",
       "      <td>NaN</td>\n",
       "      <td>1050.0</td>\n",
       "      <td>6684.0</td>\n",
       "      <td>5609.0</td>\n",
       "      <td>257.0</td>\n",
       "      <td>4490.0</td>\n",
       "      <td>20794.0</td>\n",
       "      <td>16754.0</td>\n",
       "      <td>153.0</td>\n",
       "      <td>8116.0</td>\n",
       "      <td>108.0</td>\n",
       "      <td>8227.0</td>\n",
       "    </tr>\n",
       "    <tr>\n",
       "      <th>201502</th>\n",
       "      <td>15430.0</td>\n",
       "      <td>9207.0</td>\n",
       "      <td>48255.0</td>\n",
       "      <td>12797.0</td>\n",
       "      <td>11110.0</td>\n",
       "      <td>4902.0</td>\n",
       "      <td>1000.0</td>\n",
       "      <td>NaN</td>\n",
       "      <td>651.0</td>\n",
       "      <td>6443.0</td>\n",
       "      <td>5541.0</td>\n",
       "      <td>204.0</td>\n",
       "      <td>5368.0</td>\n",
       "      <td>16316.0</td>\n",
       "      <td>11146.0</td>\n",
       "      <td>250.0</td>\n",
       "      <td>7062.0</td>\n",
       "      <td>205.0</td>\n",
       "      <td>5581.0</td>\n",
       "    </tr>\n",
       "    <tr>\n",
       "      <th>201503</th>\n",
       "      <td>20272.0</td>\n",
       "      <td>8906.0</td>\n",
       "      <td>50333.0</td>\n",
       "      <td>15863.0</td>\n",
       "      <td>13651.0</td>\n",
       "      <td>8116.0</td>\n",
       "      <td>1170.0</td>\n",
       "      <td>NaN</td>\n",
       "      <td>793.0</td>\n",
       "      <td>7219.0</td>\n",
       "      <td>6116.0</td>\n",
       "      <td>295.0</td>\n",
       "      <td>5756.0</td>\n",
       "      <td>21621.0</td>\n",
       "      <td>15527.0</td>\n",
       "      <td>296.0</td>\n",
       "      <td>8953.0</td>\n",
       "      <td>172.0</td>\n",
       "      <td>6588.0</td>\n",
       "    </tr>\n",
       "  </tbody>\n",
       "</table>\n",
       "</div>"
      ],
      "text/plain": [
       "Codigo IATA      CEN     CLQ      CME      CPE      CTM     CVM     GYM  IZT  \\\n",
       "Anio mes                                                                       \n",
       "201501       17149.0  8486.0  56079.0  13264.0  13153.0  4695.0  1315.0  NaN   \n",
       "201502       15430.0  9207.0  48255.0  12797.0  11110.0  4902.0  1000.0  NaN   \n",
       "201503       20272.0  8906.0  50333.0  15863.0  13651.0  8116.0  1170.0  NaN   \n",
       "\n",
       "Codigo IATA     LTO     MAM     NLD    NOG     PAZ      PBC      PXM    TCN  \\\n",
       "Anio mes                                                                      \n",
       "201501       1050.0  6684.0  5609.0  257.0  4490.0  20794.0  16754.0  153.0   \n",
       "201502        651.0  6443.0  5541.0  204.0  5368.0  16316.0  11146.0  250.0   \n",
       "201503        793.0  7219.0  6116.0  295.0  5756.0  21621.0  15527.0  296.0   \n",
       "\n",
       "Codigo IATA     TPQ    TSL     UPN  \n",
       "Anio mes                            \n",
       "201501       8116.0  108.0  8227.0  \n",
       "201502       7062.0  205.0  5581.0  \n",
       "201503       8953.0  172.0  6588.0  "
      ]
     },
     "execution_count": 90,
     "metadata": {},
     "output_type": "execute_result"
    }
   ],
   "source": [
    "(\n",
    "    pas.\n",
    "    groupby(['Codigo IATA', 'Anio mes'])['Pasajeros nacionales'].\n",
    "    sum().\n",
    "    reset_index().\n",
    "    pivot(\n",
    "        index='Anio mes',\n",
    "        columns='Codigo IATA',\n",
    "        values='Pasajeros nacionales'\n",
    "    )\n",
    ").head(3)"
   ]
  },
  {
   "cell_type": "markdown",
   "metadata": {
    "colab_type": "text",
    "id": "J4CcgW5dp_ai"
   },
   "source": [
    "### Graficar con pandas\n",
    "Pandas tiene una interfaz sencilla con matplotlib."
   ]
  },
  {
   "cell_type": "code",
   "execution_count": 91,
   "metadata": {
    "ExecuteTime": {
     "end_time": "2018-03-16T03:15:43.469330Z",
     "start_time": "2018-03-16T03:15:43.248397Z"
    },
    "colab": {},
    "colab_type": "code",
    "id": "H5hCRzlip_ai"
   },
   "outputs": [
    {
     "data": {
      "image/png": "[encoded data removed]",
      "text/plain": [
       "<Figure size 432x288 with 1 Axes>"
      ]
     },
     "metadata": {
      "needs_background": "light"
     },
     "output_type": "display_data"
    }
   ],
   "source": [
    "pas['Pasajeros nacionales'].hist()\n",
    "plt.show()"
   ]
  },
  {
   "cell_type": "code",
   "execution_count": 92,
   "metadata": {
    "ExecuteTime": {
     "end_time": "2018-03-16T03:15:52.818870Z",
     "start_time": "2018-03-16T03:15:52.792956Z"
    },
    "colab": {},
    "colab_type": "code",
    "id": "1upilu2Pp_al"
   },
   "outputs": [
    {
     "data": {
      "text/html": [
       "<div>\n",
       "<style scoped>\n",
       "    .dataframe tbody tr th:only-of-type {\n",
       "        vertical-align: middle;\n",
       "    }\n",
       "\n",
       "    .dataframe tbody tr th {\n",
       "        vertical-align: top;\n",
       "    }\n",
       "\n",
       "    .dataframe thead th {\n",
       "        text-align: right;\n",
       "    }\n",
       "</style>\n",
       "<table border=\"1\" class=\"dataframe\">\n",
       "  <thead>\n",
       "    <tr style=\"text-align: right;\">\n",
       "      <th></th>\n",
       "      <th>Anio mes</th>\n",
       "      <th>Codigo IATA</th>\n",
       "      <th>Descripcion</th>\n",
       "      <th>Estado</th>\n",
       "      <th>Operaciones nacionales</th>\n",
       "      <th>Operaciones internacionales</th>\n",
       "    </tr>\n",
       "  </thead>\n",
       "  <tbody>\n",
       "    <tr>\n",
       "      <th>0</th>\n",
       "      <td>201501</td>\n",
       "      <td>CEN</td>\n",
       "      <td>Ciudad Obregon</td>\n",
       "      <td>Sonora</td>\n",
       "      <td>730</td>\n",
       "      <td>137</td>\n",
       "    </tr>\n",
       "    <tr>\n",
       "      <th>1</th>\n",
       "      <td>201501</td>\n",
       "      <td>CLQ</td>\n",
       "      <td>Colima</td>\n",
       "      <td>Colima</td>\n",
       "      <td>468</td>\n",
       "      <td>0</td>\n",
       "    </tr>\n",
       "    <tr>\n",
       "      <th>2</th>\n",
       "      <td>201501</td>\n",
       "      <td>CME</td>\n",
       "      <td>Ciudad del Carmen</td>\n",
       "      <td>Campeche</td>\n",
       "      <td>4750</td>\n",
       "      <td>83</td>\n",
       "    </tr>\n",
       "    <tr>\n",
       "      <th>3</th>\n",
       "      <td>201501</td>\n",
       "      <td>CPE</td>\n",
       "      <td>Campeche</td>\n",
       "      <td>Campeche</td>\n",
       "      <td>398</td>\n",
       "      <td>10</td>\n",
       "    </tr>\n",
       "    <tr>\n",
       "      <th>4</th>\n",
       "      <td>201501</td>\n",
       "      <td>CTM</td>\n",
       "      <td>Chetumal</td>\n",
       "      <td>Quintana Roo</td>\n",
       "      <td>338</td>\n",
       "      <td>0</td>\n",
       "    </tr>\n",
       "  </tbody>\n",
       "</table>\n",
       "</div>"
      ],
      "text/plain": [
       "   Anio mes Codigo IATA        Descripcion        Estado  \\\n",
       "0    201501         CEN     Ciudad Obregon        Sonora   \n",
       "1    201501         CLQ             Colima        Colima   \n",
       "2    201501         CME  Ciudad del Carmen      Campeche   \n",
       "3    201501         CPE           Campeche      Campeche   \n",
       "4    201501         CTM           Chetumal  Quintana Roo   \n",
       "\n",
       "   Operaciones nacionales  Operaciones internacionales  \n",
       "0                     730                          137  \n",
       "1                     468                            0  \n",
       "2                    4750                           83  \n",
       "3                     398                           10  \n",
       "4                     338                            0  "
      ]
     },
     "execution_count": 92,
     "metadata": {},
     "output_type": "execute_result"
    }
   ],
   "source": [
    "ops.head(5)"
   ]
  },
  {
   "cell_type": "code",
   "execution_count": 93,
   "metadata": {
    "ExecuteTime": {
     "end_time": "2018-03-16T03:16:33.075862Z",
     "start_time": "2018-03-16T03:16:32.802008Z"
    },
    "colab": {},
    "colab_type": "code",
    "id": "G8po_CSpp_an"
   },
   "outputs": [
    {
     "data": {
      "image/png": "[encoded data removed]",
      "text/plain": [
       "<Figure size 432x288 with 1 Axes>"
      ]
     },
     "metadata": {
      "needs_background": "light"
     },
     "output_type": "display_data"
    }
   ],
   "source": [
    "(\n",
    "    ops.\n",
    "    groupby('Anio mes')['Operaciones nacionales'].\n",
    "    sum().\n",
    "    reset_index().\n",
    "    plot(x='Anio mes', y='Operaciones nacionales')\n",
    ")\n",
    "plt.show()"
   ]
  },
  {
   "cell_type": "code",
   "execution_count": 94,
   "metadata": {
    "ExecuteTime": {
     "end_time": "2018-03-16T03:17:18.369728Z",
     "start_time": "2018-03-16T03:17:18.054277Z"
    },
    "colab": {},
    "colab_type": "code",
    "id": "_TOh-OM5p_ap"
   },
   "outputs": [
    {
     "data": {
      "image/png": "[encoded data removed]",
      "text/plain": [
       "<Figure size 432x288 with 2 Axes>"
      ]
     },
     "metadata": {
      "needs_background": "light"
     },
     "output_type": "display_data"
    }
   ],
   "source": [
    "(\n",
    "    ops.\n",
    "    plot(x='Operaciones internacionales', \n",
    "         y='Operaciones nacionales', \n",
    "         kind='scatter',\n",
    "         c='Anio mes')\n",
    ")\n",
    "plt.show()"
   ]
  },
  {
   "cell_type": "markdown",
   "metadata": {
    "colab_type": "text",
    "id": "gwcwSCZ0p_au"
   },
   "source": [
    "### query\n",
    "\n",
    "Con query, podemos seleccionar (filtrar) dentro de un pipeline de pandas. Para eso tenemos que poner la condición dentro de un string."
   ]
  },
  {
   "cell_type": "code",
   "execution_count": 95,
   "metadata": {
    "ExecuteTime": {
     "end_time": "2018-09-04T00:23:06.822340Z",
     "start_time": "2018-09-04T00:23:06.779427Z"
    },
    "colab": {},
    "colab_type": "code",
    "id": "qvpIoiLwp_au"
   },
   "outputs": [
    {
     "data": {
      "text/html": [
       "<div>\n",
       "<style scoped>\n",
       "    .dataframe tbody tr th:only-of-type {\n",
       "        vertical-align: middle;\n",
       "    }\n",
       "\n",
       "    .dataframe tbody tr th {\n",
       "        vertical-align: top;\n",
       "    }\n",
       "\n",
       "    .dataframe thead th {\n",
       "        text-align: right;\n",
       "    }\n",
       "</style>\n",
       "<table border=\"1\" class=\"dataframe\">\n",
       "  <thead>\n",
       "    <tr style=\"text-align: right;\">\n",
       "      <th></th>\n",
       "      <th>Anio mes</th>\n",
       "      <th>Codigo IATA</th>\n",
       "      <th>Descripcion</th>\n",
       "      <th>Estado</th>\n",
       "      <th>Operaciones nacionales</th>\n",
       "      <th>Operaciones internacionales</th>\n",
       "      <th>Anio_mes</th>\n",
       "    </tr>\n",
       "  </thead>\n",
       "  <tbody>\n",
       "    <tr>\n",
       "      <th>0</th>\n",
       "      <td>201501</td>\n",
       "      <td>CEN</td>\n",
       "      <td>Ciudad Obregon</td>\n",
       "      <td>Sonora</td>\n",
       "      <td>730</td>\n",
       "      <td>137</td>\n",
       "      <td>201501</td>\n",
       "    </tr>\n",
       "    <tr>\n",
       "      <th>1</th>\n",
       "      <td>201501</td>\n",
       "      <td>CLQ</td>\n",
       "      <td>Colima</td>\n",
       "      <td>Colima</td>\n",
       "      <td>468</td>\n",
       "      <td>0</td>\n",
       "      <td>201501</td>\n",
       "    </tr>\n",
       "  </tbody>\n",
       "</table>\n",
       "</div>"
      ],
      "text/plain": [
       "   Anio mes Codigo IATA     Descripcion  Estado  Operaciones nacionales  \\\n",
       "0    201501         CEN  Ciudad Obregon  Sonora                     730   \n",
       "1    201501         CLQ          Colima  Colima                     468   \n",
       "\n",
       "   Operaciones internacionales  Anio_mes  \n",
       "0                          137    201501  \n",
       "1                            0    201501  "
      ]
     },
     "execution_count": 95,
     "metadata": {},
     "output_type": "execute_result"
    }
   ],
   "source": [
    "ops['Anio_mes'] = ops['Anio mes']\n",
    "ops.head(2)"
   ]
  },
  {
   "cell_type": "code",
   "execution_count": 96,
   "metadata": {
    "ExecuteTime": {
     "end_time": "2018-09-04T00:24:25.310991Z",
     "start_time": "2018-09-04T00:24:25.282404Z"
    },
    "colab": {},
    "colab_type": "code",
    "id": "KfLuKA2Pp_a0"
   },
   "outputs": [
    {
     "data": {
      "text/html": [
       "<div>\n",
       "<style scoped>\n",
       "    .dataframe tbody tr th:only-of-type {\n",
       "        vertical-align: middle;\n",
       "    }\n",
       "\n",
       "    .dataframe tbody tr th {\n",
       "        vertical-align: top;\n",
       "    }\n",
       "\n",
       "    .dataframe thead th {\n",
       "        text-align: right;\n",
       "    }\n",
       "</style>\n",
       "<table border=\"1\" class=\"dataframe\">\n",
       "  <thead>\n",
       "    <tr style=\"text-align: right;\">\n",
       "      <th></th>\n",
       "      <th>Anio mes</th>\n",
       "      <th>Codigo IATA</th>\n",
       "      <th>Descripcion</th>\n",
       "      <th>Estado</th>\n",
       "      <th>Operaciones nacionales</th>\n",
       "      <th>Operaciones internacionales</th>\n",
       "      <th>Anio_mes</th>\n",
       "    </tr>\n",
       "  </thead>\n",
       "  <tbody>\n",
       "    <tr>\n",
       "      <th>432</th>\n",
       "      <td>201701</td>\n",
       "      <td>CEN</td>\n",
       "      <td>Ciudad Obregon</td>\n",
       "      <td>Sonora</td>\n",
       "      <td>680</td>\n",
       "      <td>214</td>\n",
       "      <td>201701</td>\n",
       "    </tr>\n",
       "    <tr>\n",
       "      <th>433</th>\n",
       "      <td>201701</td>\n",
       "      <td>CLQ</td>\n",
       "      <td>Colima</td>\n",
       "      <td>Colima</td>\n",
       "      <td>516</td>\n",
       "      <td>0</td>\n",
       "      <td>201701</td>\n",
       "    </tr>\n",
       "    <tr>\n",
       "      <th>434</th>\n",
       "      <td>201701</td>\n",
       "      <td>CME</td>\n",
       "      <td>Ciudad del Carmen</td>\n",
       "      <td>Campeche</td>\n",
       "      <td>2395</td>\n",
       "      <td>49</td>\n",
       "      <td>201701</td>\n",
       "    </tr>\n",
       "    <tr>\n",
       "      <th>435</th>\n",
       "      <td>201701</td>\n",
       "      <td>CPE</td>\n",
       "      <td>Campeche</td>\n",
       "      <td>Campeche</td>\n",
       "      <td>380</td>\n",
       "      <td>2</td>\n",
       "      <td>201701</td>\n",
       "    </tr>\n",
       "    <tr>\n",
       "      <th>436</th>\n",
       "      <td>201701</td>\n",
       "      <td>CTM</td>\n",
       "      <td>Chetumal</td>\n",
       "      <td>Quintana Roo</td>\n",
       "      <td>434</td>\n",
       "      <td>12</td>\n",
       "      <td>201701</td>\n",
       "    </tr>\n",
       "  </tbody>\n",
       "</table>\n",
       "</div>"
      ],
      "text/plain": [
       "     Anio mes Codigo IATA        Descripcion        Estado  \\\n",
       "432    201701         CEN     Ciudad Obregon        Sonora   \n",
       "433    201701         CLQ             Colima        Colima   \n",
       "434    201701         CME  Ciudad del Carmen      Campeche   \n",
       "435    201701         CPE           Campeche      Campeche   \n",
       "436    201701         CTM           Chetumal  Quintana Roo   \n",
       "\n",
       "     Operaciones nacionales  Operaciones internacionales  Anio_mes  \n",
       "432                     680                          214    201701  \n",
       "433                     516                            0    201701  \n",
       "434                    2395                           49    201701  \n",
       "435                     380                            2    201701  \n",
       "436                     434                           12    201701  "
      ]
     },
     "execution_count": 96,
     "metadata": {},
     "output_type": "execute_result"
    }
   ],
   "source": [
    "ops[ops['Anio mes'] >= 201700].head(5)"
   ]
  },
  {
   "cell_type": "code",
   "execution_count": 97,
   "metadata": {},
   "outputs": [
    {
     "data": {
      "text/html": [
       "<div>\n",
       "<style scoped>\n",
       "    .dataframe tbody tr th:only-of-type {\n",
       "        vertical-align: middle;\n",
       "    }\n",
       "\n",
       "    .dataframe tbody tr th {\n",
       "        vertical-align: top;\n",
       "    }\n",
       "\n",
       "    .dataframe thead th {\n",
       "        text-align: right;\n",
       "    }\n",
       "</style>\n",
       "<table border=\"1\" class=\"dataframe\">\n",
       "  <thead>\n",
       "    <tr style=\"text-align: right;\">\n",
       "      <th></th>\n",
       "      <th>Anio mes</th>\n",
       "      <th>Codigo IATA</th>\n",
       "      <th>Descripcion</th>\n",
       "      <th>Estado</th>\n",
       "      <th>Operaciones nacionales</th>\n",
       "      <th>Operaciones internacionales</th>\n",
       "      <th>Anio_mes</th>\n",
       "    </tr>\n",
       "  </thead>\n",
       "  <tbody>\n",
       "    <tr>\n",
       "      <th>432</th>\n",
       "      <td>201701</td>\n",
       "      <td>CEN</td>\n",
       "      <td>Ciudad Obregon</td>\n",
       "      <td>Sonora</td>\n",
       "      <td>680</td>\n",
       "      <td>214</td>\n",
       "      <td>201701</td>\n",
       "    </tr>\n",
       "    <tr>\n",
       "      <th>433</th>\n",
       "      <td>201701</td>\n",
       "      <td>CLQ</td>\n",
       "      <td>Colima</td>\n",
       "      <td>Colima</td>\n",
       "      <td>516</td>\n",
       "      <td>0</td>\n",
       "      <td>201701</td>\n",
       "    </tr>\n",
       "    <tr>\n",
       "      <th>434</th>\n",
       "      <td>201701</td>\n",
       "      <td>CME</td>\n",
       "      <td>Ciudad del Carmen</td>\n",
       "      <td>Campeche</td>\n",
       "      <td>2395</td>\n",
       "      <td>49</td>\n",
       "      <td>201701</td>\n",
       "    </tr>\n",
       "    <tr>\n",
       "      <th>435</th>\n",
       "      <td>201701</td>\n",
       "      <td>CPE</td>\n",
       "      <td>Campeche</td>\n",
       "      <td>Campeche</td>\n",
       "      <td>380</td>\n",
       "      <td>2</td>\n",
       "      <td>201701</td>\n",
       "    </tr>\n",
       "    <tr>\n",
       "      <th>436</th>\n",
       "      <td>201701</td>\n",
       "      <td>CTM</td>\n",
       "      <td>Chetumal</td>\n",
       "      <td>Quintana Roo</td>\n",
       "      <td>434</td>\n",
       "      <td>12</td>\n",
       "      <td>201701</td>\n",
       "    </tr>\n",
       "  </tbody>\n",
       "</table>\n",
       "</div>"
      ],
      "text/plain": [
       "     Anio mes Codigo IATA        Descripcion        Estado  \\\n",
       "432    201701         CEN     Ciudad Obregon        Sonora   \n",
       "433    201701         CLQ             Colima        Colima   \n",
       "434    201701         CME  Ciudad del Carmen      Campeche   \n",
       "435    201701         CPE           Campeche      Campeche   \n",
       "436    201701         CTM           Chetumal  Quintana Roo   \n",
       "\n",
       "     Operaciones nacionales  Operaciones internacionales  Anio_mes  \n",
       "432                     680                          214    201701  \n",
       "433                     516                            0    201701  \n",
       "434                    2395                           49    201701  \n",
       "435                     380                            2    201701  \n",
       "436                     434                           12    201701  "
      ]
     },
     "execution_count": 97,
     "metadata": {},
     "output_type": "execute_result"
    }
   ],
   "source": [
    "ops[ops['Anio mes'] == 201701].head(5)"
   ]
  },
  {
   "cell_type": "code",
   "execution_count": 21,
   "metadata": {},
   "outputs": [
    {
     "data": {
      "text/html": [
       "<div>\n",
       "<style scoped>\n",
       "    .dataframe tbody tr th:only-of-type {\n",
       "        vertical-align: middle;\n",
       "    }\n",
       "\n",
       "    .dataframe tbody tr th {\n",
       "        vertical-align: top;\n",
       "    }\n",
       "\n",
       "    .dataframe thead th {\n",
       "        text-align: right;\n",
       "    }\n",
       "</style>\n",
       "<table border=\"1\" class=\"dataframe\">\n",
       "  <thead>\n",
       "    <tr style=\"text-align: right;\">\n",
       "      <th></th>\n",
       "      <th>Anio mes</th>\n",
       "      <th>Codigo IATA</th>\n",
       "      <th>Descripcion</th>\n",
       "      <th>Estado</th>\n",
       "      <th>Operaciones nacionales</th>\n",
       "      <th>Operaciones internacionales</th>\n",
       "    </tr>\n",
       "  </thead>\n",
       "  <tbody>\n",
       "    <tr>\n",
       "      <th>1</th>\n",
       "      <td>201501</td>\n",
       "      <td>CLQ</td>\n",
       "      <td>Colima</td>\n",
       "      <td>Colima</td>\n",
       "      <td>468</td>\n",
       "      <td>0</td>\n",
       "    </tr>\n",
       "    <tr>\n",
       "      <th>19</th>\n",
       "      <td>201502</td>\n",
       "      <td>CLQ</td>\n",
       "      <td>Colima</td>\n",
       "      <td>Colima</td>\n",
       "      <td>563</td>\n",
       "      <td>0</td>\n",
       "    </tr>\n",
       "  </tbody>\n",
       "</table>\n",
       "</div>"
      ],
      "text/plain": [
       "    Anio mes Codigo IATA Descripcion  Estado  Operaciones nacionales  \\\n",
       "1     201501         CLQ      Colima  Colima                     468   \n",
       "19    201502         CLQ      Colima  Colima                     563   \n",
       "\n",
       "    Operaciones internacionales  \n",
       "1                             0  \n",
       "19                            0  "
      ]
     },
     "execution_count": 21,
     "metadata": {},
     "output_type": "execute_result"
    }
   ],
   "source": [
    "ops[ops['Descripcion'] == 'Colima'].head(2)"
   ]
  },
  {
   "cell_type": "code",
   "execution_count": 22,
   "metadata": {},
   "outputs": [
    {
     "data": {
      "text/html": [
       "<div>\n",
       "<style scoped>\n",
       "    .dataframe tbody tr th:only-of-type {\n",
       "        vertical-align: middle;\n",
       "    }\n",
       "\n",
       "    .dataframe tbody tr th {\n",
       "        vertical-align: top;\n",
       "    }\n",
       "\n",
       "    .dataframe thead th {\n",
       "        text-align: right;\n",
       "    }\n",
       "</style>\n",
       "<table border=\"1\" class=\"dataframe\">\n",
       "  <thead>\n",
       "    <tr style=\"text-align: right;\">\n",
       "      <th></th>\n",
       "      <th>Anio mes</th>\n",
       "      <th>Codigo IATA</th>\n",
       "      <th>Descripcion</th>\n",
       "      <th>Estado</th>\n",
       "      <th>Operaciones nacionales</th>\n",
       "      <th>Operaciones internacionales</th>\n",
       "    </tr>\n",
       "  </thead>\n",
       "  <tbody>\n",
       "    <tr>\n",
       "      <th>1</th>\n",
       "      <td>201501</td>\n",
       "      <td>CLQ</td>\n",
       "      <td>Colima</td>\n",
       "      <td>Colima</td>\n",
       "      <td>468</td>\n",
       "      <td>0</td>\n",
       "    </tr>\n",
       "    <tr>\n",
       "      <th>19</th>\n",
       "      <td>201502</td>\n",
       "      <td>CLQ</td>\n",
       "      <td>Colima</td>\n",
       "      <td>Colima</td>\n",
       "      <td>563</td>\n",
       "      <td>0</td>\n",
       "    </tr>\n",
       "  </tbody>\n",
       "</table>\n",
       "</div>"
      ],
      "text/plain": [
       "    Anio mes Codigo IATA Descripcion  Estado  Operaciones nacionales  \\\n",
       "1     201501         CLQ      Colima  Colima                     468   \n",
       "19    201502         CLQ      Colima  Colima                     563   \n",
       "\n",
       "    Operaciones internacionales  \n",
       "1                             0  \n",
       "19                            0  "
      ]
     },
     "execution_count": 22,
     "metadata": {},
     "output_type": "execute_result"
    }
   ],
   "source": [
    "ops.query(\"Descripcion=='Colima'\").head(2)"
   ]
  },
  {
   "cell_type": "code",
   "execution_count": 38,
   "metadata": {},
   "outputs": [
    {
     "data": {
      "text/html": [
       "<div>\n",
       "<style scoped>\n",
       "    .dataframe tbody tr th:only-of-type {\n",
       "        vertical-align: middle;\n",
       "    }\n",
       "\n",
       "    .dataframe tbody tr th {\n",
       "        vertical-align: top;\n",
       "    }\n",
       "\n",
       "    .dataframe thead th {\n",
       "        text-align: right;\n",
       "    }\n",
       "</style>\n",
       "<table border=\"1\" class=\"dataframe\">\n",
       "  <thead>\n",
       "    <tr style=\"text-align: right;\">\n",
       "      <th></th>\n",
       "      <th>Anio mes</th>\n",
       "      <th>Codigo IATA</th>\n",
       "      <th>Descripcion</th>\n",
       "      <th>Estado</th>\n",
       "      <th>Operaciones nacionales</th>\n",
       "      <th>Operaciones internacionales</th>\n",
       "    </tr>\n",
       "  </thead>\n",
       "  <tbody>\n",
       "    <tr>\n",
       "      <th>1</th>\n",
       "      <td>201501</td>\n",
       "      <td>CLQ</td>\n",
       "      <td>Colima</td>\n",
       "      <td>Colima</td>\n",
       "      <td>468</td>\n",
       "      <td>0</td>\n",
       "    </tr>\n",
       "    <tr>\n",
       "      <th>19</th>\n",
       "      <td>201502</td>\n",
       "      <td>CLQ</td>\n",
       "      <td>Colima</td>\n",
       "      <td>Colima</td>\n",
       "      <td>563</td>\n",
       "      <td>0</td>\n",
       "    </tr>\n",
       "    <tr>\n",
       "      <th>37</th>\n",
       "      <td>201503</td>\n",
       "      <td>CLQ</td>\n",
       "      <td>Colima</td>\n",
       "      <td>Colima</td>\n",
       "      <td>490</td>\n",
       "      <td>0</td>\n",
       "    </tr>\n",
       "    <tr>\n",
       "      <th>55</th>\n",
       "      <td>201504</td>\n",
       "      <td>CLQ</td>\n",
       "      <td>Colima</td>\n",
       "      <td>Colima</td>\n",
       "      <td>451</td>\n",
       "      <td>0</td>\n",
       "    </tr>\n",
       "    <tr>\n",
       "      <th>73</th>\n",
       "      <td>201505</td>\n",
       "      <td>CLQ</td>\n",
       "      <td>Colima</td>\n",
       "      <td>Colima</td>\n",
       "      <td>511</td>\n",
       "      <td>0</td>\n",
       "    </tr>\n",
       "    <tr>\n",
       "      <th>91</th>\n",
       "      <td>201506</td>\n",
       "      <td>CLQ</td>\n",
       "      <td>Colima</td>\n",
       "      <td>Colima</td>\n",
       "      <td>480</td>\n",
       "      <td>0</td>\n",
       "    </tr>\n",
       "    <tr>\n",
       "      <th>109</th>\n",
       "      <td>201507</td>\n",
       "      <td>CLQ</td>\n",
       "      <td>Colima</td>\n",
       "      <td>Colima</td>\n",
       "      <td>486</td>\n",
       "      <td>0</td>\n",
       "    </tr>\n",
       "    <tr>\n",
       "      <th>127</th>\n",
       "      <td>201508</td>\n",
       "      <td>CLQ</td>\n",
       "      <td>Colima</td>\n",
       "      <td>Colima</td>\n",
       "      <td>435</td>\n",
       "      <td>0</td>\n",
       "    </tr>\n",
       "    <tr>\n",
       "      <th>145</th>\n",
       "      <td>201509</td>\n",
       "      <td>CLQ</td>\n",
       "      <td>Colima</td>\n",
       "      <td>Colima</td>\n",
       "      <td>380</td>\n",
       "      <td>0</td>\n",
       "    </tr>\n",
       "    <tr>\n",
       "      <th>163</th>\n",
       "      <td>201510</td>\n",
       "      <td>CLQ</td>\n",
       "      <td>Colima</td>\n",
       "      <td>Colima</td>\n",
       "      <td>456</td>\n",
       "      <td>0</td>\n",
       "    </tr>\n",
       "    <tr>\n",
       "      <th>181</th>\n",
       "      <td>201511</td>\n",
       "      <td>CLQ</td>\n",
       "      <td>Colima</td>\n",
       "      <td>Colima</td>\n",
       "      <td>472</td>\n",
       "      <td>0</td>\n",
       "    </tr>\n",
       "    <tr>\n",
       "      <th>199</th>\n",
       "      <td>201512</td>\n",
       "      <td>CLQ</td>\n",
       "      <td>Colima</td>\n",
       "      <td>Colima</td>\n",
       "      <td>443</td>\n",
       "      <td>0</td>\n",
       "    </tr>\n",
       "    <tr>\n",
       "      <th>217</th>\n",
       "      <td>201601</td>\n",
       "      <td>CLQ</td>\n",
       "      <td>Colima</td>\n",
       "      <td>Colima</td>\n",
       "      <td>499</td>\n",
       "      <td>0</td>\n",
       "    </tr>\n",
       "    <tr>\n",
       "      <th>235</th>\n",
       "      <td>201602</td>\n",
       "      <td>CLQ</td>\n",
       "      <td>Colima</td>\n",
       "      <td>Colima</td>\n",
       "      <td>456</td>\n",
       "      <td>0</td>\n",
       "    </tr>\n",
       "    <tr>\n",
       "      <th>253</th>\n",
       "      <td>201603</td>\n",
       "      <td>CLQ</td>\n",
       "      <td>Colima</td>\n",
       "      <td>Colima</td>\n",
       "      <td>502</td>\n",
       "      <td>0</td>\n",
       "    </tr>\n",
       "    <tr>\n",
       "      <th>271</th>\n",
       "      <td>201604</td>\n",
       "      <td>CLQ</td>\n",
       "      <td>Colima</td>\n",
       "      <td>Colima</td>\n",
       "      <td>497</td>\n",
       "      <td>0</td>\n",
       "    </tr>\n",
       "    <tr>\n",
       "      <th>289</th>\n",
       "      <td>201605</td>\n",
       "      <td>CLQ</td>\n",
       "      <td>Colima</td>\n",
       "      <td>Colima</td>\n",
       "      <td>508</td>\n",
       "      <td>0</td>\n",
       "    </tr>\n",
       "    <tr>\n",
       "      <th>307</th>\n",
       "      <td>201606</td>\n",
       "      <td>CLQ</td>\n",
       "      <td>Colima</td>\n",
       "      <td>Colima</td>\n",
       "      <td>490</td>\n",
       "      <td>0</td>\n",
       "    </tr>\n",
       "    <tr>\n",
       "      <th>325</th>\n",
       "      <td>201607</td>\n",
       "      <td>CLQ</td>\n",
       "      <td>Colima</td>\n",
       "      <td>Colima</td>\n",
       "      <td>456</td>\n",
       "      <td>0</td>\n",
       "    </tr>\n",
       "    <tr>\n",
       "      <th>343</th>\n",
       "      <td>201608</td>\n",
       "      <td>CLQ</td>\n",
       "      <td>Colima</td>\n",
       "      <td>Colima</td>\n",
       "      <td>414</td>\n",
       "      <td>0</td>\n",
       "    </tr>\n",
       "    <tr>\n",
       "      <th>361</th>\n",
       "      <td>201609</td>\n",
       "      <td>CLQ</td>\n",
       "      <td>Colima</td>\n",
       "      <td>Colima</td>\n",
       "      <td>500</td>\n",
       "      <td>0</td>\n",
       "    </tr>\n",
       "    <tr>\n",
       "      <th>379</th>\n",
       "      <td>201610</td>\n",
       "      <td>CLQ</td>\n",
       "      <td>Colima</td>\n",
       "      <td>Colima</td>\n",
       "      <td>571</td>\n",
       "      <td>0</td>\n",
       "    </tr>\n",
       "    <tr>\n",
       "      <th>397</th>\n",
       "      <td>201611</td>\n",
       "      <td>CLQ</td>\n",
       "      <td>Colima</td>\n",
       "      <td>Colima</td>\n",
       "      <td>535</td>\n",
       "      <td>0</td>\n",
       "    </tr>\n",
       "    <tr>\n",
       "      <th>415</th>\n",
       "      <td>201612</td>\n",
       "      <td>CLQ</td>\n",
       "      <td>Colima</td>\n",
       "      <td>Colima</td>\n",
       "      <td>571</td>\n",
       "      <td>0</td>\n",
       "    </tr>\n",
       "    <tr>\n",
       "      <th>433</th>\n",
       "      <td>201701</td>\n",
       "      <td>CLQ</td>\n",
       "      <td>Colima</td>\n",
       "      <td>Colima</td>\n",
       "      <td>516</td>\n",
       "      <td>0</td>\n",
       "    </tr>\n",
       "    <tr>\n",
       "      <th>451</th>\n",
       "      <td>201702</td>\n",
       "      <td>CLQ</td>\n",
       "      <td>Colima</td>\n",
       "      <td>Colima</td>\n",
       "      <td>531</td>\n",
       "      <td>0</td>\n",
       "    </tr>\n",
       "    <tr>\n",
       "      <th>469</th>\n",
       "      <td>201703</td>\n",
       "      <td>CLQ</td>\n",
       "      <td>Colima</td>\n",
       "      <td>Colima</td>\n",
       "      <td>439</td>\n",
       "      <td>0</td>\n",
       "    </tr>\n",
       "    <tr>\n",
       "      <th>487</th>\n",
       "      <td>201704</td>\n",
       "      <td>CLQ</td>\n",
       "      <td>Colima</td>\n",
       "      <td>Colima</td>\n",
       "      <td>345</td>\n",
       "      <td>0</td>\n",
       "    </tr>\n",
       "    <tr>\n",
       "      <th>506</th>\n",
       "      <td>201705</td>\n",
       "      <td>CLQ</td>\n",
       "      <td>Colima</td>\n",
       "      <td>Colima</td>\n",
       "      <td>477</td>\n",
       "      <td>0</td>\n",
       "    </tr>\n",
       "    <tr>\n",
       "      <th>525</th>\n",
       "      <td>201706</td>\n",
       "      <td>CLQ</td>\n",
       "      <td>Colima</td>\n",
       "      <td>Colima</td>\n",
       "      <td>464</td>\n",
       "      <td>0</td>\n",
       "    </tr>\n",
       "    <tr>\n",
       "      <th>544</th>\n",
       "      <td>201707</td>\n",
       "      <td>CLQ</td>\n",
       "      <td>Colima</td>\n",
       "      <td>Colima</td>\n",
       "      <td>561</td>\n",
       "      <td>0</td>\n",
       "    </tr>\n",
       "    <tr>\n",
       "      <th>563</th>\n",
       "      <td>201708</td>\n",
       "      <td>CLQ</td>\n",
       "      <td>Colima</td>\n",
       "      <td>Colima</td>\n",
       "      <td>450</td>\n",
       "      <td>0</td>\n",
       "    </tr>\n",
       "    <tr>\n",
       "      <th>582</th>\n",
       "      <td>201709</td>\n",
       "      <td>CLQ</td>\n",
       "      <td>Colima</td>\n",
       "      <td>Colima</td>\n",
       "      <td>523</td>\n",
       "      <td>0</td>\n",
       "    </tr>\n",
       "    <tr>\n",
       "      <th>601</th>\n",
       "      <td>201710</td>\n",
       "      <td>CLQ</td>\n",
       "      <td>Colima</td>\n",
       "      <td>Colima</td>\n",
       "      <td>586</td>\n",
       "      <td>0</td>\n",
       "    </tr>\n",
       "    <tr>\n",
       "      <th>620</th>\n",
       "      <td>201711</td>\n",
       "      <td>CLQ</td>\n",
       "      <td>Colima</td>\n",
       "      <td>Colima</td>\n",
       "      <td>634</td>\n",
       "      <td>0</td>\n",
       "    </tr>\n",
       "    <tr>\n",
       "      <th>639</th>\n",
       "      <td>201712</td>\n",
       "      <td>CLQ</td>\n",
       "      <td>Colima</td>\n",
       "      <td>Colima</td>\n",
       "      <td>606</td>\n",
       "      <td>0</td>\n",
       "    </tr>\n",
       "    <tr>\n",
       "      <th>658</th>\n",
       "      <td>201801</td>\n",
       "      <td>CLQ</td>\n",
       "      <td>Colima</td>\n",
       "      <td>Colima</td>\n",
       "      <td>632</td>\n",
       "      <td>0</td>\n",
       "    </tr>\n",
       "    <tr>\n",
       "      <th>677</th>\n",
       "      <td>201802</td>\n",
       "      <td>CLQ</td>\n",
       "      <td>Colima</td>\n",
       "      <td>Colima</td>\n",
       "      <td>506</td>\n",
       "      <td>0</td>\n",
       "    </tr>\n",
       "    <tr>\n",
       "      <th>696</th>\n",
       "      <td>201803</td>\n",
       "      <td>CLQ</td>\n",
       "      <td>Colima</td>\n",
       "      <td>Colima</td>\n",
       "      <td>541</td>\n",
       "      <td>0</td>\n",
       "    </tr>\n",
       "    <tr>\n",
       "      <th>715</th>\n",
       "      <td>201804</td>\n",
       "      <td>CLQ</td>\n",
       "      <td>Colima</td>\n",
       "      <td>Colima</td>\n",
       "      <td>545</td>\n",
       "      <td>0</td>\n",
       "    </tr>\n",
       "    <tr>\n",
       "      <th>734</th>\n",
       "      <td>201805</td>\n",
       "      <td>CLQ</td>\n",
       "      <td>Colima</td>\n",
       "      <td>Colima</td>\n",
       "      <td>542</td>\n",
       "      <td>0</td>\n",
       "    </tr>\n",
       "    <tr>\n",
       "      <th>753</th>\n",
       "      <td>201806</td>\n",
       "      <td>CLQ</td>\n",
       "      <td>Colima</td>\n",
       "      <td>Colima</td>\n",
       "      <td>444</td>\n",
       "      <td>0</td>\n",
       "    </tr>\n",
       "    <tr>\n",
       "      <th>772</th>\n",
       "      <td>201807</td>\n",
       "      <td>CLQ</td>\n",
       "      <td>Colima</td>\n",
       "      <td>Colima</td>\n",
       "      <td>412</td>\n",
       "      <td>0</td>\n",
       "    </tr>\n",
       "    <tr>\n",
       "      <th>791</th>\n",
       "      <td>201808</td>\n",
       "      <td>CLQ</td>\n",
       "      <td>Colima</td>\n",
       "      <td>Colima</td>\n",
       "      <td>665</td>\n",
       "      <td>0</td>\n",
       "    </tr>\n",
       "    <tr>\n",
       "      <th>810</th>\n",
       "      <td>201809</td>\n",
       "      <td>CLQ</td>\n",
       "      <td>Colima</td>\n",
       "      <td>Colima</td>\n",
       "      <td>594</td>\n",
       "      <td>0</td>\n",
       "    </tr>\n",
       "    <tr>\n",
       "      <th>829</th>\n",
       "      <td>201810</td>\n",
       "      <td>CLQ</td>\n",
       "      <td>Colima</td>\n",
       "      <td>Colima</td>\n",
       "      <td>597</td>\n",
       "      <td>0</td>\n",
       "    </tr>\n",
       "    <tr>\n",
       "      <th>848</th>\n",
       "      <td>201811</td>\n",
       "      <td>CLQ</td>\n",
       "      <td>Colima</td>\n",
       "      <td>Colima</td>\n",
       "      <td>521</td>\n",
       "      <td>0</td>\n",
       "    </tr>\n",
       "    <tr>\n",
       "      <th>867</th>\n",
       "      <td>201812</td>\n",
       "      <td>CLQ</td>\n",
       "      <td>Colima</td>\n",
       "      <td>Colima</td>\n",
       "      <td>514</td>\n",
       "      <td>0</td>\n",
       "    </tr>\n",
       "    <tr>\n",
       "      <th>886</th>\n",
       "      <td>201901</td>\n",
       "      <td>CLQ</td>\n",
       "      <td>Colima</td>\n",
       "      <td>Colima</td>\n",
       "      <td>424</td>\n",
       "      <td>0</td>\n",
       "    </tr>\n",
       "    <tr>\n",
       "      <th>905</th>\n",
       "      <td>201902</td>\n",
       "      <td>CLQ</td>\n",
       "      <td>Colima</td>\n",
       "      <td>Colima</td>\n",
       "      <td>460</td>\n",
       "      <td>0</td>\n",
       "    </tr>\n",
       "    <tr>\n",
       "      <th>924</th>\n",
       "      <td>201903</td>\n",
       "      <td>CLQ</td>\n",
       "      <td>Colima</td>\n",
       "      <td>Colima</td>\n",
       "      <td>573</td>\n",
       "      <td>0</td>\n",
       "    </tr>\n",
       "    <tr>\n",
       "      <th>943</th>\n",
       "      <td>201904</td>\n",
       "      <td>CLQ</td>\n",
       "      <td>Colima</td>\n",
       "      <td>Colima</td>\n",
       "      <td>611</td>\n",
       "      <td>0</td>\n",
       "    </tr>\n",
       "    <tr>\n",
       "      <th>962</th>\n",
       "      <td>201905</td>\n",
       "      <td>CLQ</td>\n",
       "      <td>Colima</td>\n",
       "      <td>Colima</td>\n",
       "      <td>639</td>\n",
       "      <td>0</td>\n",
       "    </tr>\n",
       "  </tbody>\n",
       "</table>\n",
       "</div>"
      ],
      "text/plain": [
       "     Anio mes Codigo IATA Descripcion  Estado  Operaciones nacionales  \\\n",
       "1      201501         CLQ      Colima  Colima                     468   \n",
       "19     201502         CLQ      Colima  Colima                     563   \n",
       "37     201503         CLQ      Colima  Colima                     490   \n",
       "55     201504         CLQ      Colima  Colima                     451   \n",
       "73     201505         CLQ      Colima  Colima                     511   \n",
       "91     201506         CLQ      Colima  Colima                     480   \n",
       "109    201507         CLQ      Colima  Colima                     486   \n",
       "127    201508         CLQ      Colima  Colima                     435   \n",
       "145    201509         CLQ      Colima  Colima                     380   \n",
       "163    201510         CLQ      Colima  Colima                     456   \n",
       "181    201511         CLQ      Colima  Colima                     472   \n",
       "199    201512         CLQ      Colima  Colima                     443   \n",
       "217    201601         CLQ      Colima  Colima                     499   \n",
       "235    201602         CLQ      Colima  Colima                     456   \n",
       "253    201603         CLQ      Colima  Colima                     502   \n",
       "271    201604         CLQ      Colima  Colima                     497   \n",
       "289    201605         CLQ      Colima  Colima                     508   \n",
       "307    201606         CLQ      Colima  Colima                     490   \n",
       "325    201607         CLQ      Colima  Colima                     456   \n",
       "343    201608         CLQ      Colima  Colima                     414   \n",
       "361    201609         CLQ      Colima  Colima                     500   \n",
       "379    201610         CLQ      Colima  Colima                     571   \n",
       "397    201611         CLQ      Colima  Colima                     535   \n",
       "415    201612         CLQ      Colima  Colima                     571   \n",
       "433    201701         CLQ      Colima  Colima                     516   \n",
       "451    201702         CLQ      Colima  Colima                     531   \n",
       "469    201703         CLQ      Colima  Colima                     439   \n",
       "487    201704         CLQ      Colima  Colima                     345   \n",
       "506    201705         CLQ      Colima  Colima                     477   \n",
       "525    201706         CLQ      Colima  Colima                     464   \n",
       "544    201707         CLQ      Colima  Colima                     561   \n",
       "563    201708         CLQ      Colima  Colima                     450   \n",
       "582    201709         CLQ      Colima  Colima                     523   \n",
       "601    201710         CLQ      Colima  Colima                     586   \n",
       "620    201711         CLQ      Colima  Colima                     634   \n",
       "639    201712         CLQ      Colima  Colima                     606   \n",
       "658    201801         CLQ      Colima  Colima                     632   \n",
       "677    201802         CLQ      Colima  Colima                     506   \n",
       "696    201803         CLQ      Colima  Colima                     541   \n",
       "715    201804         CLQ      Colima  Colima                     545   \n",
       "734    201805         CLQ      Colima  Colima                     542   \n",
       "753    201806         CLQ      Colima  Colima                     444   \n",
       "772    201807         CLQ      Colima  Colima                     412   \n",
       "791    201808         CLQ      Colima  Colima                     665   \n",
       "810    201809         CLQ      Colima  Colima                     594   \n",
       "829    201810         CLQ      Colima  Colima                     597   \n",
       "848    201811         CLQ      Colima  Colima                     521   \n",
       "867    201812         CLQ      Colima  Colima                     514   \n",
       "886    201901         CLQ      Colima  Colima                     424   \n",
       "905    201902         CLQ      Colima  Colima                     460   \n",
       "924    201903         CLQ      Colima  Colima                     573   \n",
       "943    201904         CLQ      Colima  Colima                     611   \n",
       "962    201905         CLQ      Colima  Colima                     639   \n",
       "\n",
       "     Operaciones internacionales  \n",
       "1                              0  \n",
       "19                             0  \n",
       "37                             0  \n",
       "55                             0  \n",
       "73                             0  \n",
       "91                             0  \n",
       "109                            0  \n",
       "127                            0  \n",
       "145                            0  \n",
       "163                            0  \n",
       "181                            0  \n",
       "199                            0  \n",
       "217                            0  \n",
       "235                            0  \n",
       "253                            0  \n",
       "271                            0  \n",
       "289                            0  \n",
       "307                            0  \n",
       "325                            0  \n",
       "343                            0  \n",
       "361                            0  \n",
       "379                            0  \n",
       "397                            0  \n",
       "415                            0  \n",
       "433                            0  \n",
       "451                            0  \n",
       "469                            0  \n",
       "487                            0  \n",
       "506                            0  \n",
       "525                            0  \n",
       "544                            0  \n",
       "563                            0  \n",
       "582                            0  \n",
       "601                            0  \n",
       "620                            0  \n",
       "639                            0  \n",
       "658                            0  \n",
       "677                            0  \n",
       "696                            0  \n",
       "715                            0  \n",
       "734                            0  \n",
       "753                            0  \n",
       "772                            0  \n",
       "791                            0  \n",
       "810                            0  \n",
       "829                            0  \n",
       "848                            0  \n",
       "867                            0  \n",
       "886                            0  \n",
       "905                            0  \n",
       "924                            0  \n",
       "943                            0  \n",
       "962                            0  "
      ]
     },
     "execution_count": 38,
     "metadata": {},
     "output_type": "execute_result"
    }
   ],
   "source": [
    "ops.query(\"(Descripcion=='Colima')or(Estado=='Jalisco')\")"
   ]
  },
  {
   "cell_type": "code",
   "execution_count": 29,
   "metadata": {},
   "outputs": [
    {
     "data": {
      "text/html": [
       "<div>\n",
       "<style scoped>\n",
       "    .dataframe tbody tr th:only-of-type {\n",
       "        vertical-align: middle;\n",
       "    }\n",
       "\n",
       "    .dataframe tbody tr th {\n",
       "        vertical-align: top;\n",
       "    }\n",
       "\n",
       "    .dataframe thead th {\n",
       "        text-align: right;\n",
       "    }\n",
       "</style>\n",
       "<table border=\"1\" class=\"dataframe\">\n",
       "  <thead>\n",
       "    <tr style=\"text-align: right;\">\n",
       "      <th></th>\n",
       "      <th>Anio mes</th>\n",
       "      <th>Codigo IATA</th>\n",
       "      <th>Descripcion</th>\n",
       "      <th>Estado</th>\n",
       "      <th>Operaciones_nacionales</th>\n",
       "      <th>Operaciones internacionales</th>\n",
       "    </tr>\n",
       "  </thead>\n",
       "  <tbody>\n",
       "    <tr>\n",
       "      <th>2</th>\n",
       "      <td>201501</td>\n",
       "      <td>CME</td>\n",
       "      <td>Ciudad del Carmen</td>\n",
       "      <td>Campeche</td>\n",
       "      <td>4750</td>\n",
       "      <td>83</td>\n",
       "    </tr>\n",
       "    <tr>\n",
       "      <th>12</th>\n",
       "      <td>201501</td>\n",
       "      <td>PBC</td>\n",
       "      <td>Puebla</td>\n",
       "      <td>Puebla</td>\n",
       "      <td>1577</td>\n",
       "      <td>185</td>\n",
       "    </tr>\n",
       "    <tr>\n",
       "      <th>20</th>\n",
       "      <td>201502</td>\n",
       "      <td>CME</td>\n",
       "      <td>Ciudad del Carmen</td>\n",
       "      <td>Campeche</td>\n",
       "      <td>4083</td>\n",
       "      <td>91</td>\n",
       "    </tr>\n",
       "    <tr>\n",
       "      <th>30</th>\n",
       "      <td>201502</td>\n",
       "      <td>PBC</td>\n",
       "      <td>Puebla</td>\n",
       "      <td>Puebla</td>\n",
       "      <td>1445</td>\n",
       "      <td>161</td>\n",
       "    </tr>\n",
       "    <tr>\n",
       "      <th>38</th>\n",
       "      <td>201503</td>\n",
       "      <td>CME</td>\n",
       "      <td>Ciudad del Carmen</td>\n",
       "      <td>Campeche</td>\n",
       "      <td>4196</td>\n",
       "      <td>87</td>\n",
       "    </tr>\n",
       "    <tr>\n",
       "      <th>...</th>\n",
       "      <td>...</td>\n",
       "      <td>...</td>\n",
       "      <td>...</td>\n",
       "      <td>...</td>\n",
       "      <td>...</td>\n",
       "      <td>...</td>\n",
       "    </tr>\n",
       "    <tr>\n",
       "      <th>936</th>\n",
       "      <td>201903</td>\n",
       "      <td>PBC</td>\n",
       "      <td>Puebla</td>\n",
       "      <td>Puebla</td>\n",
       "      <td>1651</td>\n",
       "      <td>102</td>\n",
       "    </tr>\n",
       "    <tr>\n",
       "      <th>944</th>\n",
       "      <td>201904</td>\n",
       "      <td>CME</td>\n",
       "      <td>Ciudad del Carmen</td>\n",
       "      <td>Campeche</td>\n",
       "      <td>3093</td>\n",
       "      <td>6</td>\n",
       "    </tr>\n",
       "    <tr>\n",
       "      <th>955</th>\n",
       "      <td>201904</td>\n",
       "      <td>PBC</td>\n",
       "      <td>Puebla</td>\n",
       "      <td>Puebla</td>\n",
       "      <td>1559</td>\n",
       "      <td>114</td>\n",
       "    </tr>\n",
       "    <tr>\n",
       "      <th>963</th>\n",
       "      <td>201905</td>\n",
       "      <td>CME</td>\n",
       "      <td>Ciudad del Carmen</td>\n",
       "      <td>Campeche</td>\n",
       "      <td>3148</td>\n",
       "      <td>2</td>\n",
       "    </tr>\n",
       "    <tr>\n",
       "      <th>974</th>\n",
       "      <td>201905</td>\n",
       "      <td>PBC</td>\n",
       "      <td>Puebla</td>\n",
       "      <td>Puebla</td>\n",
       "      <td>1640</td>\n",
       "      <td>123</td>\n",
       "    </tr>\n",
       "  </tbody>\n",
       "</table>\n",
       "<p>108 rows × 6 columns</p>\n",
       "</div>"
      ],
      "text/plain": [
       "     Anio mes Codigo IATA        Descripcion    Estado  \\\n",
       "2      201501         CME  Ciudad del Carmen  Campeche   \n",
       "12     201501         PBC             Puebla    Puebla   \n",
       "20     201502         CME  Ciudad del Carmen  Campeche   \n",
       "30     201502         PBC             Puebla    Puebla   \n",
       "38     201503         CME  Ciudad del Carmen  Campeche   \n",
       "..        ...         ...                ...       ...   \n",
       "936    201903         PBC             Puebla    Puebla   \n",
       "944    201904         CME  Ciudad del Carmen  Campeche   \n",
       "955    201904         PBC             Puebla    Puebla   \n",
       "963    201905         CME  Ciudad del Carmen  Campeche   \n",
       "974    201905         PBC             Puebla    Puebla   \n",
       "\n",
       "     Operaciones_nacionales  Operaciones internacionales  \n",
       "2                      4750                           83  \n",
       "12                     1577                          185  \n",
       "20                     4083                           91  \n",
       "30                     1445                          161  \n",
       "38                     4196                           87  \n",
       "..                      ...                          ...  \n",
       "936                    1651                          102  \n",
       "944                    3093                            6  \n",
       "955                    1559                          114  \n",
       "963                    3148                            2  \n",
       "974                    1640                          123  \n",
       "\n",
       "[108 rows x 6 columns]"
      ]
     },
     "execution_count": 29,
     "metadata": {},
     "output_type": "execute_result"
    }
   ],
   "source": [
    "num = 1000\n",
    "\n",
    "(\n",
    "    ops\n",
    "    .rename(columns={'Operaciones nacionales' : 'Operaciones_nacionales'})\n",
    "    .query('Operaciones_nacionales >= @num')\n",
    ")"
   ]
  },
  {
   "cell_type": "code",
   "execution_count": 98,
   "metadata": {
    "ExecuteTime": {
     "end_time": "2018-09-04T00:24:19.579239Z",
     "start_time": "2018-09-04T00:24:19.547908Z"
    },
    "colab": {},
    "colab_type": "code",
    "id": "q6MfwXACp_a3"
   },
   "outputs": [
    {
     "data": {
      "text/html": [
       "<div>\n",
       "<style scoped>\n",
       "    .dataframe tbody tr th:only-of-type {\n",
       "        vertical-align: middle;\n",
       "    }\n",
       "\n",
       "    .dataframe tbody tr th {\n",
       "        vertical-align: top;\n",
       "    }\n",
       "\n",
       "    .dataframe thead th {\n",
       "        text-align: right;\n",
       "    }\n",
       "</style>\n",
       "<table border=\"1\" class=\"dataframe\">\n",
       "  <thead>\n",
       "    <tr style=\"text-align: right;\">\n",
       "      <th></th>\n",
       "      <th>Anio mes</th>\n",
       "      <th>Codigo IATA</th>\n",
       "      <th>Descripcion</th>\n",
       "      <th>Estado</th>\n",
       "      <th>Operaciones nacionales</th>\n",
       "      <th>Operaciones internacionales</th>\n",
       "      <th>Anio_mes</th>\n",
       "    </tr>\n",
       "  </thead>\n",
       "  <tbody>\n",
       "    <tr>\n",
       "      <th>432</th>\n",
       "      <td>201701</td>\n",
       "      <td>CEN</td>\n",
       "      <td>Ciudad Obregon</td>\n",
       "      <td>Sonora</td>\n",
       "      <td>680</td>\n",
       "      <td>214</td>\n",
       "      <td>201701</td>\n",
       "    </tr>\n",
       "    <tr>\n",
       "      <th>433</th>\n",
       "      <td>201701</td>\n",
       "      <td>CLQ</td>\n",
       "      <td>Colima</td>\n",
       "      <td>Colima</td>\n",
       "      <td>516</td>\n",
       "      <td>0</td>\n",
       "      <td>201701</td>\n",
       "    </tr>\n",
       "    <tr>\n",
       "      <th>434</th>\n",
       "      <td>201701</td>\n",
       "      <td>CME</td>\n",
       "      <td>Ciudad del Carmen</td>\n",
       "      <td>Campeche</td>\n",
       "      <td>2395</td>\n",
       "      <td>49</td>\n",
       "      <td>201701</td>\n",
       "    </tr>\n",
       "    <tr>\n",
       "      <th>435</th>\n",
       "      <td>201701</td>\n",
       "      <td>CPE</td>\n",
       "      <td>Campeche</td>\n",
       "      <td>Campeche</td>\n",
       "      <td>380</td>\n",
       "      <td>2</td>\n",
       "      <td>201701</td>\n",
       "    </tr>\n",
       "    <tr>\n",
       "      <th>436</th>\n",
       "      <td>201701</td>\n",
       "      <td>CTM</td>\n",
       "      <td>Chetumal</td>\n",
       "      <td>Quintana Roo</td>\n",
       "      <td>434</td>\n",
       "      <td>12</td>\n",
       "      <td>201701</td>\n",
       "    </tr>\n",
       "  </tbody>\n",
       "</table>\n",
       "</div>"
      ],
      "text/plain": [
       "     Anio mes Codigo IATA        Descripcion        Estado  \\\n",
       "432    201701         CEN     Ciudad Obregon        Sonora   \n",
       "433    201701         CLQ             Colima        Colima   \n",
       "434    201701         CME  Ciudad del Carmen      Campeche   \n",
       "435    201701         CPE           Campeche      Campeche   \n",
       "436    201701         CTM           Chetumal  Quintana Roo   \n",
       "\n",
       "     Operaciones nacionales  Operaciones internacionales  Anio_mes  \n",
       "432                     680                          214    201701  \n",
       "433                     516                            0    201701  \n",
       "434                    2395                           49    201701  \n",
       "435                     380                            2    201701  \n",
       "436                     434                           12    201701  "
      ]
     },
     "execution_count": 98,
     "metadata": {},
     "output_type": "execute_result"
    }
   ],
   "source": [
    "(\n",
    "    ops\n",
    "    .rename({'Anio mes' : 'Anio_mes'})\n",
    "    .query('Anio_mes == 201701')\n",
    ").head(5)"
   ]
  },
  {
   "cell_type": "code",
   "execution_count": 99,
   "metadata": {
    "ExecuteTime": {
     "end_time": "2018-09-04T00:25:26.107117Z",
     "start_time": "2018-09-04T00:25:26.079318Z"
    },
    "colab": {},
    "colab_type": "code",
    "id": "rcMvG-5Vp_a5"
   },
   "outputs": [
    {
     "data": {
      "text/html": [
       "<div>\n",
       "<style scoped>\n",
       "    .dataframe tbody tr th:only-of-type {\n",
       "        vertical-align: middle;\n",
       "    }\n",
       "\n",
       "    .dataframe tbody tr th {\n",
       "        vertical-align: top;\n",
       "    }\n",
       "\n",
       "    .dataframe thead th {\n",
       "        text-align: right;\n",
       "    }\n",
       "</style>\n",
       "<table border=\"1\" class=\"dataframe\">\n",
       "  <thead>\n",
       "    <tr style=\"text-align: right;\">\n",
       "      <th></th>\n",
       "      <th>Anio mes</th>\n",
       "      <th>Codigo IATA</th>\n",
       "      <th>Descripcion</th>\n",
       "      <th>Estado</th>\n",
       "      <th>Operaciones nacionales</th>\n",
       "      <th>Operaciones internacionales</th>\n",
       "      <th>Anio_mes</th>\n",
       "    </tr>\n",
       "  </thead>\n",
       "  <tbody>\n",
       "    <tr>\n",
       "      <th>447</th>\n",
       "      <td>201701</td>\n",
       "      <td>TPQ</td>\n",
       "      <td>Tepic</td>\n",
       "      <td>Nayarit</td>\n",
       "      <td>603</td>\n",
       "      <td>0</td>\n",
       "      <td>201701</td>\n",
       "    </tr>\n",
       "    <tr>\n",
       "      <th>465</th>\n",
       "      <td>201702</td>\n",
       "      <td>TPQ</td>\n",
       "      <td>Tepic</td>\n",
       "      <td>Nayarit</td>\n",
       "      <td>671</td>\n",
       "      <td>0</td>\n",
       "      <td>201702</td>\n",
       "    </tr>\n",
       "  </tbody>\n",
       "</table>\n",
       "</div>"
      ],
      "text/plain": [
       "     Anio mes Codigo IATA Descripcion   Estado  Operaciones nacionales  \\\n",
       "447    201701         TPQ       Tepic  Nayarit                     603   \n",
       "465    201702         TPQ       Tepic  Nayarit                     671   \n",
       "\n",
       "     Operaciones internacionales  Anio_mes  \n",
       "447                            0    201701  \n",
       "465                            0    201702  "
      ]
     },
     "execution_count": 99,
     "metadata": {},
     "output_type": "execute_result"
    }
   ],
   "source": [
    "ops.query('Anio_mes > 201700 & Estado == \"Nayarit\"').sort_values(by='Anio_mes').head(2)"
   ]
  },
  {
   "cell_type": "markdown",
   "metadata": {
    "colab_type": "text",
    "id": "d-XIewBfp_a6"
   },
   "source": [
    "Por ahora no se puede si las columnas contienen espacios."
   ]
  },
  {
   "cell_type": "code",
   "execution_count": 100,
   "metadata": {
    "ExecuteTime": {
     "end_time": "2018-09-04T00:19:11.957999Z",
     "start_time": "2018-09-04T00:19:11.952272Z"
    },
    "colab": {},
    "colab_type": "code",
    "id": "4B41xxIjp_a7"
   },
   "outputs": [
    {
     "ename": "TypeError",
     "evalue": "rename() takes from 1 to 2 positional arguments but 3 were given",
     "output_type": "error",
     "traceback": [
      "\u001b[0;31m---------------------------------------------------------------------------\u001b[0m",
      "\u001b[0;31mTypeError\u001b[0m                                 Traceback (most recent call last)",
      "\u001b[0;32m/var/folders/y4/_gt42s452j5gjbk21z_1_c6w0000gn/T/ipykernel_47435/3781706644.py\u001b[0m in \u001b[0;36m<module>\u001b[0;34m\u001b[0m\n\u001b[1;32m      1\u001b[0m (\n\u001b[0;32m----> 2\u001b[0;31m     \u001b[0mops\u001b[0m\u001b[0;34m\u001b[0m\u001b[0;34m\u001b[0m\u001b[0m\n\u001b[0m\u001b[1;32m      3\u001b[0m     \u001b[0;34m.\u001b[0m\u001b[0mrename\u001b[0m\u001b[0;34m(\u001b[0m\u001b[0;34m{\u001b[0m\u001b[0;34m'Anio mes'\u001b[0m \u001b[0;34m:\u001b[0m \u001b[0;34m'Anio_mes'\u001b[0m\u001b[0;34m}\u001b[0m\u001b[0;34m,\u001b[0m \u001b[0;34m{\u001b[0m\u001b[0;34m'Codigo IATA'\u001b[0m\u001b[0;34m:\u001b[0m\u001b[0;34m'Codigo_IATA'\u001b[0m\u001b[0;34m}\u001b[0m\u001b[0;34m)\u001b[0m\u001b[0;34m\u001b[0m\u001b[0;34m\u001b[0m\u001b[0m\n\u001b[1;32m      4\u001b[0m     \u001b[0;34m.\u001b[0m\u001b[0mquery\u001b[0m\u001b[0;34m(\u001b[0m\u001b[0;34m'Anio_mes > 2017 & Codigo_IATA == \"UPN\"'\u001b[0m\u001b[0;34m)\u001b[0m\u001b[0;34m\u001b[0m\u001b[0;34m\u001b[0m\u001b[0m\n\u001b[1;32m      5\u001b[0m ).head(2)\n",
      "\u001b[0;32m~/.local/share/virtualenvs/DataLab_Community-FVSCTPWQ/lib/python3.8/site-packages/pandas/util/_decorators.py\u001b[0m in \u001b[0;36mwrapper\u001b[0;34m(*args, **kwargs)\u001b[0m\n\u001b[1;32m    322\u001b[0m         \u001b[0;34m@\u001b[0m\u001b[0mwraps\u001b[0m\u001b[0;34m(\u001b[0m\u001b[0mfunc\u001b[0m\u001b[0;34m)\u001b[0m\u001b[0;34m\u001b[0m\u001b[0;34m\u001b[0m\u001b[0m\n\u001b[1;32m    323\u001b[0m         \u001b[0;32mdef\u001b[0m \u001b[0mwrapper\u001b[0m\u001b[0;34m(\u001b[0m\u001b[0;34m*\u001b[0m\u001b[0margs\u001b[0m\u001b[0;34m,\u001b[0m \u001b[0;34m**\u001b[0m\u001b[0mkwargs\u001b[0m\u001b[0;34m)\u001b[0m \u001b[0;34m->\u001b[0m \u001b[0mCallable\u001b[0m\u001b[0;34m[\u001b[0m\u001b[0;34m...\u001b[0m\u001b[0;34m,\u001b[0m \u001b[0mAny\u001b[0m\u001b[0;34m]\u001b[0m\u001b[0;34m:\u001b[0m\u001b[0;34m\u001b[0m\u001b[0;34m\u001b[0m\u001b[0m\n\u001b[0;32m--> 324\u001b[0;31m             \u001b[0;32mreturn\u001b[0m \u001b[0mfunc\u001b[0m\u001b[0;34m(\u001b[0m\u001b[0;34m*\u001b[0m\u001b[0margs\u001b[0m\u001b[0;34m,\u001b[0m \u001b[0;34m**\u001b[0m\u001b[0mkwargs\u001b[0m\u001b[0;34m)\u001b[0m\u001b[0;34m\u001b[0m\u001b[0;34m\u001b[0m\u001b[0m\n\u001b[0m\u001b[1;32m    325\u001b[0m \u001b[0;34m\u001b[0m\u001b[0m\n\u001b[1;32m    326\u001b[0m         \u001b[0mkind\u001b[0m \u001b[0;34m=\u001b[0m \u001b[0minspect\u001b[0m\u001b[0;34m.\u001b[0m\u001b[0mParameter\u001b[0m\u001b[0;34m.\u001b[0m\u001b[0mPOSITIONAL_OR_KEYWORD\u001b[0m\u001b[0;34m\u001b[0m\u001b[0;34m\u001b[0m\u001b[0m\n",
      "\u001b[0;31mTypeError\u001b[0m: rename() takes from 1 to 2 positional arguments but 3 were given"
     ]
    }
   ],
   "source": [
    "(\n",
    "    ops\n",
    "    .rename({'Anio mes' : 'Anio_mes'}, {'Codigo IATA':'Codigo_IATA'})\n",
    "    .query('Anio_mes > 2017 & Codigo_IATA == \"UPN\"')\n",
    ").head(2)"
   ]
  },
  {
   "cell_type": "markdown",
   "metadata": {
    "colab_type": "text",
    "id": "_8po7npzp_a9"
   },
   "source": [
    "Podemos cambiar los nombres de todas las columnas de `ops` para que en vez de espacios tengan _."
   ]
  },
  {
   "cell_type": "code",
   "execution_count": 104,
   "metadata": {
    "ExecuteTime": {
     "end_time": "2018-09-04T00:20:58.388766Z",
     "start_time": "2018-09-04T00:20:58.380548Z"
    },
    "colab": {},
    "colab_type": "code",
    "id": "kNomEUQRp_a-"
   },
   "outputs": [
    {
     "data": {
      "text/plain": [
       "'Hxla'"
      ]
     },
     "execution_count": 104,
     "metadata": {},
     "output_type": "execute_result"
    }
   ],
   "source": [
    "\"Hola\".replace('o', 'x')"
   ]
  },
  {
   "cell_type": "code",
   "execution_count": 105,
   "metadata": {
    "ExecuteTime": {
     "end_time": "2018-03-16T03:22:11.206515Z",
     "start_time": "2018-03-16T03:22:11.196655Z"
    },
    "colab": {},
    "colab_type": "code",
    "id": "0r4ngGKKp_bC"
   },
   "outputs": [],
   "source": [
    "#ops.columns = [x.replace(' ', '_') for x in ops.columns]"
   ]
  },
  {
   "cell_type": "code",
   "execution_count": 106,
   "metadata": {
    "ExecuteTime": {
     "end_time": "2018-03-16T03:22:12.564693Z",
     "start_time": "2018-03-16T03:22:12.548360Z"
    },
    "colab": {},
    "colab_type": "code",
    "id": "JhT3flROp_bE"
   },
   "outputs": [
    {
     "data": {
      "text/plain": [
       "Index(['Anio mes', 'Codigo IATA', 'Descripcion', 'Estado',\n",
       "       'Operaciones nacionales', 'Operaciones internacionales', 'Anio_mes'],\n",
       "      dtype='object')"
      ]
     },
     "execution_count": 106,
     "metadata": {},
     "output_type": "execute_result"
    }
   ],
   "source": [
    "ops.columns"
   ]
  },
  {
   "cell_type": "markdown",
   "metadata": {
    "colab_type": "text",
    "id": "uUj1skLXp_bI"
   },
   "source": [
    "### Lambdas\n",
    "\n",
    "Las funciones `lambda` son funciones \"anónimas\" (sin nombre) que son para cuando no se quiere definir una función como tal."
   ]
  },
  {
   "cell_type": "code",
   "execution_count": 107,
   "metadata": {
    "ExecuteTime": {
     "end_time": "2018-09-04T00:26:33.271542Z",
     "start_time": "2018-09-04T00:26:33.265796Z"
    },
    "colab": {},
    "colab_type": "code",
    "id": "80l5HUx-p_bJ"
   },
   "outputs": [],
   "source": [
    "f = lambda x: x * 10"
   ]
  },
  {
   "cell_type": "code",
   "execution_count": 108,
   "metadata": {
    "ExecuteTime": {
     "end_time": "2018-09-04T00:27:49.207196Z",
     "start_time": "2018-09-04T00:27:49.192817Z"
    },
    "colab": {},
    "colab_type": "code",
    "id": "_IdtGdkIp_bL"
   },
   "outputs": [
    {
     "data": {
      "text/plain": [
       "20"
      ]
     },
     "execution_count": 108,
     "metadata": {},
     "output_type": "execute_result"
    }
   ],
   "source": [
    "f(2)"
   ]
  },
  {
   "cell_type": "markdown",
   "metadata": {
    "colab_type": "text",
    "id": "sjczmMSDp_bN"
   },
   "source": [
    "Se pueden usar cuando quieres un parámetro dentro de una función que debes definir para usarla."
   ]
  },
  {
   "cell_type": "code",
   "execution_count": 109,
   "metadata": {
    "ExecuteTime": {
     "end_time": "2018-09-04T00:28:30.900201Z",
     "start_time": "2018-09-04T00:28:30.886420Z"
    },
    "colab": {},
    "colab_type": "code",
    "id": "oh08SoDep_bN"
   },
   "outputs": [],
   "source": [
    "def multiplica_por(n):\n",
    "    return lambda x: x * n"
   ]
  },
  {
   "cell_type": "code",
   "execution_count": 110,
   "metadata": {
    "ExecuteTime": {
     "end_time": "2018-09-04T00:29:36.347366Z",
     "start_time": "2018-09-04T00:29:36.334331Z"
    },
    "colab": {},
    "colab_type": "code",
    "id": "0ukD-Aw-p_bN"
   },
   "outputs": [],
   "source": [
    "g = multiplica_por(3)"
   ]
  },
  {
   "cell_type": "code",
   "execution_count": 111,
   "metadata": {
    "ExecuteTime": {
     "end_time": "2018-09-04T00:29:41.036739Z",
     "start_time": "2018-09-04T00:29:41.022382Z"
    },
    "colab": {},
    "colab_type": "code",
    "id": "jzbhoTe3p_bQ"
   },
   "outputs": [
    {
     "data": {
      "text/plain": [
       "3"
      ]
     },
     "execution_count": 111,
     "metadata": {},
     "output_type": "execute_result"
    }
   ],
   "source": [
    "g(1)"
   ]
  },
  {
   "cell_type": "markdown",
   "metadata": {
    "colab_type": "text",
    "id": "bKpaEgqhp_bR"
   },
   "source": [
    "### Assign\n",
    "\n",
    "Con el método `assign` podemos crear/modificar columnas sin necesidad de \"salirnos\" del pipeline."
   ]
  },
  {
   "cell_type": "code",
   "execution_count": 112,
   "metadata": {
    "ExecuteTime": {
     "end_time": "2018-09-04T00:33:42.574921Z",
     "start_time": "2018-09-04T00:33:42.544388Z"
    },
    "colab": {},
    "colab_type": "code",
    "id": "NvDZoO-Kp_bR"
   },
   "outputs": [
    {
     "data": {
      "text/html": [
       "<div>\n",
       "<style scoped>\n",
       "    .dataframe tbody tr th:only-of-type {\n",
       "        vertical-align: middle;\n",
       "    }\n",
       "\n",
       "    .dataframe tbody tr th {\n",
       "        vertical-align: top;\n",
       "    }\n",
       "\n",
       "    .dataframe thead th {\n",
       "        text-align: right;\n",
       "    }\n",
       "</style>\n",
       "<table border=\"1\" class=\"dataframe\">\n",
       "  <thead>\n",
       "    <tr style=\"text-align: right;\">\n",
       "      <th></th>\n",
       "      <th>Anio mes</th>\n",
       "      <th>Codigo IATA</th>\n",
       "      <th>Descripcion</th>\n",
       "      <th>Estado</th>\n",
       "      <th>Operaciones nacionales</th>\n",
       "      <th>Operaciones internacionales</th>\n",
       "      <th>Anio_mes</th>\n",
       "      <th>nueva_variable</th>\n",
       "    </tr>\n",
       "  </thead>\n",
       "  <tbody>\n",
       "    <tr>\n",
       "      <th>0</th>\n",
       "      <td>201501</td>\n",
       "      <td>CEN</td>\n",
       "      <td>Ciudad Obregon</td>\n",
       "      <td>Sonora</td>\n",
       "      <td>730</td>\n",
       "      <td>137</td>\n",
       "      <td>201501</td>\n",
       "      <td>1</td>\n",
       "    </tr>\n",
       "    <tr>\n",
       "      <th>1</th>\n",
       "      <td>201501</td>\n",
       "      <td>CLQ</td>\n",
       "      <td>Colima</td>\n",
       "      <td>Colima</td>\n",
       "      <td>468</td>\n",
       "      <td>0</td>\n",
       "      <td>201501</td>\n",
       "      <td>1</td>\n",
       "    </tr>\n",
       "    <tr>\n",
       "      <th>2</th>\n",
       "      <td>201501</td>\n",
       "      <td>CME</td>\n",
       "      <td>Ciudad del Carmen</td>\n",
       "      <td>Campeche</td>\n",
       "      <td>4750</td>\n",
       "      <td>83</td>\n",
       "      <td>201501</td>\n",
       "      <td>1</td>\n",
       "    </tr>\n",
       "  </tbody>\n",
       "</table>\n",
       "</div>"
      ],
      "text/plain": [
       "   Anio mes Codigo IATA        Descripcion    Estado  Operaciones nacionales  \\\n",
       "0    201501         CEN     Ciudad Obregon    Sonora                     730   \n",
       "1    201501         CLQ             Colima    Colima                     468   \n",
       "2    201501         CME  Ciudad del Carmen  Campeche                    4750   \n",
       "\n",
       "   Operaciones internacionales  Anio_mes  nueva_variable  \n",
       "0                          137    201501               1  \n",
       "1                            0    201501               1  \n",
       "2                           83    201501               1  "
      ]
     },
     "execution_count": 112,
     "metadata": {},
     "output_type": "execute_result"
    }
   ],
   "source": [
    "ops.assign(nueva_variable = 1).head(3)"
   ]
  },
  {
   "cell_type": "code",
   "execution_count": 113,
   "metadata": {
    "ExecuteTime": {
     "end_time": "2018-09-04T00:32:36.290517Z",
     "start_time": "2018-09-04T00:32:36.260044Z"
    },
    "colab": {},
    "colab_type": "code",
    "id": "cgjhYAOWp_bU"
   },
   "outputs": [
    {
     "data": {
      "text/html": [
       "<div>\n",
       "<style scoped>\n",
       "    .dataframe tbody tr th:only-of-type {\n",
       "        vertical-align: middle;\n",
       "    }\n",
       "\n",
       "    .dataframe tbody tr th {\n",
       "        vertical-align: top;\n",
       "    }\n",
       "\n",
       "    .dataframe thead th {\n",
       "        text-align: right;\n",
       "    }\n",
       "</style>\n",
       "<table border=\"1\" class=\"dataframe\">\n",
       "  <thead>\n",
       "    <tr style=\"text-align: right;\">\n",
       "      <th></th>\n",
       "      <th>Anio mes</th>\n",
       "      <th>Codigo IATA</th>\n",
       "      <th>Descripcion</th>\n",
       "      <th>Estado</th>\n",
       "      <th>Operaciones nacionales</th>\n",
       "      <th>Operaciones internacionales</th>\n",
       "      <th>Anio_mes</th>\n",
       "    </tr>\n",
       "  </thead>\n",
       "  <tbody>\n",
       "    <tr>\n",
       "      <th>0</th>\n",
       "      <td>201501</td>\n",
       "      <td>CEN</td>\n",
       "      <td>Ciudad Obregon</td>\n",
       "      <td>Sonora</td>\n",
       "      <td>730</td>\n",
       "      <td>137</td>\n",
       "      <td>201501</td>\n",
       "    </tr>\n",
       "    <tr>\n",
       "      <th>1</th>\n",
       "      <td>201501</td>\n",
       "      <td>CLQ</td>\n",
       "      <td>Colima</td>\n",
       "      <td>Colima</td>\n",
       "      <td>468</td>\n",
       "      <td>0</td>\n",
       "      <td>201501</td>\n",
       "    </tr>\n",
       "    <tr>\n",
       "      <th>2</th>\n",
       "      <td>201501</td>\n",
       "      <td>CME</td>\n",
       "      <td>Ciudad del Carmen</td>\n",
       "      <td>Campeche</td>\n",
       "      <td>4750</td>\n",
       "      <td>83</td>\n",
       "      <td>201501</td>\n",
       "    </tr>\n",
       "  </tbody>\n",
       "</table>\n",
       "</div>"
      ],
      "text/plain": [
       "   Anio mes Codigo IATA        Descripcion    Estado  Operaciones nacionales  \\\n",
       "0    201501         CEN     Ciudad Obregon    Sonora                     730   \n",
       "1    201501         CLQ             Colima    Colima                     468   \n",
       "2    201501         CME  Ciudad del Carmen  Campeche                    4750   \n",
       "\n",
       "   Operaciones internacionales  Anio_mes  \n",
       "0                          137    201501  \n",
       "1                            0    201501  \n",
       "2                           83    201501  "
      ]
     },
     "execution_count": 113,
     "metadata": {},
     "output_type": "execute_result"
    }
   ],
   "source": [
    "ops.head(3)"
   ]
  },
  {
   "cell_type": "code",
   "execution_count": 114,
   "metadata": {
    "ExecuteTime": {
     "end_time": "2018-03-14T00:02:58.338189Z",
     "start_time": "2018-03-14T00:02:58.233301Z"
    },
    "colab": {},
    "colab_type": "code",
    "id": "VrVQhIYsp_bX"
   },
   "outputs": [
    {
     "data": {
      "text/html": [
       "<div>\n",
       "<style scoped>\n",
       "    .dataframe tbody tr th:only-of-type {\n",
       "        vertical-align: middle;\n",
       "    }\n",
       "\n",
       "    .dataframe tbody tr th {\n",
       "        vertical-align: top;\n",
       "    }\n",
       "\n",
       "    .dataframe thead th {\n",
       "        text-align: right;\n",
       "    }\n",
       "</style>\n",
       "<table border=\"1\" class=\"dataframe\">\n",
       "  <thead>\n",
       "    <tr style=\"text-align: right;\">\n",
       "      <th></th>\n",
       "      <th>Anio mes</th>\n",
       "      <th>Codigo IATA</th>\n",
       "      <th>Descripcion</th>\n",
       "      <th>Estado</th>\n",
       "      <th>Operaciones nacionales</th>\n",
       "      <th>Operaciones internacionales</th>\n",
       "      <th>Anio_mes</th>\n",
       "    </tr>\n",
       "  </thead>\n",
       "  <tbody>\n",
       "    <tr>\n",
       "      <th>0</th>\n",
       "      <td>201501</td>\n",
       "      <td>CEN</td>\n",
       "      <td>Ciudad Obregon</td>\n",
       "      <td>Sonora</td>\n",
       "      <td>730</td>\n",
       "      <td>137</td>\n",
       "      <td>1</td>\n",
       "    </tr>\n",
       "    <tr>\n",
       "      <th>1</th>\n",
       "      <td>201501</td>\n",
       "      <td>CLQ</td>\n",
       "      <td>Colima</td>\n",
       "      <td>Colima</td>\n",
       "      <td>468</td>\n",
       "      <td>0</td>\n",
       "      <td>1</td>\n",
       "    </tr>\n",
       "    <tr>\n",
       "      <th>2</th>\n",
       "      <td>201501</td>\n",
       "      <td>CME</td>\n",
       "      <td>Ciudad del Carmen</td>\n",
       "      <td>Campeche</td>\n",
       "      <td>4750</td>\n",
       "      <td>83</td>\n",
       "      <td>1</td>\n",
       "    </tr>\n",
       "  </tbody>\n",
       "</table>\n",
       "</div>"
      ],
      "text/plain": [
       "   Anio mes Codigo IATA        Descripcion    Estado  Operaciones nacionales  \\\n",
       "0    201501         CEN     Ciudad Obregon    Sonora                     730   \n",
       "1    201501         CLQ             Colima    Colima                     468   \n",
       "2    201501         CME  Ciudad del Carmen  Campeche                    4750   \n",
       "\n",
       "   Operaciones internacionales  Anio_mes  \n",
       "0                          137         1  \n",
       "1                            0         1  \n",
       "2                           83         1  "
      ]
     },
     "execution_count": 114,
     "metadata": {},
     "output_type": "execute_result"
    }
   ],
   "source": [
    "ops.assign(Anio_mes = 1).head(3)"
   ]
  },
  {
   "cell_type": "markdown",
   "metadata": {
    "colab_type": "text",
    "id": "9qSDifm_p_bY"
   },
   "source": [
    "También podemos computar usando las mismas columnas de dataframe a travén de una función lambda. El parámetro entrante a la función es el DataFrame."
   ]
  },
  {
   "cell_type": "code",
   "execution_count": 115,
   "metadata": {
    "ExecuteTime": {
     "end_time": "2018-09-04T00:37:09.105610Z",
     "start_time": "2018-09-04T00:37:09.075668Z"
    },
    "colab": {},
    "colab_type": "code",
    "id": "iBob29NEp_bY"
   },
   "outputs": [
    {
     "data": {
      "text/html": [
       "<div>\n",
       "<style scoped>\n",
       "    .dataframe tbody tr th:only-of-type {\n",
       "        vertical-align: middle;\n",
       "    }\n",
       "\n",
       "    .dataframe tbody tr th {\n",
       "        vertical-align: top;\n",
       "    }\n",
       "\n",
       "    .dataframe thead th {\n",
       "        text-align: right;\n",
       "    }\n",
       "</style>\n",
       "<table border=\"1\" class=\"dataframe\">\n",
       "  <thead>\n",
       "    <tr style=\"text-align: right;\">\n",
       "      <th></th>\n",
       "      <th>Anio mes</th>\n",
       "      <th>Codigo IATA</th>\n",
       "      <th>Descripcion</th>\n",
       "      <th>Estado</th>\n",
       "      <th>Operaciones nacionales</th>\n",
       "      <th>Operaciones internacionales</th>\n",
       "      <th>Anio_mes</th>\n",
       "      <th>op_tot</th>\n",
       "    </tr>\n",
       "  </thead>\n",
       "  <tbody>\n",
       "    <tr>\n",
       "      <th>0</th>\n",
       "      <td>201501</td>\n",
       "      <td>CEN</td>\n",
       "      <td>Ciudad Obregon</td>\n",
       "      <td>Sonora</td>\n",
       "      <td>730</td>\n",
       "      <td>137</td>\n",
       "      <td>201501</td>\n",
       "      <td>867</td>\n",
       "    </tr>\n",
       "  </tbody>\n",
       "</table>\n",
       "</div>"
      ],
      "text/plain": [
       "   Anio mes Codigo IATA     Descripcion  Estado  Operaciones nacionales  \\\n",
       "0    201501         CEN  Ciudad Obregon  Sonora                     730   \n",
       "\n",
       "   Operaciones internacionales  Anio_mes  op_tot  \n",
       "0                          137    201501     867  "
      ]
     },
     "execution_count": 115,
     "metadata": {},
     "output_type": "execute_result"
    }
   ],
   "source": [
    "ops.assign(\n",
    "    op_tot = lambda x: x['Operaciones internacionales'] + x['Operaciones nacionales']).head(1)"
   ]
  },
  {
   "cell_type": "code",
   "execution_count": 116,
   "metadata": {},
   "outputs": [
    {
     "data": {
      "text/html": [
       "<div>\n",
       "<style scoped>\n",
       "    .dataframe tbody tr th:only-of-type {\n",
       "        vertical-align: middle;\n",
       "    }\n",
       "\n",
       "    .dataframe tbody tr th {\n",
       "        vertical-align: top;\n",
       "    }\n",
       "\n",
       "    .dataframe thead th {\n",
       "        text-align: right;\n",
       "    }\n",
       "</style>\n",
       "<table border=\"1\" class=\"dataframe\">\n",
       "  <thead>\n",
       "    <tr style=\"text-align: right;\">\n",
       "      <th></th>\n",
       "      <th>Anio mes</th>\n",
       "      <th>Codigo IATA</th>\n",
       "      <th>Descripcion</th>\n",
       "      <th>Estado</th>\n",
       "      <th>Operaciones nacionales</th>\n",
       "      <th>Operaciones internacionales</th>\n",
       "      <th>Anio_mes</th>\n",
       "      <th>op_tot</th>\n",
       "    </tr>\n",
       "  </thead>\n",
       "  <tbody>\n",
       "    <tr>\n",
       "      <th>0</th>\n",
       "      <td>201501</td>\n",
       "      <td>CEN</td>\n",
       "      <td>Ciudad Obregon</td>\n",
       "      <td>Sonora</td>\n",
       "      <td>730</td>\n",
       "      <td>137</td>\n",
       "      <td>201501</td>\n",
       "      <td>867</td>\n",
       "    </tr>\n",
       "    <tr>\n",
       "      <th>1</th>\n",
       "      <td>201501</td>\n",
       "      <td>CLQ</td>\n",
       "      <td>Colima</td>\n",
       "      <td>Colima</td>\n",
       "      <td>468</td>\n",
       "      <td>0</td>\n",
       "      <td>201501</td>\n",
       "      <td>468</td>\n",
       "    </tr>\n",
       "    <tr>\n",
       "      <th>2</th>\n",
       "      <td>201501</td>\n",
       "      <td>CME</td>\n",
       "      <td>Ciudad del Carmen</td>\n",
       "      <td>Campeche</td>\n",
       "      <td>4750</td>\n",
       "      <td>83</td>\n",
       "      <td>201501</td>\n",
       "      <td>4833</td>\n",
       "    </tr>\n",
       "    <tr>\n",
       "      <th>3</th>\n",
       "      <td>201501</td>\n",
       "      <td>CPE</td>\n",
       "      <td>Campeche</td>\n",
       "      <td>Campeche</td>\n",
       "      <td>398</td>\n",
       "      <td>10</td>\n",
       "      <td>201501</td>\n",
       "      <td>408</td>\n",
       "    </tr>\n",
       "    <tr>\n",
       "      <th>4</th>\n",
       "      <td>201501</td>\n",
       "      <td>CTM</td>\n",
       "      <td>Chetumal</td>\n",
       "      <td>Quintana Roo</td>\n",
       "      <td>338</td>\n",
       "      <td>0</td>\n",
       "      <td>201501</td>\n",
       "      <td>338</td>\n",
       "    </tr>\n",
       "  </tbody>\n",
       "</table>\n",
       "</div>"
      ],
      "text/plain": [
       "   Anio mes Codigo IATA        Descripcion        Estado  \\\n",
       "0    201501         CEN     Ciudad Obregon        Sonora   \n",
       "1    201501         CLQ             Colima        Colima   \n",
       "2    201501         CME  Ciudad del Carmen      Campeche   \n",
       "3    201501         CPE           Campeche      Campeche   \n",
       "4    201501         CTM           Chetumal  Quintana Roo   \n",
       "\n",
       "   Operaciones nacionales  Operaciones internacionales  Anio_mes  op_tot  \n",
       "0                     730                          137    201501     867  \n",
       "1                     468                            0    201501     468  \n",
       "2                    4750                           83    201501    4833  \n",
       "3                     398                           10    201501     408  \n",
       "4                     338                            0    201501     338  "
      ]
     },
     "execution_count": 116,
     "metadata": {},
     "output_type": "execute_result"
    }
   ],
   "source": [
    "(\n",
    "\n",
    "ops\n",
    ".assign(\n",
    "    op_tot = lambda x : x['Operaciones internacionales'] + x['Operaciones nacionales']\n",
    ")\n",
    ").head(5)"
   ]
  },
  {
   "cell_type": "markdown",
   "metadata": {
    "colab_type": "text",
    "id": "aNwNrKZDp_ba",
    "solution2": "shown",
    "solution2_first": true
   },
   "source": [
    "**Ejercicio**: Sin crear nuevas variables (usando solo métodos de pandas), grafica las operaciones totales por mes que hay en promedio en todos los años."
   ]
  },
  {
   "cell_type": "code",
   "execution_count": null,
   "metadata": {},
   "outputs": [],
   "source": []
  },
  {
   "cell_type": "code",
   "execution_count": null,
   "metadata": {
    "ExecuteTime": {
     "end_time": "2018-09-04T00:53:24.789654Z",
     "start_time": "2018-09-04T00:53:24.704297Z"
    },
    "colab": {},
    "colab_type": "code",
    "id": "TTZEIkzZp_ba",
    "solution2": "shown"
   },
   "outputs": [],
   "source": []
  },
  {
   "cell_type": "markdown",
   "metadata": {
    "colab_type": "text",
    "id": "qD8xuNVgp_bc"
   },
   "source": [
    "**Ejercicio**: Sin crear nuevas variables (usando solo métodos de pandas), grafica los pasajeros totales por IATA por mes que hay en promedio en todos los años, únicamente para las 3 IATAS con mayor número de operaciones internacionales en la historia."
   ]
  },
  {
   "cell_type": "code",
   "execution_count": null,
   "metadata": {
    "ExecuteTime": {
     "end_time": "2018-09-04T01:44:53.307078Z",
     "start_time": "2018-09-04T01:44:53.083298Z"
    },
    "colab": {},
    "colab_type": "code",
    "id": "Pdp6db-Zp_bc"
   },
   "outputs": [],
   "source": []
  },
  {
   "cell_type": "code",
   "execution_count": null,
   "metadata": {},
   "outputs": [],
   "source": []
  },
  {
   "cell_type": "markdown",
   "metadata": {
    "colab_type": "text",
    "id": "uNz3DxGKp_be"
   },
   "source": [
    "### Apply\n",
    "\n",
    "El método apply nos ayuda a aplicar funciones a un Series."
   ]
  },
  {
   "cell_type": "code",
   "execution_count": 117,
   "metadata": {
    "ExecuteTime": {
     "end_time": "2018-09-04T02:02:20.452318Z",
     "start_time": "2018-09-04T02:02:20.433045Z"
    },
    "colab": {},
    "colab_type": "code",
    "id": "Cn8b6RMdp_be"
   },
   "outputs": [
    {
     "data": {
      "text/plain": [
       "0              inf\n",
       "1    1.777532e+203\n",
       "2              inf\n",
       "3    7.066491e+172\n",
       "4    6.187780e+146\n",
       "Name: Operaciones nacionales, dtype: float64"
      ]
     },
     "execution_count": 117,
     "metadata": {},
     "output_type": "execute_result"
    }
   ],
   "source": [
    "ops['Operaciones nacionales'].apply(np.exp).head(5)"
   ]
  },
  {
   "cell_type": "markdown",
   "metadata": {
    "colab_type": "text",
    "id": "yH90W5Xdp_bg"
   },
   "source": [
    "Esto es útil cuando tenemos funciones propias que queremos usar."
   ]
  },
  {
   "cell_type": "code",
   "execution_count": 118,
   "metadata": {
    "ExecuteTime": {
     "end_time": "2018-09-04T02:05:24.748119Z",
     "start_time": "2018-09-04T02:05:24.733309Z"
    },
    "colab": {},
    "colab_type": "code",
    "id": "3l8hEXrBp_bg"
   },
   "outputs": [],
   "source": [
    "def corte(numero):\n",
    "    # Si numero es mayor a 100 entonces regresa verdadero, si no Falso\n",
    "    if numero > 100:\n",
    "        return True\n",
    "    else:\n",
    "        return False"
   ]
  },
  {
   "cell_type": "code",
   "execution_count": 119,
   "metadata": {
    "ExecuteTime": {
     "end_time": "2018-09-04T02:06:10.836720Z",
     "start_time": "2018-09-04T02:06:10.830301Z"
    },
    "colab": {},
    "colab_type": "code",
    "id": "pV1ejpoup_bh"
   },
   "outputs": [
    {
     "data": {
      "text/plain": [
       "0     True\n",
       "1    False\n",
       "2    False\n",
       "3    False\n",
       "4    False\n",
       "5    False\n",
       "6     True\n",
       "7     True\n",
       "8    False\n",
       "9    False\n",
       "Name: Operaciones internacionales, dtype: bool"
      ]
     },
     "execution_count": 119,
     "metadata": {},
     "output_type": "execute_result"
    }
   ],
   "source": [
    "ops['Operaciones internacionales'].apply(corte).head(10)"
   ]
  },
  {
   "cell_type": "markdown",
   "metadata": {
    "colab_type": "text",
    "id": "PskQh1Skp_bj"
   },
   "source": [
    "Usando el parámetro  `axis` también podemos aplicar a las columnas, equivalente a la función `agg`."
   ]
  },
  {
   "cell_type": "code",
   "execution_count": 120,
   "metadata": {
    "ExecuteTime": {
     "end_time": "2018-09-04T02:08:04.107732Z",
     "start_time": "2018-09-04T02:08:04.055919Z"
    },
    "colab": {},
    "colab_type": "code",
    "id": "Js7neREMp_bk"
   },
   "outputs": [
    {
     "data": {
      "text/html": [
       "<div>\n",
       "<style scoped>\n",
       "    .dataframe tbody tr th:only-of-type {\n",
       "        vertical-align: middle;\n",
       "    }\n",
       "\n",
       "    .dataframe tbody tr th {\n",
       "        vertical-align: top;\n",
       "    }\n",
       "\n",
       "    .dataframe thead th {\n",
       "        text-align: right;\n",
       "    }\n",
       "</style>\n",
       "<table border=\"1\" class=\"dataframe\">\n",
       "  <thead>\n",
       "    <tr style=\"text-align: right;\">\n",
       "      <th></th>\n",
       "      <th>Operaciones nacionales</th>\n",
       "      <th>Operaciones internacionales</th>\n",
       "    </tr>\n",
       "  </thead>\n",
       "  <tbody>\n",
       "    <tr>\n",
       "      <th>sum</th>\n",
       "      <td>572320.0</td>\n",
       "      <td>43390.00000</td>\n",
       "    </tr>\n",
       "    <tr>\n",
       "      <th>mean</th>\n",
       "      <td>584.0</td>\n",
       "      <td>44.27551</td>\n",
       "    </tr>\n",
       "  </tbody>\n",
       "</table>\n",
       "</div>"
      ],
      "text/plain": [
       "      Operaciones nacionales  Operaciones internacionales\n",
       "sum                 572320.0                  43390.00000\n",
       "mean                   584.0                     44.27551"
      ]
     },
     "execution_count": 120,
     "metadata": {},
     "output_type": "execute_result"
    }
   ],
   "source": [
    "ops[['Operaciones nacionales', 'Operaciones internacionales']].apply([np.sum, np.mean], axis=0)"
   ]
  },
  {
   "cell_type": "markdown",
   "metadata": {
    "colab_type": "text",
    "id": "gkE4x_JPp_bo"
   },
   "source": [
    "También podemos usar `lambda` para aplicar comandos específicos. En este caso lo que entra como parámetro es cada valor del Series."
   ]
  },
  {
   "cell_type": "code",
   "execution_count": 121,
   "metadata": {
    "ExecuteTime": {
     "end_time": "2018-09-04T02:11:01.679690Z",
     "start_time": "2018-09-04T02:11:01.660048Z"
    },
    "colab": {},
    "colab_type": "code",
    "id": "QLVSJzfhp_bo"
   },
   "outputs": [
    {
     "data": {
      "text/plain": [
       "0    01\n",
       "1    01\n",
       "2    01\n",
       "3    01\n",
       "4    01\n",
       "Name: Anio mes, dtype: object"
      ]
     },
     "execution_count": 121,
     "metadata": {},
     "output_type": "execute_result"
    }
   ],
   "source": [
    "ops['Anio mes'].apply(lambda y: str(y)[4:]).head(5)"
   ]
  },
  {
   "cell_type": "markdown",
   "metadata": {
    "colab_type": "text",
    "id": "3L25ydLtp_bt"
   },
   "source": [
    "## Iterar sobre dataframe"
   ]
  },
  {
   "cell_type": "code",
   "execution_count": 122,
   "metadata": {
    "ExecuteTime": {
     "end_time": "2018-09-04T02:12:47.867912Z",
     "start_time": "2018-09-04T02:12:47.856863Z"
    },
    "colab": {},
    "colab_type": "code",
    "id": "_OEarQ3yp_bu"
   },
   "outputs": [],
   "source": [
    "mini_ops = ops.head(3)"
   ]
  },
  {
   "cell_type": "code",
   "execution_count": 123,
   "metadata": {
    "ExecuteTime": {
     "end_time": "2018-09-04T02:13:51.520156Z",
     "start_time": "2018-09-04T02:13:51.500974Z"
    },
    "colab": {},
    "colab_type": "code",
    "id": "d6cFjX4Zp_bw"
   },
   "outputs": [
    {
     "name": "stdout",
     "output_type": "stream",
     "text": [
      "0\n",
      "1\n",
      "2\n"
     ]
    }
   ],
   "source": [
    "for i, row in mini_ops.iterrows():\n",
    "#     print(i)\n",
    "#     print(row)\n",
    "    print(i)"
   ]
  },
  {
   "cell_type": "markdown",
   "metadata": {
    "colab_type": "text",
    "id": "KPTC76Mfp_bx",
    "solution2": "shown",
    "solution2_first": true
   },
   "source": [
    "**Ejercicio**: Crea un diccionario de la forma {'Código IATA': Total de pasajeros nacionales en 2017, ...} para todas las IATAS."
   ]
  },
  {
   "cell_type": "code",
   "execution_count": 124,
   "metadata": {
    "ExecuteTime": {
     "end_time": "2018-09-04T02:32:48.427106Z",
     "start_time": "2018-09-04T02:32:48.396172Z"
    },
    "colab": {},
    "colab_type": "code",
    "id": "zHnNDU8gp_bx",
    "solution2": "shown"
   },
   "outputs": [
    {
     "name": "stdout",
     "output_type": "stream",
     "text": [
      "{'CEN': 294536, 'CLQ': 138303, 'CME': 355701, 'CPE': 176490, 'CTM': 275219, 'CVM': 61373, 'GYM': 10492, 'IZT': 17426, 'LTO': 21671, 'MAM': 88100, 'NLD': 78053, 'NOG': 1952, 'PAZ': 27365, 'PBC': 457753, 'PXM': 253056, 'TCN': 3877, 'TPQ': 142086, 'TSL': 1783, 'UPN': 137841}\n"
     ]
    }
   ],
   "source": [
    "df_iata = (pas\n",
    "           .assign(anio = lambda x: (x['Anio mes']/100).astype(int))\n",
    "           .query('anio == 2017')\n",
    "           .groupby('Codigo IATA')['Pasajeros nacionales']\n",
    "           .sum()\n",
    "           .reset_index()\n",
    "          )\n",
    "\n",
    "dicc_iata = {}\n",
    "for i, row in df_iata.iterrows():\n",
    "    dicc_iata[row['Codigo IATA']] = row['Pasajeros nacionales']\n",
    "    \n",
    "print(dicc_iata)"
   ]
  },
  {
   "cell_type": "code",
   "execution_count": 125,
   "metadata": {},
   "outputs": [
    {
     "data": {
      "text/plain": [
       "Index(['Anio mes', 'Codigo IATA', 'Descripcion', 'Estado',\n",
       "       'Pasajeros nacionales', 'Pasajeros internacionales'],\n",
       "      dtype='object')"
      ]
     },
     "execution_count": 125,
     "metadata": {},
     "output_type": "execute_result"
    }
   ],
   "source": [
    "pas.columns"
   ]
  },
  {
   "cell_type": "code",
   "execution_count": 126,
   "metadata": {},
   "outputs": [
    {
     "data": {
      "text/plain": [
       "{'Baja California  Sur': [264614, 96291],\n",
       " 'Puebla': [248307, 1973618],\n",
       " 'Campeche': [77197, 2663585]}"
      ]
     },
     "execution_count": 126,
     "metadata": {},
     "output_type": "execute_result"
    }
   ],
   "source": [
    "#Crear un diccionario con lo 3 principales estadoa y de pasajeros internacionales\n",
    "df_pas = (\n",
    "pas\n",
    "    .groupby('Estado')[['Pasajeros internacionales','Pasajeros nacionales']]\n",
    "    .sum()\n",
    "    .reset_index()\n",
    "    .sort_values(by = 'Pasajeros internacionales',ascending=False)\n",
    "    .head(3)\n",
    "    .reset_index(drop=True)\n",
    ")\n",
    "\n",
    "dicc = {}\n",
    "for i,row in df_pas.iterrows():\n",
    "    dicc[row['Estado']] = [row['Pasajeros internacionales'],row['Pasajeros nacionales']]\n",
    "    \n",
    "dicc"
   ]
  },
  {
   "cell_type": "markdown",
   "metadata": {
    "colab_type": "text",
    "id": "PInDIKuAp_b0"
   },
   "source": [
    "## Fechas\n",
    "\n",
    "Pandas tiene su propio formato de fechas para manejar temporalidad."
   ]
  },
  {
   "cell_type": "code",
   "execution_count": 127,
   "metadata": {
    "ExecuteTime": {
     "end_time": "2018-09-04T02:37:14.279977Z",
     "start_time": "2018-09-04T02:37:14.243171Z"
    },
    "colab": {
     "base_uri": "https://localhost:8080/",
     "height": 34
    },
    "colab_type": "code",
    "executionInfo": {
     "elapsed": 290,
     "status": "ok",
     "timestamp": 1561132827933,
     "user": {
      "displayName": "Irving Simonin",
      "photoUrl": "",
      "userId": "11641242455350035777"
     },
     "user_tz": 300
    },
    "id": "E_7V1Y4ep_b1",
    "outputId": "ea220094-177a-4b46-b2fc-625af10967be"
   },
   "outputs": [
    {
     "data": {
      "text/plain": [
       "Timestamp('2018-01-01 00:00:00')"
      ]
     },
     "execution_count": 127,
     "metadata": {},
     "output_type": "execute_result"
    }
   ],
   "source": [
    "pd.to_datetime('20180101')"
   ]
  },
  {
   "cell_type": "code",
   "execution_count": 128,
   "metadata": {
    "ExecuteTime": {
     "end_time": "2018-09-04T02:37:38.214215Z",
     "start_time": "2018-09-04T02:37:38.197165Z"
    },
    "colab": {
     "base_uri": "https://localhost:8080/",
     "height": 34
    },
    "colab_type": "code",
    "executionInfo": {
     "elapsed": 289,
     "status": "ok",
     "timestamp": 1561132840449,
     "user": {
      "displayName": "Irving Simonin",
      "photoUrl": "",
      "userId": "11641242455350035777"
     },
     "user_tz": 300
    },
    "id": "9biSPB7Up_b2",
    "outputId": "a96d64f2-21c5-48fc-b9c2-70b7bc7f2a5a"
   },
   "outputs": [
    {
     "data": {
      "text/plain": [
       "Timestamp('2018-03-13 00:00:00')"
      ]
     },
     "execution_count": 128,
     "metadata": {},
     "output_type": "execute_result"
    }
   ],
   "source": [
    "pd.to_datetime('2018-03-13')"
   ]
  },
  {
   "cell_type": "code",
   "execution_count": 129,
   "metadata": {
    "ExecuteTime": {
     "end_time": "2018-09-04T02:37:54.111702Z",
     "start_time": "2018-09-04T02:37:54.099951Z"
    },
    "colab": {
     "base_uri": "https://localhost:8080/",
     "height": 34
    },
    "colab_type": "code",
    "executionInfo": {
     "elapsed": 317,
     "status": "ok",
     "timestamp": 1561132848710,
     "user": {
      "displayName": "Irving Simonin",
      "photoUrl": "",
      "userId": "11641242455350035777"
     },
     "user_tz": 300
    },
    "id": "qqP2d2ykp_b3",
    "outputId": "2917e1a4-4de9-43d2-e4f7-1560cd4004ba"
   },
   "outputs": [
    {
     "data": {
      "text/plain": [
       "Timestamp('2018-03-13 10:30:00')"
      ]
     },
     "execution_count": 129,
     "metadata": {},
     "output_type": "execute_result"
    }
   ],
   "source": [
    "pd.to_datetime('2018-03-13 10:30')"
   ]
  },
  {
   "cell_type": "code",
   "execution_count": 130,
   "metadata": {},
   "outputs": [
    {
     "data": {
      "text/plain": [
       "pandas._libs.tslibs.timestamps.Timestamp"
      ]
     },
     "execution_count": 130,
     "metadata": {},
     "output_type": "execute_result"
    }
   ],
   "source": [
    "type(pd.to_datetime('2018-03-13 10:30'))"
   ]
  },
  {
   "cell_type": "markdown",
   "metadata": {
    "colab_type": "text",
    "id": "HMtBh8hip_cA"
   },
   "source": [
    "Hay que tener cuidado con los formatos de fecha."
   ]
  },
  {
   "cell_type": "code",
   "execution_count": 131,
   "metadata": {
    "ExecuteTime": {
     "end_time": "2018-09-04T02:38:05.458618Z",
     "start_time": "2018-09-04T02:38:05.445755Z"
    },
    "colab": {
     "base_uri": "https://localhost:8080/",
     "height": 34
    },
    "colab_type": "code",
    "executionInfo": {
     "elapsed": 493,
     "status": "ok",
     "timestamp": 1561132883015,
     "user": {
      "displayName": "Irving Simonin",
      "photoUrl": "",
      "userId": "11641242455350035777"
     },
     "user_tz": 300
    },
    "id": "TysERv9xp_cA",
    "outputId": "5bdbf14d-e8ef-4647-c05b-75d41c94b4ec"
   },
   "outputs": [
    {
     "data": {
      "text/plain": [
       "Timestamp('2018-02-01 00:00:00')"
      ]
     },
     "execution_count": 131,
     "metadata": {},
     "output_type": "execute_result"
    }
   ],
   "source": [
    "pd.to_datetime('02-01-2018')"
   ]
  },
  {
   "cell_type": "code",
   "execution_count": 132,
   "metadata": {
    "ExecuteTime": {
     "end_time": "2018-09-04T02:42:55.576004Z",
     "start_time": "2018-09-04T02:42:55.563355Z"
    },
    "colab": {
     "base_uri": "https://localhost:8080/",
     "height": 34
    },
    "colab_type": "code",
    "executionInfo": {
     "elapsed": 443,
     "status": "ok",
     "timestamp": 1561132903184,
     "user": {
      "displayName": "Irving Simonin",
      "photoUrl": "",
      "userId": "11641242455350035777"
     },
     "user_tz": 300
    },
    "id": "KTBmkPgwp_cD",
    "outputId": "60ff6f4b-ceba-40ca-e8dc-8194aef294a8"
   },
   "outputs": [
    {
     "data": {
      "text/plain": [
       "Timestamp('2018-02-01 00:00:00')"
      ]
     },
     "execution_count": 132,
     "metadata": {},
     "output_type": "execute_result"
    }
   ],
   "source": [
    "pd.to_datetime('2-1-2018', format='%m-%d-%Y')"
   ]
  },
  {
   "cell_type": "code",
   "execution_count": 133,
   "metadata": {},
   "outputs": [
    {
     "data": {
      "text/plain": [
       "Timestamp('2018-01-02 00:00:00')"
      ]
     },
     "execution_count": 133,
     "metadata": {},
     "output_type": "execute_result"
    }
   ],
   "source": [
    "pd.to_datetime('2-1-2018', format='%d-%m-%Y')"
   ]
  },
  {
   "cell_type": "code",
   "execution_count": 134,
   "metadata": {
    "ExecuteTime": {
     "end_time": "2018-09-04T02:39:33.691412Z",
     "start_time": "2018-09-04T02:39:33.675050Z"
    },
    "colab": {
     "base_uri": "https://localhost:8080/",
     "height": 34
    },
    "colab_type": "code",
    "executionInfo": {
     "elapsed": 480,
     "status": "ok",
     "timestamp": 1561133040593,
     "user": {
      "displayName": "Irving Simonin",
      "photoUrl": "",
      "userId": "11641242455350035777"
     },
     "user_tz": 300
    },
    "id": "oi7eibLIp_cF",
    "outputId": "d1e755d1-f878-4482-866b-1afb59d1491e"
   },
   "outputs": [
    {
     "data": {
      "text/plain": [
       "datetime.date(2018, 1, 2)"
      ]
     },
     "execution_count": 134,
     "metadata": {},
     "output_type": "execute_result"
    }
   ],
   "source": [
    "pd.to_datetime('02-01-18', format='%d-%m-%y').date()"
   ]
  },
  {
   "cell_type": "markdown",
   "metadata": {
    "colab_type": "text",
    "id": "D_Z3t_YCp_cH"
   },
   "source": [
    "**Ejercicio**: Crea la variable \"fecha\" que use \"Anio mes\" para crear la fecha de cada renglón (usa el primer día de cada mes para el registro). `Hint: Usa assign/apply`"
   ]
  },
  {
   "cell_type": "code",
   "execution_count": 135,
   "metadata": {
    "ExecuteTime": {
     "end_time": "2018-09-06T00:08:38.167094Z",
     "start_time": "2018-09-06T00:08:37.911847Z"
    },
    "colab": {},
    "colab_type": "code",
    "id": "IYo693kZp_cI"
   },
   "outputs": [
    {
     "data": {
      "text/html": [
       "<div>\n",
       "<style scoped>\n",
       "    .dataframe tbody tr th:only-of-type {\n",
       "        vertical-align: middle;\n",
       "    }\n",
       "\n",
       "    .dataframe tbody tr th {\n",
       "        vertical-align: top;\n",
       "    }\n",
       "\n",
       "    .dataframe thead th {\n",
       "        text-align: right;\n",
       "    }\n",
       "</style>\n",
       "<table border=\"1\" class=\"dataframe\">\n",
       "  <thead>\n",
       "    <tr style=\"text-align: right;\">\n",
       "      <th></th>\n",
       "      <th>Anio mes</th>\n",
       "      <th>Codigo IATA</th>\n",
       "      <th>Descripcion</th>\n",
       "      <th>Estado</th>\n",
       "      <th>Pasajeros nacionales</th>\n",
       "      <th>Pasajeros internacionales</th>\n",
       "      <th>fecha</th>\n",
       "    </tr>\n",
       "  </thead>\n",
       "  <tbody>\n",
       "    <tr>\n",
       "      <th>0</th>\n",
       "      <td>201501</td>\n",
       "      <td>CEN</td>\n",
       "      <td>Ciudad Obregon</td>\n",
       "      <td>Sonora</td>\n",
       "      <td>17149</td>\n",
       "      <td>721</td>\n",
       "      <td>2015-01-01</td>\n",
       "    </tr>\n",
       "    <tr>\n",
       "      <th>1</th>\n",
       "      <td>201501</td>\n",
       "      <td>CLQ</td>\n",
       "      <td>Colima</td>\n",
       "      <td>Colima</td>\n",
       "      <td>8486</td>\n",
       "      <td>124</td>\n",
       "      <td>2015-01-01</td>\n",
       "    </tr>\n",
       "    <tr>\n",
       "      <th>2</th>\n",
       "      <td>201501</td>\n",
       "      <td>CME</td>\n",
       "      <td>Ciudad del Carmen</td>\n",
       "      <td>Campeche</td>\n",
       "      <td>56079</td>\n",
       "      <td>3126</td>\n",
       "      <td>2015-01-01</td>\n",
       "    </tr>\n",
       "    <tr>\n",
       "      <th>3</th>\n",
       "      <td>201501</td>\n",
       "      <td>CPE</td>\n",
       "      <td>Campeche</td>\n",
       "      <td>Campeche</td>\n",
       "      <td>13264</td>\n",
       "      <td>215</td>\n",
       "      <td>2015-01-01</td>\n",
       "    </tr>\n",
       "    <tr>\n",
       "      <th>4</th>\n",
       "      <td>201501</td>\n",
       "      <td>CTM</td>\n",
       "      <td>Chetumal</td>\n",
       "      <td>Quintana Roo</td>\n",
       "      <td>13153</td>\n",
       "      <td>0</td>\n",
       "      <td>2015-01-01</td>\n",
       "    </tr>\n",
       "  </tbody>\n",
       "</table>\n",
       "</div>"
      ],
      "text/plain": [
       "   Anio mes Codigo IATA        Descripcion        Estado  \\\n",
       "0    201501         CEN     Ciudad Obregon        Sonora   \n",
       "1    201501         CLQ             Colima        Colima   \n",
       "2    201501         CME  Ciudad del Carmen      Campeche   \n",
       "3    201501         CPE           Campeche      Campeche   \n",
       "4    201501         CTM           Chetumal  Quintana Roo   \n",
       "\n",
       "   Pasajeros nacionales  Pasajeros internacionales      fecha  \n",
       "0                 17149                        721 2015-01-01  \n",
       "1                  8486                        124 2015-01-01  \n",
       "2                 56079                       3126 2015-01-01  \n",
       "3                 13264                        215 2015-01-01  \n",
       "4                 13153                          0 2015-01-01  "
      ]
     },
     "execution_count": 135,
     "metadata": {},
     "output_type": "execute_result"
    }
   ],
   "source": [
    "pas.assign(\n",
    "    fecha=lambda x:(\n",
    "        (x['Anio mes'].astype(str) + '01').apply(pd.to_datetime))\n",
    ").head(5)"
   ]
  },
  {
   "cell_type": "markdown",
   "metadata": {
    "colab_type": "text",
    "id": "WPzQCUIYp_cK"
   },
   "source": [
    "## Funciones universales (ufuncts) para strings y dates\n",
    "\n",
    "Podemos usar métodos de string y fechas usando sub métodos en los Series con formato apropiado."
   ]
  },
  {
   "cell_type": "code",
   "execution_count": 136,
   "metadata": {
    "ExecuteTime": {
     "end_time": "2018-09-06T00:12:52.281693Z",
     "start_time": "2018-09-06T00:12:52.254183Z"
    },
    "colab": {
     "base_uri": "https://localhost:8080/",
     "height": 141
    },
    "colab_type": "code",
    "executionInfo": {
     "elapsed": 548,
     "status": "ok",
     "timestamp": 1561133484321,
     "user": {
      "displayName": "Irving Simonin",
      "photoUrl": "",
      "userId": "11641242455350035777"
     },
     "user_tz": 300
    },
    "id": "yy1rZt37p_cL",
    "outputId": "f775b3e1-4a67-4f33-9d20-5a6afb10a84f"
   },
   "outputs": [
    {
     "data": {
      "text/html": [
       "<div>\n",
       "<style scoped>\n",
       "    .dataframe tbody tr th:only-of-type {\n",
       "        vertical-align: middle;\n",
       "    }\n",
       "\n",
       "    .dataframe tbody tr th {\n",
       "        vertical-align: top;\n",
       "    }\n",
       "\n",
       "    .dataframe thead th {\n",
       "        text-align: right;\n",
       "    }\n",
       "</style>\n",
       "<table border=\"1\" class=\"dataframe\">\n",
       "  <thead>\n",
       "    <tr style=\"text-align: right;\">\n",
       "      <th></th>\n",
       "      <th>Nombre_completo</th>\n",
       "      <th>Fecha_nacimiento</th>\n",
       "    </tr>\n",
       "  </thead>\n",
       "  <tbody>\n",
       "    <tr>\n",
       "      <th>0</th>\n",
       "      <td>Hannibal Lecter</td>\n",
       "      <td>1933-01-20</td>\n",
       "    </tr>\n",
       "    <tr>\n",
       "      <th>1</th>\n",
       "      <td>Marty McFly</td>\n",
       "      <td>1968-06-12</td>\n",
       "    </tr>\n",
       "    <tr>\n",
       "      <th>2</th>\n",
       "      <td>Walter White</td>\n",
       "      <td>1958-11-07</td>\n",
       "    </tr>\n",
       "  </tbody>\n",
       "</table>\n",
       "</div>"
      ],
      "text/plain": [
       "   Nombre_completo Fecha_nacimiento\n",
       "0  Hannibal Lecter       1933-01-20\n",
       "1      Marty McFly       1968-06-12\n",
       "2     Walter White       1958-11-07"
      ]
     },
     "execution_count": 136,
     "metadata": {},
     "output_type": "execute_result"
    }
   ],
   "source": [
    "datos = pd.DataFrame({\n",
    "    'Nombre_completo': ['Hannibal Lecter', 'Marty McFly', 'Walter White'],\n",
    "    'Fecha_nacimiento': pd.to_datetime(['19330120', '19680612', '19581107'])\n",
    "})\n",
    "datos"
   ]
  },
  {
   "cell_type": "code",
   "execution_count": 137,
   "metadata": {
    "ExecuteTime": {
     "end_time": "2018-09-06T00:17:06.178784Z",
     "start_time": "2018-09-06T00:17:06.164724Z"
    },
    "colab": {
     "base_uri": "https://localhost:8080/",
     "height": 86
    },
    "colab_type": "code",
    "executionInfo": {
     "elapsed": 448,
     "status": "ok",
     "timestamp": 1561133558781,
     "user": {
      "displayName": "Irving Simonin",
      "photoUrl": "",
      "userId": "11641242455350035777"
     },
     "user_tz": 300
    },
    "id": "glWU493ap_cO",
    "outputId": "15ce5d5c-eb88-4136-ed51-cce330aed277"
   },
   "outputs": [
    {
     "data": {
      "text/plain": [
       "0    Han\n",
       "1    Mar\n",
       "2    Wal\n",
       "Name: Nombre_completo, dtype: object"
      ]
     },
     "execution_count": 137,
     "metadata": {},
     "output_type": "execute_result"
    }
   ],
   "source": [
    "datos.Nombre_completo.str[0:3]"
   ]
  },
  {
   "cell_type": "code",
   "execution_count": 138,
   "metadata": {
    "ExecuteTime": {
     "end_time": "2018-09-06T00:18:18.324291Z",
     "start_time": "2018-09-06T00:18:18.305982Z"
    },
    "colab": {
     "base_uri": "https://localhost:8080/",
     "height": 86
    },
    "colab_type": "code",
    "executionInfo": {
     "elapsed": 397,
     "status": "ok",
     "timestamp": 1561133600038,
     "user": {
      "displayName": "Irving Simonin",
      "photoUrl": "",
      "userId": "11641242455350035777"
     },
     "user_tz": 300
    },
    "id": "V2tGFqYdp_cR",
    "outputId": "458d2efd-3293-4201-a252-c8df5f62ff31"
   },
   "outputs": [
    {
     "data": {
      "text/plain": [
       "0    [Hannibal, Lecter]\n",
       "1        [Marty, McFly]\n",
       "2       [Walter, White]\n",
       "Name: Nombre_completo, dtype: object"
      ]
     },
     "execution_count": 138,
     "metadata": {},
     "output_type": "execute_result"
    }
   ],
   "source": [
    "datos.Nombre_completo.str.split()"
   ]
  },
  {
   "cell_type": "code",
   "execution_count": 139,
   "metadata": {
    "ExecuteTime": {
     "end_time": "2018-09-06T00:18:59.577170Z",
     "start_time": "2018-09-06T00:18:59.565773Z"
    },
    "colab": {
     "base_uri": "https://localhost:8080/",
     "height": 86
    },
    "colab_type": "code",
    "executionInfo": {
     "elapsed": 309,
     "status": "ok",
     "timestamp": 1561133630282,
     "user": {
      "displayName": "Irving Simonin",
      "photoUrl": "",
      "userId": "11641242455350035777"
     },
     "user_tz": 300
    },
    "id": "FnJb6T7Fp_cT",
    "outputId": "345222ee-6d81-4316-dd37-0ec211f9ec71"
   },
   "outputs": [
    {
     "data": {
      "text/plain": [
       "0    Lecter\n",
       "1     McFly\n",
       "2     White\n",
       "Name: Nombre_completo, dtype: object"
      ]
     },
     "execution_count": 139,
     "metadata": {},
     "output_type": "execute_result"
    }
   ],
   "source": [
    "datos.Nombre_completo.str.split().str.get(1)"
   ]
  },
  {
   "cell_type": "code",
   "execution_count": 140,
   "metadata": {
    "ExecuteTime": {
     "end_time": "2018-09-06T00:19:18.226883Z",
     "start_time": "2018-09-06T00:19:18.201347Z"
    },
    "colab": {
     "base_uri": "https://localhost:8080/",
     "height": 141
    },
    "colab_type": "code",
    "executionInfo": {
     "elapsed": 357,
     "status": "ok",
     "timestamp": 1561133704235,
     "user": {
      "displayName": "Irving Simonin",
      "photoUrl": "",
      "userId": "11641242455350035777"
     },
     "user_tz": 300
    },
    "id": "BzymgP-1p_cV",
    "outputId": "df25f190-dc3c-43a7-cab1-38bf3cdc6601"
   },
   "outputs": [
    {
     "data": {
      "text/html": [
       "<div>\n",
       "<style scoped>\n",
       "    .dataframe tbody tr th:only-of-type {\n",
       "        vertical-align: middle;\n",
       "    }\n",
       "\n",
       "    .dataframe tbody tr th {\n",
       "        vertical-align: top;\n",
       "    }\n",
       "\n",
       "    .dataframe thead th {\n",
       "        text-align: right;\n",
       "    }\n",
       "</style>\n",
       "<table border=\"1\" class=\"dataframe\">\n",
       "  <thead>\n",
       "    <tr style=\"text-align: right;\">\n",
       "      <th></th>\n",
       "      <th>0</th>\n",
       "      <th>1</th>\n",
       "    </tr>\n",
       "  </thead>\n",
       "  <tbody>\n",
       "    <tr>\n",
       "      <th>0</th>\n",
       "      <td>Hannibal</td>\n",
       "      <td>Lecter</td>\n",
       "    </tr>\n",
       "    <tr>\n",
       "      <th>1</th>\n",
       "      <td>Marty</td>\n",
       "      <td>McFly</td>\n",
       "    </tr>\n",
       "    <tr>\n",
       "      <th>2</th>\n",
       "      <td>Walter</td>\n",
       "      <td>White</td>\n",
       "    </tr>\n",
       "  </tbody>\n",
       "</table>\n",
       "</div>"
      ],
      "text/plain": [
       "          0       1\n",
       "0  Hannibal  Lecter\n",
       "1     Marty   McFly\n",
       "2    Walter   White"
      ]
     },
     "execution_count": 140,
     "metadata": {},
     "output_type": "execute_result"
    }
   ],
   "source": [
    "datos.Nombre_completo.str.split(expand=True)"
   ]
  },
  {
   "cell_type": "code",
   "execution_count": 141,
   "metadata": {
    "ExecuteTime": {
     "end_time": "2018-09-06T00:20:23.582920Z",
     "start_time": "2018-09-06T00:20:23.566501Z"
    },
    "colab": {
     "base_uri": "https://localhost:8080/",
     "height": 86
    },
    "colab_type": "code",
    "executionInfo": {
     "elapsed": 437,
     "status": "ok",
     "timestamp": 1561133720991,
     "user": {
      "displayName": "Irving Simonin",
      "photoUrl": "",
      "userId": "11641242455350035777"
     },
     "user_tz": 300
    },
    "id": "BOVtzmUip_cW",
    "outputId": "47fd8654-4ab1-4429-9e39-11b71566d573"
   },
   "outputs": [
    {
     "data": {
      "text/plain": [
       "0    Hannibal-Lecter\n",
       "1        Marty-McFly\n",
       "2       Walter-White\n",
       "Name: Nombre_completo, dtype: object"
      ]
     },
     "execution_count": 141,
     "metadata": {},
     "output_type": "execute_result"
    }
   ],
   "source": [
    "datos.Nombre_completo.str.replace(' ', '-')"
   ]
  },
  {
   "cell_type": "code",
   "execution_count": 142,
   "metadata": {
    "ExecuteTime": {
     "end_time": "2018-09-06T00:21:04.598081Z",
     "start_time": "2018-09-06T00:21:04.592807Z"
    },
    "colab": {
     "base_uri": "https://localhost:8080/",
     "height": 34
    },
    "colab_type": "code",
    "executionInfo": {
     "elapsed": 320,
     "status": "ok",
     "timestamp": 1561133732767,
     "user": {
      "displayName": "Irving Simonin",
      "photoUrl": "",
      "userId": "11641242455350035777"
     },
     "user_tz": 300
    },
    "id": "P3QuOCE_p_cX",
    "outputId": "d57218f2-3299-4ce0-d0bc-e5dd56f34107"
   },
   "outputs": [
    {
     "data": {
      "text/plain": [
       "'Hannibal Lecter, Marty McFly, Walter White'"
      ]
     },
     "execution_count": 142,
     "metadata": {},
     "output_type": "execute_result"
    }
   ],
   "source": [
    "datos.Nombre_completo.str.cat(sep=', ')"
   ]
  },
  {
   "cell_type": "code",
   "execution_count": 143,
   "metadata": {
    "ExecuteTime": {
     "end_time": "2018-09-06T00:22:25.820479Z",
     "start_time": "2018-09-06T00:22:25.815514Z"
    },
    "colab": {
     "base_uri": "https://localhost:8080/",
     "height": 86
    },
    "colab_type": "code",
    "executionInfo": {
     "elapsed": 308,
     "status": "ok",
     "timestamp": 1561133927864,
     "user": {
      "displayName": "Irving Simonin",
      "photoUrl": "",
      "userId": "11641242455350035777"
     },
     "user_tz": 300
    },
    "id": "p6-EEl2Zp_cZ",
    "outputId": "3c56323a-915d-45b7-8ab6-24cf511c1c3b"
   },
   "outputs": [
    {
     "data": {
      "text/plain": [
       "0    1933\n",
       "1    1968\n",
       "2    1958\n",
       "Name: Fecha_nacimiento, dtype: int64"
      ]
     },
     "execution_count": 143,
     "metadata": {},
     "output_type": "execute_result"
    }
   ],
   "source": [
    "datos.Fecha_nacimiento.dt.year"
   ]
  },
  {
   "cell_type": "markdown",
   "metadata": {
    "colab_type": "text",
    "id": "zOiNjUL9p_ca"
   },
   "source": [
    "Fusilado de la documentación:\n",
    "\n",
    "|`Property` |\tDescription |\n",
    "| --- |--- | \n",
    "|`year` |\tThe year of the datetime |\n",
    "|`month` |\tThe month of the datetime |\n",
    "|`day` |\tThe days of the datetime |\n",
    "|`hour` |\tThe hour of the datetime |\n",
    "|`minute` |\tThe minutes of the datetime |\n",
    "|`second` |\tThe seconds of the datetime |\n",
    "|`microsecond` |\tThe microseconds of the datetime |\n",
    "|`nanosecond` |\tThe nanoseconds of the datetime |\n",
    "|`date` |\tReturns datetime.date (does not contain timezone information) |\n",
    "|`time` |\tReturns datetime.time (does not contain timezone information) |\n",
    "|`dayofyear` |\tThe ordinal day of year |\n",
    "|`weekofyear` |\tThe week ordinal of the year |\n",
    "|`week` |\tThe week ordinal of the year |\n",
    "|`dayofweek` |\tThe number of the day of the week with Monday=0, Sunday=6 |\n",
    "|`weekday` |\tThe number of the day of the week with Monday=0, Sunday=6 |\n",
    "|`weekday_name` |\tThe name of the day in a week (ex: Friday) |\n",
    "|`quarter` |\tQuarter of the date: Jan-Mar = 1, Apr-Jun = 2, etc. |\n",
    "|`days_in_month` |\tThe number of days in the month of the datetime |\n",
    "|`is_month_start` |\tLogical indicating if first day of month (defined by frequency) |\n",
    "|`is_month_end` |\tLogical indicating if last day of month (defined by frequency) |\n",
    "|`is_quarter_start` |\tLogical indicating if first day of quarter (defined by frequency) |\n",
    "|`is_quarter_end` |\tLogical indicating if last day of quarter (defined by frequency) |\n",
    "|`is_year_start` |\tLogical indicating if first day of year (defined by frequency) |\n",
    "|`is_year_end` |\tLogical indicating if last day of year (defined by frequency) |\n",
    "|`is_leap_year` |\tLogical indicating if the date belongs to a leap year |"
   ]
  },
  {
   "cell_type": "markdown",
   "metadata": {
    "colab_type": "text",
    "id": "c_syDazjp_ca"
   },
   "source": [
    "## Ejercicios\n",
    "\n",
    "### Usando Operaciones y Pasajeros:\n",
    "\n",
    "* Encuentra el promedio y desviación estándar anual de operaciones nacionales e internacionales de los dos estados con mayor número de pasajeros internacionales de 2017.\n",
    "* ¿Hay alguna relación entre las operaciones y los pasajeros?\n",
    "* ¿Crees que usando esas dos variables podrías obtener una mejor idea del precio de los boletos? Crea esa variable\n",
    "* Usando esa variable ¿Hay alguna ciudad que sea mucho más cara que las demás?"
   ]
  },
  {
   "cell_type": "code",
   "execution_count": null,
   "metadata": {},
   "outputs": [],
   "source": []
  },
  {
   "cell_type": "code",
   "execution_count": null,
   "metadata": {},
   "outputs": [],
   "source": []
  },
  {
   "cell_type": "code",
   "execution_count": null,
   "metadata": {},
   "outputs": [],
   "source": []
  },
  {
   "cell_type": "code",
   "execution_count": null,
   "metadata": {},
   "outputs": [],
   "source": []
  },
  {
   "cell_type": "code",
   "execution_count": null,
   "metadata": {},
   "outputs": [],
   "source": []
  },
  {
   "cell_type": "code",
   "execution_count": null,
   "metadata": {},
   "outputs": [],
   "source": []
  },
  {
   "cell_type": "code",
   "execution_count": null,
   "metadata": {},
   "outputs": [],
   "source": []
  },
  {
   "cell_type": "code",
   "execution_count": null,
   "metadata": {},
   "outputs": [],
   "source": []
  },
  {
   "cell_type": "code",
   "execution_count": null,
   "metadata": {},
   "outputs": [],
   "source": []
  },
  {
   "cell_type": "code",
   "execution_count": null,
   "metadata": {},
   "outputs": [],
   "source": []
  },
  {
   "cell_type": "markdown",
   "metadata": {},
   "source": [
    "<script>\n",
    "  $(document).ready(function(){\n",
    "    $('div.prompt').hide();\n",
    "    $('div.back-to-top').hide();\n",
    "    $('nav#menubar').hide();\n",
    "    $('.breadcrumb').hide();\n",
    "    $('.hidden-print').hide();\n",
    "  });\n",
    "</script>\n",
    "\n",
    "<footer id=\"attribution\" style=\"float:right; color:#808080; background:#fff;\">\n",
    "Created with Jupyter by Irving Simonin. Modified by Franck Enríquez\n",
    "</footer>"
   ]
  }
 ],
 "metadata": {
  "colab": {
   "name": "Pandas_s2.ipynb",
   "provenance": [],
   "version": "0.3.2"
  },
  "kernelspec": {
   "display_name": "Python 3 (ipykernel)",
   "language": "python",
   "name": "python3"
  },
  "language_info": {
   "codemirror_mode": {
    "name": "ipython",
    "version": 3
   },
   "file_extension": ".py",
   "mimetype": "text/x-python",
   "name": "python",
   "nbconvert_exporter": "python",
   "pygments_lexer": "ipython3",
   "version": "3.8.2"
  }
 },
 "nbformat": 4,
 "nbformat_minor": 1
}
